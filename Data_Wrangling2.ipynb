{
  "nbformat": 4,
  "nbformat_minor": 0,
  "metadata": {
    "colab": {
      "name": "Data_Wrangling2.ipynb",
      "provenance": [],
      "collapsed_sections": [],
      "authorship_tag": "ABX9TyMUk/MNgQLlUEeVlJhEfbtT",
      "include_colab_link": true
    },
    "kernelspec": {
      "name": "python3",
      "display_name": "Python 3"
    }
  },
  "cells": [
    {
      "cell_type": "markdown",
      "metadata": {
        "id": "view-in-github",
        "colab_type": "text"
      },
      "source": [
        "<a href=\"https://colab.research.google.com/github/shreyasur/Data_Wrangling_Assignment/blob/main/Data_Wrangling2.ipynb\" target=\"_parent\"><img src=\"https://colab.research.google.com/assets/colab-badge.svg\" alt=\"Open In Colab\"/></a>"
      ]
    },
    {
      "cell_type": "code",
      "metadata": {
        "id": "H0Kcdw1R1tX4"
      },
      "source": [
        ""
      ],
      "execution_count": null,
      "outputs": []
    },
    {
      "cell_type": "code",
      "metadata": {
        "id": "2y06m7nx9sEK"
      },
      "source": [
        "import numpy as np\n",
        "import pandas as pd\n",
        "import io\n",
        "from google.colab import files"
      ],
      "execution_count": 1,
      "outputs": []
    },
    {
      "cell_type": "code",
      "metadata": {
        "id": "28JEZkaA9z2y",
        "outputId": "d386803e-8214-4117-b905-006c9fc9b5da",
        "colab": {
          "resources": {
            "http://localhost:8080/nbextensions/google.colab/files.js": {
              "data": "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",
              "ok": true,
              "headers": [
                [
                  "content-type",
                  "application/javascript"
                ]
              ],
              "status": 200,
              "status_text": ""
            }
          },
          "base_uri": "https://localhost:8080/",
          "height": 834
        }
      },
      "source": [
        "uploaded = files.upload()\n",
        "patients = pd.read_csv(io.StringIO(uploaded['patients.csv'].decode('utf-8')))\n",
        "patients"
      ],
      "execution_count": 2,
      "outputs": [
        {
          "output_type": "display_data",
          "data": {
            "text/html": [
              "\n",
              "     <input type=\"file\" id=\"files-247af283-a0a0-4c7a-87be-ee6e54241be4\" name=\"files[]\" multiple disabled\n",
              "        style=\"border:none\" />\n",
              "     <output id=\"result-247af283-a0a0-4c7a-87be-ee6e54241be4\">\n",
              "      Upload widget is only available when the cell has been executed in the\n",
              "      current browser session. Please rerun this cell to enable.\n",
              "      </output>\n",
              "      <script src=\"/nbextensions/google.colab/files.js\"></script> "
            ],
            "text/plain": [
              "<IPython.core.display.HTML object>"
            ]
          },
          "metadata": {
            "tags": []
          }
        },
        {
          "output_type": "stream",
          "text": [
            "Saving patients.csv to patients.csv\n"
          ],
          "name": "stdout"
        },
        {
          "output_type": "execute_result",
          "data": {
            "text/html": [
              "<div>\n",
              "<style scoped>\n",
              "    .dataframe tbody tr th:only-of-type {\n",
              "        vertical-align: middle;\n",
              "    }\n",
              "\n",
              "    .dataframe tbody tr th {\n",
              "        vertical-align: top;\n",
              "    }\n",
              "\n",
              "    .dataframe thead th {\n",
              "        text-align: right;\n",
              "    }\n",
              "</style>\n",
              "<table border=\"1\" class=\"dataframe\">\n",
              "  <thead>\n",
              "    <tr style=\"text-align: right;\">\n",
              "      <th></th>\n",
              "      <th>patient_id</th>\n",
              "      <th>assigned_sex</th>\n",
              "      <th>given_name</th>\n",
              "      <th>surname</th>\n",
              "      <th>address</th>\n",
              "      <th>city</th>\n",
              "      <th>state</th>\n",
              "      <th>zip_code</th>\n",
              "      <th>country</th>\n",
              "      <th>contact</th>\n",
              "      <th>birthdate</th>\n",
              "      <th>weight</th>\n",
              "      <th>height</th>\n",
              "      <th>bmi</th>\n",
              "    </tr>\n",
              "  </thead>\n",
              "  <tbody>\n",
              "    <tr>\n",
              "      <th>0</th>\n",
              "      <td>1</td>\n",
              "      <td>female</td>\n",
              "      <td>Zoe</td>\n",
              "      <td>Wellish</td>\n",
              "      <td>576 Brown Bear Drive</td>\n",
              "      <td>Rancho California</td>\n",
              "      <td>California</td>\n",
              "      <td>92390.0</td>\n",
              "      <td>United States</td>\n",
              "      <td>951-719-9170ZoeWellish@superrito.com</td>\n",
              "      <td>7/10/1976</td>\n",
              "      <td>121.7</td>\n",
              "      <td>66</td>\n",
              "      <td>19.6</td>\n",
              "    </tr>\n",
              "    <tr>\n",
              "      <th>1</th>\n",
              "      <td>2</td>\n",
              "      <td>female</td>\n",
              "      <td>Pamela</td>\n",
              "      <td>Hill</td>\n",
              "      <td>2370 University Hill Road</td>\n",
              "      <td>Armstrong</td>\n",
              "      <td>Illinois</td>\n",
              "      <td>61812.0</td>\n",
              "      <td>United States</td>\n",
              "      <td>PamelaSHill@cuvox.de+1 (217) 569-3204</td>\n",
              "      <td>4/3/1967</td>\n",
              "      <td>118.8</td>\n",
              "      <td>66</td>\n",
              "      <td>19.2</td>\n",
              "    </tr>\n",
              "    <tr>\n",
              "      <th>2</th>\n",
              "      <td>3</td>\n",
              "      <td>male</td>\n",
              "      <td>Jae</td>\n",
              "      <td>Debord</td>\n",
              "      <td>1493 Poling Farm Road</td>\n",
              "      <td>York</td>\n",
              "      <td>Nebraska</td>\n",
              "      <td>68467.0</td>\n",
              "      <td>United States</td>\n",
              "      <td>402-363-6804JaeMDebord@gustr.com</td>\n",
              "      <td>2/19/1980</td>\n",
              "      <td>177.8</td>\n",
              "      <td>71</td>\n",
              "      <td>24.8</td>\n",
              "    </tr>\n",
              "    <tr>\n",
              "      <th>3</th>\n",
              "      <td>4</td>\n",
              "      <td>male</td>\n",
              "      <td>Liêm</td>\n",
              "      <td>Phan</td>\n",
              "      <td>2335 Webster Street</td>\n",
              "      <td>Woodbridge</td>\n",
              "      <td>NJ</td>\n",
              "      <td>7095.0</td>\n",
              "      <td>United States</td>\n",
              "      <td>PhanBaLiem@jourrapide.com+1 (732) 636-8246</td>\n",
              "      <td>7/26/1951</td>\n",
              "      <td>220.9</td>\n",
              "      <td>70</td>\n",
              "      <td>31.7</td>\n",
              "    </tr>\n",
              "    <tr>\n",
              "      <th>4</th>\n",
              "      <td>5</td>\n",
              "      <td>male</td>\n",
              "      <td>Tim</td>\n",
              "      <td>Neudorf</td>\n",
              "      <td>1428 Turkey Pen Lane</td>\n",
              "      <td>Dothan</td>\n",
              "      <td>AL</td>\n",
              "      <td>36303.0</td>\n",
              "      <td>United States</td>\n",
              "      <td>334-515-7487TimNeudorf@cuvox.de</td>\n",
              "      <td>2/18/1928</td>\n",
              "      <td>192.3</td>\n",
              "      <td>27</td>\n",
              "      <td>26.1</td>\n",
              "    </tr>\n",
              "    <tr>\n",
              "      <th>...</th>\n",
              "      <td>...</td>\n",
              "      <td>...</td>\n",
              "      <td>...</td>\n",
              "      <td>...</td>\n",
              "      <td>...</td>\n",
              "      <td>...</td>\n",
              "      <td>...</td>\n",
              "      <td>...</td>\n",
              "      <td>...</td>\n",
              "      <td>...</td>\n",
              "      <td>...</td>\n",
              "      <td>...</td>\n",
              "      <td>...</td>\n",
              "      <td>...</td>\n",
              "    </tr>\n",
              "    <tr>\n",
              "      <th>498</th>\n",
              "      <td>499</td>\n",
              "      <td>male</td>\n",
              "      <td>Mustafa</td>\n",
              "      <td>Lindström</td>\n",
              "      <td>2530 Victoria Court</td>\n",
              "      <td>Milton Mills</td>\n",
              "      <td>ME</td>\n",
              "      <td>3852.0</td>\n",
              "      <td>United States</td>\n",
              "      <td>207-477-0579MustafaLindstrom@jourrapide.com</td>\n",
              "      <td>4/10/1959</td>\n",
              "      <td>181.1</td>\n",
              "      <td>72</td>\n",
              "      <td>24.6</td>\n",
              "    </tr>\n",
              "    <tr>\n",
              "      <th>499</th>\n",
              "      <td>500</td>\n",
              "      <td>male</td>\n",
              "      <td>Ruman</td>\n",
              "      <td>Bisliev</td>\n",
              "      <td>494 Clarksburg Park Road</td>\n",
              "      <td>Sedona</td>\n",
              "      <td>AZ</td>\n",
              "      <td>86341.0</td>\n",
              "      <td>United States</td>\n",
              "      <td>928-284-4492RumanBisliev@gustr.com</td>\n",
              "      <td>3/26/1948</td>\n",
              "      <td>239.6</td>\n",
              "      <td>70</td>\n",
              "      <td>34.4</td>\n",
              "    </tr>\n",
              "    <tr>\n",
              "      <th>500</th>\n",
              "      <td>501</td>\n",
              "      <td>female</td>\n",
              "      <td>Jinke</td>\n",
              "      <td>de Keizer</td>\n",
              "      <td>649 Nutter Street</td>\n",
              "      <td>Overland Park</td>\n",
              "      <td>MO</td>\n",
              "      <td>64110.0</td>\n",
              "      <td>United States</td>\n",
              "      <td>816-223-6007JinkedeKeizer@teleworm.us</td>\n",
              "      <td>1/13/1971</td>\n",
              "      <td>171.2</td>\n",
              "      <td>67</td>\n",
              "      <td>26.8</td>\n",
              "    </tr>\n",
              "    <tr>\n",
              "      <th>501</th>\n",
              "      <td>502</td>\n",
              "      <td>female</td>\n",
              "      <td>Chidalu</td>\n",
              "      <td>Onyekaozulu</td>\n",
              "      <td>3652 Boone Crockett Lane</td>\n",
              "      <td>Seattle</td>\n",
              "      <td>WA</td>\n",
              "      <td>98109.0</td>\n",
              "      <td>United States</td>\n",
              "      <td>ChidaluOnyekaozulu@jourrapide.com1 360 443 2060</td>\n",
              "      <td>2/13/1952</td>\n",
              "      <td>176.9</td>\n",
              "      <td>67</td>\n",
              "      <td>27.7</td>\n",
              "    </tr>\n",
              "    <tr>\n",
              "      <th>502</th>\n",
              "      <td>503</td>\n",
              "      <td>male</td>\n",
              "      <td>Pat</td>\n",
              "      <td>Gersten</td>\n",
              "      <td>2778 North Avenue</td>\n",
              "      <td>Burr</td>\n",
              "      <td>Nebraska</td>\n",
              "      <td>68324.0</td>\n",
              "      <td>United States</td>\n",
              "      <td>PatrickGersten@rhyta.com402-848-4923</td>\n",
              "      <td>5/3/1954</td>\n",
              "      <td>138.2</td>\n",
              "      <td>71</td>\n",
              "      <td>19.3</td>\n",
              "    </tr>\n",
              "  </tbody>\n",
              "</table>\n",
              "<p>503 rows × 14 columns</p>\n",
              "</div>"
            ],
            "text/plain": [
              "     patient_id assigned_sex given_name  ... weight height   bmi\n",
              "0             1       female        Zoe  ...  121.7     66  19.6\n",
              "1             2       female     Pamela  ...  118.8     66  19.2\n",
              "2             3         male        Jae  ...  177.8     71  24.8\n",
              "3             4         male       Liêm  ...  220.9     70  31.7\n",
              "4             5         male        Tim  ...  192.3     27  26.1\n",
              "..          ...          ...        ...  ...    ...    ...   ...\n",
              "498         499         male    Mustafa  ...  181.1     72  24.6\n",
              "499         500         male      Ruman  ...  239.6     70  34.4\n",
              "500         501       female      Jinke  ...  171.2     67  26.8\n",
              "501         502       female    Chidalu  ...  176.9     67  27.7\n",
              "502         503         male        Pat  ...  138.2     71  19.3\n",
              "\n",
              "[503 rows x 14 columns]"
            ]
          },
          "metadata": {
            "tags": []
          },
          "execution_count": 2
        }
      ]
    },
    {
      "cell_type": "code",
      "metadata": {
        "id": "sF-tzwHX2QL1",
        "outputId": "16e151e4-4cc7-42e0-8a00-a43e6d975b23",
        "colab": {
          "resources": {
            "http://localhost:8080/nbextensions/google.colab/files.js": {
              "data": "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",
              "ok": true,
              "headers": [
                [
                  "content-type",
                  "application/javascript"
                ]
              ],
              "status": 200,
              "status_text": ""
            }
          },
          "base_uri": "https://localhost:8080/",
          "height": 474
        }
      },
      "source": [
        "uploaded = files.upload()\n",
        "treatment = pd.read_csv(io.StringIO(uploaded['treatments.csv'].decode('utf-8')))\n",
        "treatment"
      ],
      "execution_count": 3,
      "outputs": [
        {
          "output_type": "display_data",
          "data": {
            "text/html": [
              "\n",
              "     <input type=\"file\" id=\"files-85a7bfe7-acb6-4ae1-b6c6-6c1d821757ec\" name=\"files[]\" multiple disabled\n",
              "        style=\"border:none\" />\n",
              "     <output id=\"result-85a7bfe7-acb6-4ae1-b6c6-6c1d821757ec\">\n",
              "      Upload widget is only available when the cell has been executed in the\n",
              "      current browser session. Please rerun this cell to enable.\n",
              "      </output>\n",
              "      <script src=\"/nbextensions/google.colab/files.js\"></script> "
            ],
            "text/plain": [
              "<IPython.core.display.HTML object>"
            ]
          },
          "metadata": {
            "tags": []
          }
        },
        {
          "output_type": "stream",
          "text": [
            "Saving treatments.csv to treatments.csv\n"
          ],
          "name": "stdout"
        },
        {
          "output_type": "execute_result",
          "data": {
            "text/html": [
              "<div>\n",
              "<style scoped>\n",
              "    .dataframe tbody tr th:only-of-type {\n",
              "        vertical-align: middle;\n",
              "    }\n",
              "\n",
              "    .dataframe tbody tr th {\n",
              "        vertical-align: top;\n",
              "    }\n",
              "\n",
              "    .dataframe thead th {\n",
              "        text-align: right;\n",
              "    }\n",
              "</style>\n",
              "<table border=\"1\" class=\"dataframe\">\n",
              "  <thead>\n",
              "    <tr style=\"text-align: right;\">\n",
              "      <th></th>\n",
              "      <th>given_name</th>\n",
              "      <th>surname</th>\n",
              "      <th>auralin</th>\n",
              "      <th>novodra</th>\n",
              "      <th>hba1c_start</th>\n",
              "      <th>hba1c_end</th>\n",
              "      <th>hba1c_change</th>\n",
              "    </tr>\n",
              "  </thead>\n",
              "  <tbody>\n",
              "    <tr>\n",
              "      <th>0</th>\n",
              "      <td>veronika</td>\n",
              "      <td>jindrová</td>\n",
              "      <td>41u - 48u</td>\n",
              "      <td>-</td>\n",
              "      <td>7.63</td>\n",
              "      <td>7.20</td>\n",
              "      <td>NaN</td>\n",
              "    </tr>\n",
              "    <tr>\n",
              "      <th>1</th>\n",
              "      <td>elliot</td>\n",
              "      <td>richardson</td>\n",
              "      <td>-</td>\n",
              "      <td>40u - 45u</td>\n",
              "      <td>7.56</td>\n",
              "      <td>7.09</td>\n",
              "      <td>0.97</td>\n",
              "    </tr>\n",
              "    <tr>\n",
              "      <th>2</th>\n",
              "      <td>yukitaka</td>\n",
              "      <td>takenaka</td>\n",
              "      <td>-</td>\n",
              "      <td>39u - 36u</td>\n",
              "      <td>7.68</td>\n",
              "      <td>7.25</td>\n",
              "      <td>NaN</td>\n",
              "    </tr>\n",
              "    <tr>\n",
              "      <th>3</th>\n",
              "      <td>skye</td>\n",
              "      <td>gormanston</td>\n",
              "      <td>33u - 36u</td>\n",
              "      <td>-</td>\n",
              "      <td>7.97</td>\n",
              "      <td>7.62</td>\n",
              "      <td>0.35</td>\n",
              "    </tr>\n",
              "    <tr>\n",
              "      <th>4</th>\n",
              "      <td>alissa</td>\n",
              "      <td>montez</td>\n",
              "      <td>-</td>\n",
              "      <td>33u - 29u</td>\n",
              "      <td>7.78</td>\n",
              "      <td>7.46</td>\n",
              "      <td>0.32</td>\n",
              "    </tr>\n",
              "    <tr>\n",
              "      <th>...</th>\n",
              "      <td>...</td>\n",
              "      <td>...</td>\n",
              "      <td>...</td>\n",
              "      <td>...</td>\n",
              "      <td>...</td>\n",
              "      <td>...</td>\n",
              "      <td>...</td>\n",
              "    </tr>\n",
              "    <tr>\n",
              "      <th>275</th>\n",
              "      <td>albina</td>\n",
              "      <td>zetticci</td>\n",
              "      <td>45u - 51u</td>\n",
              "      <td>-</td>\n",
              "      <td>7.93</td>\n",
              "      <td>7.73</td>\n",
              "      <td>0.20</td>\n",
              "    </tr>\n",
              "    <tr>\n",
              "      <th>276</th>\n",
              "      <td>john</td>\n",
              "      <td>teichelmann</td>\n",
              "      <td>-</td>\n",
              "      <td>49u - 49u</td>\n",
              "      <td>7.90</td>\n",
              "      <td>7.58</td>\n",
              "      <td>NaN</td>\n",
              "    </tr>\n",
              "    <tr>\n",
              "      <th>277</th>\n",
              "      <td>mathea</td>\n",
              "      <td>lillebø</td>\n",
              "      <td>23u - 36u</td>\n",
              "      <td>-</td>\n",
              "      <td>9.04</td>\n",
              "      <td>8.67</td>\n",
              "      <td>0.37</td>\n",
              "    </tr>\n",
              "    <tr>\n",
              "      <th>278</th>\n",
              "      <td>vallie</td>\n",
              "      <td>prince</td>\n",
              "      <td>31u - 38u</td>\n",
              "      <td>-</td>\n",
              "      <td>7.64</td>\n",
              "      <td>7.28</td>\n",
              "      <td>0.36</td>\n",
              "    </tr>\n",
              "    <tr>\n",
              "      <th>279</th>\n",
              "      <td>samúel</td>\n",
              "      <td>guðbrandsson</td>\n",
              "      <td>53u - 56u</td>\n",
              "      <td>-</td>\n",
              "      <td>8.00</td>\n",
              "      <td>7.64</td>\n",
              "      <td>0.36</td>\n",
              "    </tr>\n",
              "  </tbody>\n",
              "</table>\n",
              "<p>280 rows × 7 columns</p>\n",
              "</div>"
            ],
            "text/plain": [
              "    given_name       surname    auralin  ... hba1c_start  hba1c_end  hba1c_change\n",
              "0     veronika      jindrová  41u - 48u  ...        7.63       7.20           NaN\n",
              "1       elliot    richardson          -  ...        7.56       7.09          0.97\n",
              "2     yukitaka      takenaka          -  ...        7.68       7.25           NaN\n",
              "3         skye    gormanston  33u - 36u  ...        7.97       7.62          0.35\n",
              "4       alissa        montez          -  ...        7.78       7.46          0.32\n",
              "..         ...           ...        ...  ...         ...        ...           ...\n",
              "275     albina      zetticci  45u - 51u  ...        7.93       7.73          0.20\n",
              "276       john   teichelmann          -  ...        7.90       7.58           NaN\n",
              "277     mathea       lillebø  23u - 36u  ...        9.04       8.67          0.37\n",
              "278     vallie        prince  31u - 38u  ...        7.64       7.28          0.36\n",
              "279     samúel  guðbrandsson  53u - 56u  ...        8.00       7.64          0.36\n",
              "\n",
              "[280 rows x 7 columns]"
            ]
          },
          "metadata": {
            "tags": []
          },
          "execution_count": 3
        }
      ]
    },
    {
      "cell_type": "code",
      "metadata": {
        "id": "5iAI1tf_2bMf",
        "outputId": "ee25fea1-094e-496c-ef4f-83686cfd3ed9",
        "colab": {
          "resources": {
            "http://localhost:8080/nbextensions/google.colab/files.js": {
              "data": "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",
              "ok": true,
              "headers": [
                [
                  "content-type",
                  "application/javascript"
                ]
              ],
              "status": 200,
              "status_text": ""
            }
          },
          "base_uri": "https://localhost:8080/",
          "height": 1000
        }
      },
      "source": [
        "uploaded = files.upload()\n",
        "adverse = pd.read_csv(io.StringIO(uploaded['adverse_reactions.csv'].decode('utf-8')))\n",
        "\n",
        "adverse"
      ],
      "execution_count": 4,
      "outputs": [
        {
          "output_type": "display_data",
          "data": {
            "text/html": [
              "\n",
              "     <input type=\"file\" id=\"files-8992f2ac-29aa-47e7-9563-cacb1374098f\" name=\"files[]\" multiple disabled\n",
              "        style=\"border:none\" />\n",
              "     <output id=\"result-8992f2ac-29aa-47e7-9563-cacb1374098f\">\n",
              "      Upload widget is only available when the cell has been executed in the\n",
              "      current browser session. Please rerun this cell to enable.\n",
              "      </output>\n",
              "      <script src=\"/nbextensions/google.colab/files.js\"></script> "
            ],
            "text/plain": [
              "<IPython.core.display.HTML object>"
            ]
          },
          "metadata": {
            "tags": []
          }
        },
        {
          "output_type": "stream",
          "text": [
            "Saving adverse_reactions.csv to adverse_reactions.csv\n"
          ],
          "name": "stdout"
        },
        {
          "output_type": "execute_result",
          "data": {
            "text/html": [
              "<div>\n",
              "<style scoped>\n",
              "    .dataframe tbody tr th:only-of-type {\n",
              "        vertical-align: middle;\n",
              "    }\n",
              "\n",
              "    .dataframe tbody tr th {\n",
              "        vertical-align: top;\n",
              "    }\n",
              "\n",
              "    .dataframe thead th {\n",
              "        text-align: right;\n",
              "    }\n",
              "</style>\n",
              "<table border=\"1\" class=\"dataframe\">\n",
              "  <thead>\n",
              "    <tr style=\"text-align: right;\">\n",
              "      <th></th>\n",
              "      <th>given_name</th>\n",
              "      <th>surname</th>\n",
              "      <th>adverse_reaction</th>\n",
              "    </tr>\n",
              "  </thead>\n",
              "  <tbody>\n",
              "    <tr>\n",
              "      <th>0</th>\n",
              "      <td>berta</td>\n",
              "      <td>napolitani</td>\n",
              "      <td>injection site discomfort</td>\n",
              "    </tr>\n",
              "    <tr>\n",
              "      <th>1</th>\n",
              "      <td>lena</td>\n",
              "      <td>baer</td>\n",
              "      <td>hypoglycemia</td>\n",
              "    </tr>\n",
              "    <tr>\n",
              "      <th>2</th>\n",
              "      <td>joseph</td>\n",
              "      <td>day</td>\n",
              "      <td>hypoglycemia</td>\n",
              "    </tr>\n",
              "    <tr>\n",
              "      <th>3</th>\n",
              "      <td>flavia</td>\n",
              "      <td>fiorentino</td>\n",
              "      <td>cough</td>\n",
              "    </tr>\n",
              "    <tr>\n",
              "      <th>4</th>\n",
              "      <td>manouck</td>\n",
              "      <td>wubbels</td>\n",
              "      <td>throat irritation</td>\n",
              "    </tr>\n",
              "    <tr>\n",
              "      <th>5</th>\n",
              "      <td>jasmine</td>\n",
              "      <td>sykes</td>\n",
              "      <td>hypoglycemia</td>\n",
              "    </tr>\n",
              "    <tr>\n",
              "      <th>6</th>\n",
              "      <td>louise</td>\n",
              "      <td>johnson</td>\n",
              "      <td>hypoglycemia</td>\n",
              "    </tr>\n",
              "    <tr>\n",
              "      <th>7</th>\n",
              "      <td>albinca</td>\n",
              "      <td>komavec</td>\n",
              "      <td>hypoglycemia</td>\n",
              "    </tr>\n",
              "    <tr>\n",
              "      <th>8</th>\n",
              "      <td>noe</td>\n",
              "      <td>aranda</td>\n",
              "      <td>hypoglycemia</td>\n",
              "    </tr>\n",
              "    <tr>\n",
              "      <th>9</th>\n",
              "      <td>sofia</td>\n",
              "      <td>hermansen</td>\n",
              "      <td>injection site discomfort</td>\n",
              "    </tr>\n",
              "    <tr>\n",
              "      <th>10</th>\n",
              "      <td>tegan</td>\n",
              "      <td>johnson</td>\n",
              "      <td>headache</td>\n",
              "    </tr>\n",
              "    <tr>\n",
              "      <th>11</th>\n",
              "      <td>abel</td>\n",
              "      <td>yonatan</td>\n",
              "      <td>cough</td>\n",
              "    </tr>\n",
              "    <tr>\n",
              "      <th>12</th>\n",
              "      <td>abdul-nur</td>\n",
              "      <td>isa</td>\n",
              "      <td>hypoglycemia</td>\n",
              "    </tr>\n",
              "    <tr>\n",
              "      <th>13</th>\n",
              "      <td>leon</td>\n",
              "      <td>scholz</td>\n",
              "      <td>injection site discomfort</td>\n",
              "    </tr>\n",
              "    <tr>\n",
              "      <th>14</th>\n",
              "      <td>gabriele</td>\n",
              "      <td>saenger</td>\n",
              "      <td>hypoglycemia</td>\n",
              "    </tr>\n",
              "    <tr>\n",
              "      <th>15</th>\n",
              "      <td>jia li</td>\n",
              "      <td>teng</td>\n",
              "      <td>nausea</td>\n",
              "    </tr>\n",
              "    <tr>\n",
              "      <th>16</th>\n",
              "      <td>jakob</td>\n",
              "      <td>jakobsen</td>\n",
              "      <td>hypoglycemia</td>\n",
              "    </tr>\n",
              "    <tr>\n",
              "      <th>17</th>\n",
              "      <td>christopher</td>\n",
              "      <td>woodward</td>\n",
              "      <td>nausea</td>\n",
              "    </tr>\n",
              "    <tr>\n",
              "      <th>18</th>\n",
              "      <td>ole</td>\n",
              "      <td>petersen</td>\n",
              "      <td>hypoglycemia</td>\n",
              "    </tr>\n",
              "    <tr>\n",
              "      <th>19</th>\n",
              "      <td>finley</td>\n",
              "      <td>chandler</td>\n",
              "      <td>headache</td>\n",
              "    </tr>\n",
              "    <tr>\n",
              "      <th>20</th>\n",
              "      <td>anenechi</td>\n",
              "      <td>chidi</td>\n",
              "      <td>hypoglycemia</td>\n",
              "    </tr>\n",
              "    <tr>\n",
              "      <th>21</th>\n",
              "      <td>miłosław</td>\n",
              "      <td>wiśniewski</td>\n",
              "      <td>injection site discomfort</td>\n",
              "    </tr>\n",
              "    <tr>\n",
              "      <th>22</th>\n",
              "      <td>lixue</td>\n",
              "      <td>hsueh</td>\n",
              "      <td>injection site discomfort</td>\n",
              "    </tr>\n",
              "    <tr>\n",
              "      <th>23</th>\n",
              "      <td>merci</td>\n",
              "      <td>leroux</td>\n",
              "      <td>hypoglycemia</td>\n",
              "    </tr>\n",
              "    <tr>\n",
              "      <th>24</th>\n",
              "      <td>kang</td>\n",
              "      <td>mai</td>\n",
              "      <td>injection site discomfort</td>\n",
              "    </tr>\n",
              "    <tr>\n",
              "      <th>25</th>\n",
              "      <td>elliot</td>\n",
              "      <td>richardson</td>\n",
              "      <td>hypoglycemia</td>\n",
              "    </tr>\n",
              "    <tr>\n",
              "      <th>26</th>\n",
              "      <td>clinton</td>\n",
              "      <td>miller</td>\n",
              "      <td>throat irritation</td>\n",
              "    </tr>\n",
              "    <tr>\n",
              "      <th>27</th>\n",
              "      <td>idalia</td>\n",
              "      <td>moore</td>\n",
              "      <td>hypoglycemia</td>\n",
              "    </tr>\n",
              "    <tr>\n",
              "      <th>28</th>\n",
              "      <td>xiuxiu</td>\n",
              "      <td>chang</td>\n",
              "      <td>hypoglycemia</td>\n",
              "    </tr>\n",
              "    <tr>\n",
              "      <th>29</th>\n",
              "      <td>alex</td>\n",
              "      <td>crawford</td>\n",
              "      <td>hypoglycemia</td>\n",
              "    </tr>\n",
              "    <tr>\n",
              "      <th>30</th>\n",
              "      <td>monika</td>\n",
              "      <td>lončar</td>\n",
              "      <td>hypoglycemia</td>\n",
              "    </tr>\n",
              "    <tr>\n",
              "      <th>31</th>\n",
              "      <td>steven</td>\n",
              "      <td>roy</td>\n",
              "      <td>headache</td>\n",
              "    </tr>\n",
              "    <tr>\n",
              "      <th>32</th>\n",
              "      <td>cecilie</td>\n",
              "      <td>nilsen</td>\n",
              "      <td>hypoglycemia</td>\n",
              "    </tr>\n",
              "    <tr>\n",
              "      <th>33</th>\n",
              "      <td>krisztina</td>\n",
              "      <td>magyar</td>\n",
              "      <td>hypoglycemia</td>\n",
              "    </tr>\n",
              "  </tbody>\n",
              "</table>\n",
              "</div>"
            ],
            "text/plain": [
              "     given_name     surname           adverse_reaction\n",
              "0         berta  napolitani  injection site discomfort\n",
              "1          lena        baer               hypoglycemia\n",
              "2        joseph         day               hypoglycemia\n",
              "3        flavia  fiorentino                      cough\n",
              "4       manouck     wubbels          throat irritation\n",
              "5       jasmine       sykes               hypoglycemia\n",
              "6        louise     johnson               hypoglycemia\n",
              "7       albinca     komavec               hypoglycemia\n",
              "8           noe      aranda               hypoglycemia\n",
              "9         sofia   hermansen  injection site discomfort\n",
              "10        tegan     johnson                   headache\n",
              "11         abel     yonatan                      cough\n",
              "12    abdul-nur         isa               hypoglycemia\n",
              "13         leon      scholz  injection site discomfort\n",
              "14     gabriele     saenger               hypoglycemia\n",
              "15       jia li        teng                     nausea\n",
              "16        jakob    jakobsen               hypoglycemia\n",
              "17  christopher    woodward                     nausea\n",
              "18          ole    petersen               hypoglycemia\n",
              "19       finley    chandler                   headache\n",
              "20     anenechi       chidi               hypoglycemia\n",
              "21     miłosław  wiśniewski  injection site discomfort\n",
              "22        lixue       hsueh  injection site discomfort\n",
              "23        merci      leroux               hypoglycemia\n",
              "24         kang         mai  injection site discomfort\n",
              "25       elliot  richardson               hypoglycemia\n",
              "26      clinton      miller          throat irritation\n",
              "27       idalia       moore               hypoglycemia\n",
              "28       xiuxiu       chang               hypoglycemia\n",
              "29         alex    crawford               hypoglycemia\n",
              "30       monika      lončar               hypoglycemia\n",
              "31       steven         roy                   headache\n",
              "32      cecilie      nilsen               hypoglycemia\n",
              "33    krisztina      magyar               hypoglycemia"
            ]
          },
          "metadata": {
            "tags": []
          },
          "execution_count": 4
        }
      ]
    },
    {
      "cell_type": "code",
      "metadata": {
        "id": "6pS62x7V23iJ",
        "outputId": "8dae55f5-86fc-433b-ac0e-6bafec9268d4",
        "colab": {
          "base_uri": "https://localhost:8080/",
          "height": 68
        }
      },
      "source": [
        "print(patients.shape)\n",
        "print(treatment.shape)\n",
        "print(adverse.shape)"
      ],
      "execution_count": 5,
      "outputs": [
        {
          "output_type": "stream",
          "text": [
            "(503, 14)\n",
            "(280, 7)\n",
            "(34, 3)\n"
          ],
          "name": "stdout"
        }
      ]
    },
    {
      "cell_type": "code",
      "metadata": {
        "id": "uA5VTVd7x2M2",
        "outputId": "a5cecb06-13ae-428c-ce33-47b80db03695",
        "colab": {
          "base_uri": "https://localhost:8080/",
          "height": 357
        }
      },
      "source": [
        "patients.head()"
      ],
      "execution_count": 6,
      "outputs": [
        {
          "output_type": "execute_result",
          "data": {
            "text/html": [
              "<div>\n",
              "<style scoped>\n",
              "    .dataframe tbody tr th:only-of-type {\n",
              "        vertical-align: middle;\n",
              "    }\n",
              "\n",
              "    .dataframe tbody tr th {\n",
              "        vertical-align: top;\n",
              "    }\n",
              "\n",
              "    .dataframe thead th {\n",
              "        text-align: right;\n",
              "    }\n",
              "</style>\n",
              "<table border=\"1\" class=\"dataframe\">\n",
              "  <thead>\n",
              "    <tr style=\"text-align: right;\">\n",
              "      <th></th>\n",
              "      <th>patient_id</th>\n",
              "      <th>assigned_sex</th>\n",
              "      <th>given_name</th>\n",
              "      <th>surname</th>\n",
              "      <th>address</th>\n",
              "      <th>city</th>\n",
              "      <th>state</th>\n",
              "      <th>zip_code</th>\n",
              "      <th>country</th>\n",
              "      <th>contact</th>\n",
              "      <th>birthdate</th>\n",
              "      <th>weight</th>\n",
              "      <th>height</th>\n",
              "      <th>bmi</th>\n",
              "    </tr>\n",
              "  </thead>\n",
              "  <tbody>\n",
              "    <tr>\n",
              "      <th>0</th>\n",
              "      <td>1</td>\n",
              "      <td>female</td>\n",
              "      <td>Zoe</td>\n",
              "      <td>Wellish</td>\n",
              "      <td>576 Brown Bear Drive</td>\n",
              "      <td>Rancho California</td>\n",
              "      <td>California</td>\n",
              "      <td>92390.0</td>\n",
              "      <td>United States</td>\n",
              "      <td>951-719-9170ZoeWellish@superrito.com</td>\n",
              "      <td>7/10/1976</td>\n",
              "      <td>121.7</td>\n",
              "      <td>66</td>\n",
              "      <td>19.6</td>\n",
              "    </tr>\n",
              "    <tr>\n",
              "      <th>1</th>\n",
              "      <td>2</td>\n",
              "      <td>female</td>\n",
              "      <td>Pamela</td>\n",
              "      <td>Hill</td>\n",
              "      <td>2370 University Hill Road</td>\n",
              "      <td>Armstrong</td>\n",
              "      <td>Illinois</td>\n",
              "      <td>61812.0</td>\n",
              "      <td>United States</td>\n",
              "      <td>PamelaSHill@cuvox.de+1 (217) 569-3204</td>\n",
              "      <td>4/3/1967</td>\n",
              "      <td>118.8</td>\n",
              "      <td>66</td>\n",
              "      <td>19.2</td>\n",
              "    </tr>\n",
              "    <tr>\n",
              "      <th>2</th>\n",
              "      <td>3</td>\n",
              "      <td>male</td>\n",
              "      <td>Jae</td>\n",
              "      <td>Debord</td>\n",
              "      <td>1493 Poling Farm Road</td>\n",
              "      <td>York</td>\n",
              "      <td>Nebraska</td>\n",
              "      <td>68467.0</td>\n",
              "      <td>United States</td>\n",
              "      <td>402-363-6804JaeMDebord@gustr.com</td>\n",
              "      <td>2/19/1980</td>\n",
              "      <td>177.8</td>\n",
              "      <td>71</td>\n",
              "      <td>24.8</td>\n",
              "    </tr>\n",
              "    <tr>\n",
              "      <th>3</th>\n",
              "      <td>4</td>\n",
              "      <td>male</td>\n",
              "      <td>Liêm</td>\n",
              "      <td>Phan</td>\n",
              "      <td>2335 Webster Street</td>\n",
              "      <td>Woodbridge</td>\n",
              "      <td>NJ</td>\n",
              "      <td>7095.0</td>\n",
              "      <td>United States</td>\n",
              "      <td>PhanBaLiem@jourrapide.com+1 (732) 636-8246</td>\n",
              "      <td>7/26/1951</td>\n",
              "      <td>220.9</td>\n",
              "      <td>70</td>\n",
              "      <td>31.7</td>\n",
              "    </tr>\n",
              "    <tr>\n",
              "      <th>4</th>\n",
              "      <td>5</td>\n",
              "      <td>male</td>\n",
              "      <td>Tim</td>\n",
              "      <td>Neudorf</td>\n",
              "      <td>1428 Turkey Pen Lane</td>\n",
              "      <td>Dothan</td>\n",
              "      <td>AL</td>\n",
              "      <td>36303.0</td>\n",
              "      <td>United States</td>\n",
              "      <td>334-515-7487TimNeudorf@cuvox.de</td>\n",
              "      <td>2/18/1928</td>\n",
              "      <td>192.3</td>\n",
              "      <td>27</td>\n",
              "      <td>26.1</td>\n",
              "    </tr>\n",
              "  </tbody>\n",
              "</table>\n",
              "</div>"
            ],
            "text/plain": [
              "   patient_id assigned_sex given_name  surname  ...  birthdate weight height   bmi\n",
              "0           1       female        Zoe  Wellish  ...  7/10/1976  121.7     66  19.6\n",
              "1           2       female     Pamela     Hill  ...   4/3/1967  118.8     66  19.2\n",
              "2           3         male        Jae   Debord  ...  2/19/1980  177.8     71  24.8\n",
              "3           4         male       Liêm     Phan  ...  7/26/1951  220.9     70  31.7\n",
              "4           5         male        Tim  Neudorf  ...  2/18/1928  192.3     27  26.1\n",
              "\n",
              "[5 rows x 14 columns]"
            ]
          },
          "metadata": {
            "tags": []
          },
          "execution_count": 6
        }
      ]
    },
    {
      "cell_type": "code",
      "metadata": {
        "id": "I53-sNtfIziU",
        "outputId": "1dd0a574-4924-44a3-fe12-5de0db0725d9",
        "colab": {
          "base_uri": "https://localhost:8080/",
          "height": 394
        }
      },
      "source": [
        "patients.sample(5)"
      ],
      "execution_count": 7,
      "outputs": [
        {
          "output_type": "execute_result",
          "data": {
            "text/html": [
              "<div>\n",
              "<style scoped>\n",
              "    .dataframe tbody tr th:only-of-type {\n",
              "        vertical-align: middle;\n",
              "    }\n",
              "\n",
              "    .dataframe tbody tr th {\n",
              "        vertical-align: top;\n",
              "    }\n",
              "\n",
              "    .dataframe thead th {\n",
              "        text-align: right;\n",
              "    }\n",
              "</style>\n",
              "<table border=\"1\" class=\"dataframe\">\n",
              "  <thead>\n",
              "    <tr style=\"text-align: right;\">\n",
              "      <th></th>\n",
              "      <th>patient_id</th>\n",
              "      <th>assigned_sex</th>\n",
              "      <th>given_name</th>\n",
              "      <th>surname</th>\n",
              "      <th>address</th>\n",
              "      <th>city</th>\n",
              "      <th>state</th>\n",
              "      <th>zip_code</th>\n",
              "      <th>country</th>\n",
              "      <th>contact</th>\n",
              "      <th>birthdate</th>\n",
              "      <th>weight</th>\n",
              "      <th>height</th>\n",
              "      <th>bmi</th>\n",
              "    </tr>\n",
              "  </thead>\n",
              "  <tbody>\n",
              "    <tr>\n",
              "      <th>250</th>\n",
              "      <td>251</td>\n",
              "      <td>female</td>\n",
              "      <td>Mee</td>\n",
              "      <td>Chung</td>\n",
              "      <td>3084 Blue Spruce Lane</td>\n",
              "      <td>Dundalk</td>\n",
              "      <td>MD</td>\n",
              "      <td>21222.0</td>\n",
              "      <td>United States</td>\n",
              "      <td>410-284-8935MeeChung@teleworm.us</td>\n",
              "      <td>10/27/1932</td>\n",
              "      <td>206.1</td>\n",
              "      <td>64</td>\n",
              "      <td>35.4</td>\n",
              "    </tr>\n",
              "    <tr>\n",
              "      <th>339</th>\n",
              "      <td>340</td>\n",
              "      <td>male</td>\n",
              "      <td>Pavel</td>\n",
              "      <td>Filípek</td>\n",
              "      <td>3094 Oral Lake Road</td>\n",
              "      <td>Apple Valley</td>\n",
              "      <td>MN</td>\n",
              "      <td>55124.0</td>\n",
              "      <td>United States</td>\n",
              "      <td>PavelFilipek@rhyta.com1 952 431 5166</td>\n",
              "      <td>8/18/1977</td>\n",
              "      <td>229.0</td>\n",
              "      <td>67</td>\n",
              "      <td>35.9</td>\n",
              "    </tr>\n",
              "    <tr>\n",
              "      <th>216</th>\n",
              "      <td>217</td>\n",
              "      <td>female</td>\n",
              "      <td>Gabrielle</td>\n",
              "      <td>Bidwill</td>\n",
              "      <td>3479 Elm Drive</td>\n",
              "      <td>Manhattan</td>\n",
              "      <td>New York</td>\n",
              "      <td>10016.0</td>\n",
              "      <td>United States</td>\n",
              "      <td>646-472-4758GabrielleBidwill@teleworm.us</td>\n",
              "      <td>10/11/1963</td>\n",
              "      <td>170.1</td>\n",
              "      <td>67</td>\n",
              "      <td>26.6</td>\n",
              "    </tr>\n",
              "    <tr>\n",
              "      <th>286</th>\n",
              "      <td>287</td>\n",
              "      <td>male</td>\n",
              "      <td>Lewis</td>\n",
              "      <td>Webb</td>\n",
              "      <td>NaN</td>\n",
              "      <td>NaN</td>\n",
              "      <td>NaN</td>\n",
              "      <td>NaN</td>\n",
              "      <td>NaN</td>\n",
              "      <td>NaN</td>\n",
              "      <td>4/1/1979</td>\n",
              "      <td>155.3</td>\n",
              "      <td>68</td>\n",
              "      <td>23.6</td>\n",
              "    </tr>\n",
              "    <tr>\n",
              "      <th>91</th>\n",
              "      <td>92</td>\n",
              "      <td>female</td>\n",
              "      <td>Caroline</td>\n",
              "      <td>Shuler</td>\n",
              "      <td>1403 Clousson Road</td>\n",
              "      <td>Houston</td>\n",
              "      <td>TX</td>\n",
              "      <td>77002.0</td>\n",
              "      <td>United States</td>\n",
              "      <td>CarolineTShuler@jourrapide.com713-230-1739</td>\n",
              "      <td>3/8/1949</td>\n",
              "      <td>218.7</td>\n",
              "      <td>66</td>\n",
              "      <td>35.3</td>\n",
              "    </tr>\n",
              "  </tbody>\n",
              "</table>\n",
              "</div>"
            ],
            "text/plain": [
              "     patient_id assigned_sex given_name  ... weight height   bmi\n",
              "250         251       female        Mee  ...  206.1     64  35.4\n",
              "339         340         male      Pavel  ...  229.0     67  35.9\n",
              "216         217       female  Gabrielle  ...  170.1     67  26.6\n",
              "286         287         male      Lewis  ...  155.3     68  23.6\n",
              "91           92       female   Caroline  ...  218.7     66  35.3\n",
              "\n",
              "[5 rows x 14 columns]"
            ]
          },
          "metadata": {
            "tags": []
          },
          "execution_count": 7
        }
      ]
    },
    {
      "cell_type": "code",
      "metadata": {
        "id": "63tjBb615h5R",
        "outputId": "a187985d-d548-4809-e47f-4759a19fb446",
        "colab": {
          "base_uri": "https://localhost:8080/",
          "height": 204
        }
      },
      "source": [
        "treatment.head()"
      ],
      "execution_count": 8,
      "outputs": [
        {
          "output_type": "execute_result",
          "data": {
            "text/html": [
              "<div>\n",
              "<style scoped>\n",
              "    .dataframe tbody tr th:only-of-type {\n",
              "        vertical-align: middle;\n",
              "    }\n",
              "\n",
              "    .dataframe tbody tr th {\n",
              "        vertical-align: top;\n",
              "    }\n",
              "\n",
              "    .dataframe thead th {\n",
              "        text-align: right;\n",
              "    }\n",
              "</style>\n",
              "<table border=\"1\" class=\"dataframe\">\n",
              "  <thead>\n",
              "    <tr style=\"text-align: right;\">\n",
              "      <th></th>\n",
              "      <th>given_name</th>\n",
              "      <th>surname</th>\n",
              "      <th>auralin</th>\n",
              "      <th>novodra</th>\n",
              "      <th>hba1c_start</th>\n",
              "      <th>hba1c_end</th>\n",
              "      <th>hba1c_change</th>\n",
              "    </tr>\n",
              "  </thead>\n",
              "  <tbody>\n",
              "    <tr>\n",
              "      <th>0</th>\n",
              "      <td>veronika</td>\n",
              "      <td>jindrová</td>\n",
              "      <td>41u - 48u</td>\n",
              "      <td>-</td>\n",
              "      <td>7.63</td>\n",
              "      <td>7.20</td>\n",
              "      <td>NaN</td>\n",
              "    </tr>\n",
              "    <tr>\n",
              "      <th>1</th>\n",
              "      <td>elliot</td>\n",
              "      <td>richardson</td>\n",
              "      <td>-</td>\n",
              "      <td>40u - 45u</td>\n",
              "      <td>7.56</td>\n",
              "      <td>7.09</td>\n",
              "      <td>0.97</td>\n",
              "    </tr>\n",
              "    <tr>\n",
              "      <th>2</th>\n",
              "      <td>yukitaka</td>\n",
              "      <td>takenaka</td>\n",
              "      <td>-</td>\n",
              "      <td>39u - 36u</td>\n",
              "      <td>7.68</td>\n",
              "      <td>7.25</td>\n",
              "      <td>NaN</td>\n",
              "    </tr>\n",
              "    <tr>\n",
              "      <th>3</th>\n",
              "      <td>skye</td>\n",
              "      <td>gormanston</td>\n",
              "      <td>33u - 36u</td>\n",
              "      <td>-</td>\n",
              "      <td>7.97</td>\n",
              "      <td>7.62</td>\n",
              "      <td>0.35</td>\n",
              "    </tr>\n",
              "    <tr>\n",
              "      <th>4</th>\n",
              "      <td>alissa</td>\n",
              "      <td>montez</td>\n",
              "      <td>-</td>\n",
              "      <td>33u - 29u</td>\n",
              "      <td>7.78</td>\n",
              "      <td>7.46</td>\n",
              "      <td>0.32</td>\n",
              "    </tr>\n",
              "  </tbody>\n",
              "</table>\n",
              "</div>"
            ],
            "text/plain": [
              "  given_name     surname    auralin  ... hba1c_start  hba1c_end  hba1c_change\n",
              "0   veronika    jindrová  41u - 48u  ...        7.63       7.20           NaN\n",
              "1     elliot  richardson          -  ...        7.56       7.09          0.97\n",
              "2   yukitaka    takenaka          -  ...        7.68       7.25           NaN\n",
              "3       skye  gormanston  33u - 36u  ...        7.97       7.62          0.35\n",
              "4     alissa      montez          -  ...        7.78       7.46          0.32\n",
              "\n",
              "[5 rows x 7 columns]"
            ]
          },
          "metadata": {
            "tags": []
          },
          "execution_count": 8
        }
      ]
    },
    {
      "cell_type": "code",
      "metadata": {
        "id": "ZBUF4Qqrx7XX",
        "outputId": "0ea7f8ff-b0de-462a-fea1-f037fbc8c489",
        "colab": {
          "base_uri": "https://localhost:8080/",
          "height": 204
        }
      },
      "source": [
        "adverse.head()"
      ],
      "execution_count": 9,
      "outputs": [
        {
          "output_type": "execute_result",
          "data": {
            "text/html": [
              "<div>\n",
              "<style scoped>\n",
              "    .dataframe tbody tr th:only-of-type {\n",
              "        vertical-align: middle;\n",
              "    }\n",
              "\n",
              "    .dataframe tbody tr th {\n",
              "        vertical-align: top;\n",
              "    }\n",
              "\n",
              "    .dataframe thead th {\n",
              "        text-align: right;\n",
              "    }\n",
              "</style>\n",
              "<table border=\"1\" class=\"dataframe\">\n",
              "  <thead>\n",
              "    <tr style=\"text-align: right;\">\n",
              "      <th></th>\n",
              "      <th>given_name</th>\n",
              "      <th>surname</th>\n",
              "      <th>adverse_reaction</th>\n",
              "    </tr>\n",
              "  </thead>\n",
              "  <tbody>\n",
              "    <tr>\n",
              "      <th>0</th>\n",
              "      <td>berta</td>\n",
              "      <td>napolitani</td>\n",
              "      <td>injection site discomfort</td>\n",
              "    </tr>\n",
              "    <tr>\n",
              "      <th>1</th>\n",
              "      <td>lena</td>\n",
              "      <td>baer</td>\n",
              "      <td>hypoglycemia</td>\n",
              "    </tr>\n",
              "    <tr>\n",
              "      <th>2</th>\n",
              "      <td>joseph</td>\n",
              "      <td>day</td>\n",
              "      <td>hypoglycemia</td>\n",
              "    </tr>\n",
              "    <tr>\n",
              "      <th>3</th>\n",
              "      <td>flavia</td>\n",
              "      <td>fiorentino</td>\n",
              "      <td>cough</td>\n",
              "    </tr>\n",
              "    <tr>\n",
              "      <th>4</th>\n",
              "      <td>manouck</td>\n",
              "      <td>wubbels</td>\n",
              "      <td>throat irritation</td>\n",
              "    </tr>\n",
              "  </tbody>\n",
              "</table>\n",
              "</div>"
            ],
            "text/plain": [
              "  given_name     surname           adverse_reaction\n",
              "0      berta  napolitani  injection site discomfort\n",
              "1       lena        baer               hypoglycemia\n",
              "2     joseph         day               hypoglycemia\n",
              "3     flavia  fiorentino                      cough\n",
              "4    manouck     wubbels          throat irritation"
            ]
          },
          "metadata": {
            "tags": []
          },
          "execution_count": 9
        }
      ]
    },
    {
      "cell_type": "markdown",
      "metadata": {
        "id": "IhgwL7QstnBu"
      },
      "source": [
        "#####QUALITY\n",
        "\n",
        "[ completeness, validity, accurate, consistency]\n",
        "\n",
        "####1.PATIENTS\n",
        " - Zip code column is stored in decimal format [V] (done)\n",
        " - certain zipcodes are of 4 digits [V] (done)\n",
        " - for the state column sometimes full names are used and other times short forms are used [IC] (done)\n",
        " - Missing values for contact details [C] (done)\n",
        " - incorrect data types for assigned_sex and birthdate(done)\n",
        " - Errorneous data for weights(min weight = 48 pounds) and height (min height = 27 inches) [A] (done)\n",
        " - inconsistent way of storing phone numbers in contact column [IC]\n",
        " - duplicate and not useful data in dataset(needs to be removed) [IC] (done)\n",
        "\n",
        "####2.TREATMENTS\n",
        "- hba1c_change col has missing values(109 values) [C] (DONE)\n",
        "- Novodra and Auralin columns has u attached to numbers [V] (DONE)\n",
        "- only 280 rows are present, instead of 350 [C] (DONE)\n",
        "- Name and surname column is in lowercase, different from the format in given in patients table(camel case) [IC] (DONE)\n",
        "- incorrect data type for Auralin and Novodra [V] (DONE)\n",
        "- in hba1c_change 9 instead of 4 [A] (DONE)\n",
        "- use of dashes instead of NaN in aurolin and novodra columns[IC] (DONE)\n",
        "\n",
        "\n",
        "#####3.ADVERSE REACTION\n",
        "\n",
        "- name and surname in lower case [IC] (DONE)\n"
      ]
    },
    {
      "cell_type": "code",
      "metadata": {
        "id": "Vc7qcDlguFyK",
        "outputId": "953e6da5-456a-4ba8-96a0-2dd623d78bea",
        "colab": {
          "base_uri": "https://localhost:8080/",
          "height": 374
        }
      },
      "source": [
        "patients.info()"
      ],
      "execution_count": 10,
      "outputs": [
        {
          "output_type": "stream",
          "text": [
            "<class 'pandas.core.frame.DataFrame'>\n",
            "RangeIndex: 503 entries, 0 to 502\n",
            "Data columns (total 14 columns):\n",
            " #   Column        Non-Null Count  Dtype  \n",
            "---  ------        --------------  -----  \n",
            " 0   patient_id    503 non-null    int64  \n",
            " 1   assigned_sex  503 non-null    object \n",
            " 2   given_name    503 non-null    object \n",
            " 3   surname       503 non-null    object \n",
            " 4   address       491 non-null    object \n",
            " 5   city          491 non-null    object \n",
            " 6   state         491 non-null    object \n",
            " 7   zip_code      491 non-null    float64\n",
            " 8   country       491 non-null    object \n",
            " 9   contact       491 non-null    object \n",
            " 10  birthdate     503 non-null    object \n",
            " 11  weight        503 non-null    float64\n",
            " 12  height        503 non-null    int64  \n",
            " 13  bmi           503 non-null    float64\n",
            "dtypes: float64(3), int64(2), object(9)\n",
            "memory usage: 55.1+ KB\n"
          ],
          "name": "stdout"
        }
      ]
    },
    {
      "cell_type": "code",
      "metadata": {
        "id": "HwKcrp6dwgVI",
        "outputId": "e2d8c709-cbc4-412b-ac7a-d86f680741a7",
        "colab": {
          "base_uri": "https://localhost:8080/",
          "height": 272
        }
      },
      "source": [
        "patients.isnull().sum()"
      ],
      "execution_count": 11,
      "outputs": [
        {
          "output_type": "execute_result",
          "data": {
            "text/plain": [
              "patient_id       0\n",
              "assigned_sex     0\n",
              "given_name       0\n",
              "surname          0\n",
              "address         12\n",
              "city            12\n",
              "state           12\n",
              "zip_code        12\n",
              "country         12\n",
              "contact         12\n",
              "birthdate        0\n",
              "weight           0\n",
              "height           0\n",
              "bmi              0\n",
              "dtype: int64"
            ]
          },
          "metadata": {
            "tags": []
          },
          "execution_count": 11
        }
      ]
    },
    {
      "cell_type": "code",
      "metadata": {
        "id": "7IKcmIMbxNmV",
        "outputId": "602d1300-96a5-4f85-c45a-d3797bacbb39",
        "colab": {
          "base_uri": "https://localhost:8080/",
          "height": 421
        }
      },
      "source": [
        "patients[patients['address'].isnull()]"
      ],
      "execution_count": 12,
      "outputs": [
        {
          "output_type": "execute_result",
          "data": {
            "text/html": [
              "<div>\n",
              "<style scoped>\n",
              "    .dataframe tbody tr th:only-of-type {\n",
              "        vertical-align: middle;\n",
              "    }\n",
              "\n",
              "    .dataframe tbody tr th {\n",
              "        vertical-align: top;\n",
              "    }\n",
              "\n",
              "    .dataframe thead th {\n",
              "        text-align: right;\n",
              "    }\n",
              "</style>\n",
              "<table border=\"1\" class=\"dataframe\">\n",
              "  <thead>\n",
              "    <tr style=\"text-align: right;\">\n",
              "      <th></th>\n",
              "      <th>patient_id</th>\n",
              "      <th>assigned_sex</th>\n",
              "      <th>given_name</th>\n",
              "      <th>surname</th>\n",
              "      <th>address</th>\n",
              "      <th>city</th>\n",
              "      <th>state</th>\n",
              "      <th>zip_code</th>\n",
              "      <th>country</th>\n",
              "      <th>contact</th>\n",
              "      <th>birthdate</th>\n",
              "      <th>weight</th>\n",
              "      <th>height</th>\n",
              "      <th>bmi</th>\n",
              "    </tr>\n",
              "  </thead>\n",
              "  <tbody>\n",
              "    <tr>\n",
              "      <th>209</th>\n",
              "      <td>210</td>\n",
              "      <td>female</td>\n",
              "      <td>Lalita</td>\n",
              "      <td>Eldarkhanov</td>\n",
              "      <td>NaN</td>\n",
              "      <td>NaN</td>\n",
              "      <td>NaN</td>\n",
              "      <td>NaN</td>\n",
              "      <td>NaN</td>\n",
              "      <td>NaN</td>\n",
              "      <td>8/14/1950</td>\n",
              "      <td>143.4</td>\n",
              "      <td>62</td>\n",
              "      <td>26.2</td>\n",
              "    </tr>\n",
              "    <tr>\n",
              "      <th>219</th>\n",
              "      <td>220</td>\n",
              "      <td>male</td>\n",
              "      <td>Mỹ</td>\n",
              "      <td>Quynh</td>\n",
              "      <td>NaN</td>\n",
              "      <td>NaN</td>\n",
              "      <td>NaN</td>\n",
              "      <td>NaN</td>\n",
              "      <td>NaN</td>\n",
              "      <td>NaN</td>\n",
              "      <td>4/9/1978</td>\n",
              "      <td>237.8</td>\n",
              "      <td>69</td>\n",
              "      <td>35.1</td>\n",
              "    </tr>\n",
              "    <tr>\n",
              "      <th>230</th>\n",
              "      <td>231</td>\n",
              "      <td>female</td>\n",
              "      <td>Elisabeth</td>\n",
              "      <td>Knudsen</td>\n",
              "      <td>NaN</td>\n",
              "      <td>NaN</td>\n",
              "      <td>NaN</td>\n",
              "      <td>NaN</td>\n",
              "      <td>NaN</td>\n",
              "      <td>NaN</td>\n",
              "      <td>9/23/1976</td>\n",
              "      <td>165.9</td>\n",
              "      <td>63</td>\n",
              "      <td>29.4</td>\n",
              "    </tr>\n",
              "    <tr>\n",
              "      <th>234</th>\n",
              "      <td>235</td>\n",
              "      <td>female</td>\n",
              "      <td>Martina</td>\n",
              "      <td>Tománková</td>\n",
              "      <td>NaN</td>\n",
              "      <td>NaN</td>\n",
              "      <td>NaN</td>\n",
              "      <td>NaN</td>\n",
              "      <td>NaN</td>\n",
              "      <td>NaN</td>\n",
              "      <td>4/7/1936</td>\n",
              "      <td>199.5</td>\n",
              "      <td>65</td>\n",
              "      <td>33.2</td>\n",
              "    </tr>\n",
              "    <tr>\n",
              "      <th>242</th>\n",
              "      <td>243</td>\n",
              "      <td>male</td>\n",
              "      <td>John</td>\n",
              "      <td>O'Brian</td>\n",
              "      <td>NaN</td>\n",
              "      <td>NaN</td>\n",
              "      <td>NaN</td>\n",
              "      <td>NaN</td>\n",
              "      <td>NaN</td>\n",
              "      <td>NaN</td>\n",
              "      <td>2/25/1957</td>\n",
              "      <td>205.3</td>\n",
              "      <td>74</td>\n",
              "      <td>26.4</td>\n",
              "    </tr>\n",
              "    <tr>\n",
              "      <th>249</th>\n",
              "      <td>250</td>\n",
              "      <td>male</td>\n",
              "      <td>Benjamin</td>\n",
              "      <td>Mehler</td>\n",
              "      <td>NaN</td>\n",
              "      <td>NaN</td>\n",
              "      <td>NaN</td>\n",
              "      <td>NaN</td>\n",
              "      <td>NaN</td>\n",
              "      <td>NaN</td>\n",
              "      <td>10/30/1951</td>\n",
              "      <td>146.5</td>\n",
              "      <td>69</td>\n",
              "      <td>21.6</td>\n",
              "    </tr>\n",
              "    <tr>\n",
              "      <th>257</th>\n",
              "      <td>258</td>\n",
              "      <td>male</td>\n",
              "      <td>Jin</td>\n",
              "      <td>Kung</td>\n",
              "      <td>NaN</td>\n",
              "      <td>NaN</td>\n",
              "      <td>NaN</td>\n",
              "      <td>NaN</td>\n",
              "      <td>NaN</td>\n",
              "      <td>NaN</td>\n",
              "      <td>5/17/1995</td>\n",
              "      <td>231.7</td>\n",
              "      <td>69</td>\n",
              "      <td>34.2</td>\n",
              "    </tr>\n",
              "    <tr>\n",
              "      <th>264</th>\n",
              "      <td>265</td>\n",
              "      <td>female</td>\n",
              "      <td>Wafiyyah</td>\n",
              "      <td>Asfour</td>\n",
              "      <td>NaN</td>\n",
              "      <td>NaN</td>\n",
              "      <td>NaN</td>\n",
              "      <td>NaN</td>\n",
              "      <td>NaN</td>\n",
              "      <td>NaN</td>\n",
              "      <td>11/3/1989</td>\n",
              "      <td>158.6</td>\n",
              "      <td>63</td>\n",
              "      <td>28.1</td>\n",
              "    </tr>\n",
              "    <tr>\n",
              "      <th>269</th>\n",
              "      <td>270</td>\n",
              "      <td>female</td>\n",
              "      <td>Flavia</td>\n",
              "      <td>Fiorentino</td>\n",
              "      <td>NaN</td>\n",
              "      <td>NaN</td>\n",
              "      <td>NaN</td>\n",
              "      <td>NaN</td>\n",
              "      <td>NaN</td>\n",
              "      <td>NaN</td>\n",
              "      <td>10/9/1937</td>\n",
              "      <td>175.2</td>\n",
              "      <td>61</td>\n",
              "      <td>33.1</td>\n",
              "    </tr>\n",
              "    <tr>\n",
              "      <th>278</th>\n",
              "      <td>279</td>\n",
              "      <td>female</td>\n",
              "      <td>Generosa</td>\n",
              "      <td>Cabán</td>\n",
              "      <td>NaN</td>\n",
              "      <td>NaN</td>\n",
              "      <td>NaN</td>\n",
              "      <td>NaN</td>\n",
              "      <td>NaN</td>\n",
              "      <td>NaN</td>\n",
              "      <td>12/16/1962</td>\n",
              "      <td>124.3</td>\n",
              "      <td>69</td>\n",
              "      <td>18.4</td>\n",
              "    </tr>\n",
              "    <tr>\n",
              "      <th>286</th>\n",
              "      <td>287</td>\n",
              "      <td>male</td>\n",
              "      <td>Lewis</td>\n",
              "      <td>Webb</td>\n",
              "      <td>NaN</td>\n",
              "      <td>NaN</td>\n",
              "      <td>NaN</td>\n",
              "      <td>NaN</td>\n",
              "      <td>NaN</td>\n",
              "      <td>NaN</td>\n",
              "      <td>4/1/1979</td>\n",
              "      <td>155.3</td>\n",
              "      <td>68</td>\n",
              "      <td>23.6</td>\n",
              "    </tr>\n",
              "    <tr>\n",
              "      <th>296</th>\n",
              "      <td>297</td>\n",
              "      <td>female</td>\n",
              "      <td>Chỉ</td>\n",
              "      <td>Lâm</td>\n",
              "      <td>NaN</td>\n",
              "      <td>NaN</td>\n",
              "      <td>NaN</td>\n",
              "      <td>NaN</td>\n",
              "      <td>NaN</td>\n",
              "      <td>NaN</td>\n",
              "      <td>5/14/1990</td>\n",
              "      <td>181.1</td>\n",
              "      <td>63</td>\n",
              "      <td>32.1</td>\n",
              "    </tr>\n",
              "  </tbody>\n",
              "</table>\n",
              "</div>"
            ],
            "text/plain": [
              "     patient_id assigned_sex given_name  ... weight height   bmi\n",
              "209         210       female     Lalita  ...  143.4     62  26.2\n",
              "219         220         male         Mỹ  ...  237.8     69  35.1\n",
              "230         231       female  Elisabeth  ...  165.9     63  29.4\n",
              "234         235       female    Martina  ...  199.5     65  33.2\n",
              "242         243         male       John  ...  205.3     74  26.4\n",
              "249         250         male   Benjamin  ...  146.5     69  21.6\n",
              "257         258         male        Jin  ...  231.7     69  34.2\n",
              "264         265       female   Wafiyyah  ...  158.6     63  28.1\n",
              "269         270       female     Flavia  ...  175.2     61  33.1\n",
              "278         279       female   Generosa  ...  124.3     69  18.4\n",
              "286         287         male      Lewis  ...  155.3     68  23.6\n",
              "296         297       female        Chỉ  ...  181.1     63  32.1\n",
              "\n",
              "[12 rows x 14 columns]"
            ]
          },
          "metadata": {
            "tags": []
          },
          "execution_count": 12
        }
      ]
    },
    {
      "cell_type": "code",
      "metadata": {
        "id": "_LpaVOVezYUt",
        "outputId": "c8dcce70-fac0-432f-d92f-c0ed80d5795d",
        "colab": {
          "base_uri": "https://localhost:8080/",
          "height": 204
        }
      },
      "source": [
        "patients.describe().T"
      ],
      "execution_count": 13,
      "outputs": [
        {
          "output_type": "execute_result",
          "data": {
            "text/html": [
              "<div>\n",
              "<style scoped>\n",
              "    .dataframe tbody tr th:only-of-type {\n",
              "        vertical-align: middle;\n",
              "    }\n",
              "\n",
              "    .dataframe tbody tr th {\n",
              "        vertical-align: top;\n",
              "    }\n",
              "\n",
              "    .dataframe thead th {\n",
              "        text-align: right;\n",
              "    }\n",
              "</style>\n",
              "<table border=\"1\" class=\"dataframe\">\n",
              "  <thead>\n",
              "    <tr style=\"text-align: right;\">\n",
              "      <th></th>\n",
              "      <th>count</th>\n",
              "      <th>mean</th>\n",
              "      <th>std</th>\n",
              "      <th>min</th>\n",
              "      <th>25%</th>\n",
              "      <th>50%</th>\n",
              "      <th>75%</th>\n",
              "      <th>max</th>\n",
              "    </tr>\n",
              "  </thead>\n",
              "  <tbody>\n",
              "    <tr>\n",
              "      <th>patient_id</th>\n",
              "      <td>503.0</td>\n",
              "      <td>252.000000</td>\n",
              "      <td>145.347859</td>\n",
              "      <td>1.0</td>\n",
              "      <td>126.5</td>\n",
              "      <td>252.0</td>\n",
              "      <td>377.50</td>\n",
              "      <td>503.0</td>\n",
              "    </tr>\n",
              "    <tr>\n",
              "      <th>zip_code</th>\n",
              "      <td>491.0</td>\n",
              "      <td>49084.118126</td>\n",
              "      <td>30265.807442</td>\n",
              "      <td>1002.0</td>\n",
              "      <td>21920.5</td>\n",
              "      <td>48057.0</td>\n",
              "      <td>75679.00</td>\n",
              "      <td>99701.0</td>\n",
              "    </tr>\n",
              "    <tr>\n",
              "      <th>weight</th>\n",
              "      <td>503.0</td>\n",
              "      <td>173.434990</td>\n",
              "      <td>33.916741</td>\n",
              "      <td>48.8</td>\n",
              "      <td>149.3</td>\n",
              "      <td>175.3</td>\n",
              "      <td>199.50</td>\n",
              "      <td>255.9</td>\n",
              "    </tr>\n",
              "    <tr>\n",
              "      <th>height</th>\n",
              "      <td>503.0</td>\n",
              "      <td>66.634195</td>\n",
              "      <td>4.411297</td>\n",
              "      <td>27.0</td>\n",
              "      <td>63.0</td>\n",
              "      <td>67.0</td>\n",
              "      <td>70.00</td>\n",
              "      <td>79.0</td>\n",
              "    </tr>\n",
              "    <tr>\n",
              "      <th>bmi</th>\n",
              "      <td>503.0</td>\n",
              "      <td>27.483897</td>\n",
              "      <td>5.276438</td>\n",
              "      <td>17.1</td>\n",
              "      <td>23.3</td>\n",
              "      <td>27.2</td>\n",
              "      <td>31.75</td>\n",
              "      <td>37.7</td>\n",
              "    </tr>\n",
              "  </tbody>\n",
              "</table>\n",
              "</div>"
            ],
            "text/plain": [
              "            count          mean           std  ...      50%       75%      max\n",
              "patient_id  503.0    252.000000    145.347859  ...    252.0    377.50    503.0\n",
              "zip_code    491.0  49084.118126  30265.807442  ...  48057.0  75679.00  99701.0\n",
              "weight      503.0    173.434990     33.916741  ...    175.3    199.50    255.9\n",
              "height      503.0     66.634195      4.411297  ...     67.0     70.00     79.0\n",
              "bmi         503.0     27.483897      5.276438  ...     27.2     31.75     37.7\n",
              "\n",
              "[5 rows x 8 columns]"
            ]
          },
          "metadata": {
            "tags": []
          },
          "execution_count": 13
        }
      ]
    },
    {
      "cell_type": "code",
      "metadata": {
        "id": "YOfx_ZEQ06A1",
        "outputId": "22f7671a-7d8e-4189-e1b9-76a577e83bb1",
        "colab": {
          "base_uri": "https://localhost:8080/",
          "height": 360
        }
      },
      "source": [
        "patients.sample(5)"
      ],
      "execution_count": 14,
      "outputs": [
        {
          "output_type": "execute_result",
          "data": {
            "text/html": [
              "<div>\n",
              "<style scoped>\n",
              "    .dataframe tbody tr th:only-of-type {\n",
              "        vertical-align: middle;\n",
              "    }\n",
              "\n",
              "    .dataframe tbody tr th {\n",
              "        vertical-align: top;\n",
              "    }\n",
              "\n",
              "    .dataframe thead th {\n",
              "        text-align: right;\n",
              "    }\n",
              "</style>\n",
              "<table border=\"1\" class=\"dataframe\">\n",
              "  <thead>\n",
              "    <tr style=\"text-align: right;\">\n",
              "      <th></th>\n",
              "      <th>patient_id</th>\n",
              "      <th>assigned_sex</th>\n",
              "      <th>given_name</th>\n",
              "      <th>surname</th>\n",
              "      <th>address</th>\n",
              "      <th>city</th>\n",
              "      <th>state</th>\n",
              "      <th>zip_code</th>\n",
              "      <th>country</th>\n",
              "      <th>contact</th>\n",
              "      <th>birthdate</th>\n",
              "      <th>weight</th>\n",
              "      <th>height</th>\n",
              "      <th>bmi</th>\n",
              "    </tr>\n",
              "  </thead>\n",
              "  <tbody>\n",
              "    <tr>\n",
              "      <th>41</th>\n",
              "      <td>42</td>\n",
              "      <td>male</td>\n",
              "      <td>Fakhri</td>\n",
              "      <td>Fakhoury</td>\n",
              "      <td>155 Red Hawk Road</td>\n",
              "      <td>Danube</td>\n",
              "      <td>MN</td>\n",
              "      <td>56230.0</td>\n",
              "      <td>United States</td>\n",
              "      <td>FakhriHaniFakhoury@cuvox.de320-826-3340</td>\n",
              "      <td>11/4/1979</td>\n",
              "      <td>143.0</td>\n",
              "      <td>66</td>\n",
              "      <td>23.1</td>\n",
              "    </tr>\n",
              "    <tr>\n",
              "      <th>394</th>\n",
              "      <td>395</td>\n",
              "      <td>female</td>\n",
              "      <td>Anja</td>\n",
              "      <td>Mueller</td>\n",
              "      <td>570 Alpha Avenue</td>\n",
              "      <td>Tyler</td>\n",
              "      <td>TX</td>\n",
              "      <td>75757.0</td>\n",
              "      <td>United States</td>\n",
              "      <td>903-939-1025AnjaMueller@gustr.com</td>\n",
              "      <td>8/6/1942</td>\n",
              "      <td>182.2</td>\n",
              "      <td>61</td>\n",
              "      <td>34.4</td>\n",
              "    </tr>\n",
              "    <tr>\n",
              "      <th>234</th>\n",
              "      <td>235</td>\n",
              "      <td>female</td>\n",
              "      <td>Martina</td>\n",
              "      <td>Tománková</td>\n",
              "      <td>NaN</td>\n",
              "      <td>NaN</td>\n",
              "      <td>NaN</td>\n",
              "      <td>NaN</td>\n",
              "      <td>NaN</td>\n",
              "      <td>NaN</td>\n",
              "      <td>4/7/1936</td>\n",
              "      <td>199.5</td>\n",
              "      <td>65</td>\n",
              "      <td>33.2</td>\n",
              "    </tr>\n",
              "    <tr>\n",
              "      <th>79</th>\n",
              "      <td>80</td>\n",
              "      <td>male</td>\n",
              "      <td>Eniz</td>\n",
              "      <td>Konovšek</td>\n",
              "      <td>783 Callison Lane</td>\n",
              "      <td>Philadelphia</td>\n",
              "      <td>DE</td>\n",
              "      <td>19108.0</td>\n",
              "      <td>United States</td>\n",
              "      <td>302-397-6035EnizKonovsek@superrito.com</td>\n",
              "      <td>6/23/1967</td>\n",
              "      <td>183.9</td>\n",
              "      <td>72</td>\n",
              "      <td>24.9</td>\n",
              "    </tr>\n",
              "    <tr>\n",
              "      <th>137</th>\n",
              "      <td>138</td>\n",
              "      <td>female</td>\n",
              "      <td>Emma</td>\n",
              "      <td>Barlow</td>\n",
              "      <td>1703 Everette Alley</td>\n",
              "      <td>Pompano Beach</td>\n",
              "      <td>Florida</td>\n",
              "      <td>33062.0</td>\n",
              "      <td>United States</td>\n",
              "      <td>954-784-6658EmmaBarlow@superrito.com</td>\n",
              "      <td>1/25/1953</td>\n",
              "      <td>175.6</td>\n",
              "      <td>60</td>\n",
              "      <td>34.3</td>\n",
              "    </tr>\n",
              "  </tbody>\n",
              "</table>\n",
              "</div>"
            ],
            "text/plain": [
              "     patient_id assigned_sex given_name  ... weight height   bmi\n",
              "41           42         male     Fakhri  ...  143.0     66  23.1\n",
              "394         395       female       Anja  ...  182.2     61  34.4\n",
              "234         235       female    Martina  ...  199.5     65  33.2\n",
              "79           80         male       Eniz  ...  183.9     72  24.9\n",
              "137         138       female       Emma  ...  175.6     60  34.3\n",
              "\n",
              "[5 rows x 14 columns]"
            ]
          },
          "metadata": {
            "tags": []
          },
          "execution_count": 14
        }
      ]
    },
    {
      "cell_type": "code",
      "metadata": {
        "id": "1DBidZ8h1XbE",
        "outputId": "da191590-2f45-4acc-cd0b-7adb33c7e137",
        "colab": {
          "base_uri": "https://localhost:8080/",
          "height": 910
        }
      },
      "source": [
        "patients[patients['address'].duplicated()]"
      ],
      "execution_count": 15,
      "outputs": [
        {
          "output_type": "execute_result",
          "data": {
            "text/html": [
              "<div>\n",
              "<style scoped>\n",
              "    .dataframe tbody tr th:only-of-type {\n",
              "        vertical-align: middle;\n",
              "    }\n",
              "\n",
              "    .dataframe tbody tr th {\n",
              "        vertical-align: top;\n",
              "    }\n",
              "\n",
              "    .dataframe thead th {\n",
              "        text-align: right;\n",
              "    }\n",
              "</style>\n",
              "<table border=\"1\" class=\"dataframe\">\n",
              "  <thead>\n",
              "    <tr style=\"text-align: right;\">\n",
              "      <th></th>\n",
              "      <th>patient_id</th>\n",
              "      <th>assigned_sex</th>\n",
              "      <th>given_name</th>\n",
              "      <th>surname</th>\n",
              "      <th>address</th>\n",
              "      <th>city</th>\n",
              "      <th>state</th>\n",
              "      <th>zip_code</th>\n",
              "      <th>country</th>\n",
              "      <th>contact</th>\n",
              "      <th>birthdate</th>\n",
              "      <th>weight</th>\n",
              "      <th>height</th>\n",
              "      <th>bmi</th>\n",
              "    </tr>\n",
              "  </thead>\n",
              "  <tbody>\n",
              "    <tr>\n",
              "      <th>29</th>\n",
              "      <td>30</td>\n",
              "      <td>male</td>\n",
              "      <td>Jake</td>\n",
              "      <td>Jakobsen</td>\n",
              "      <td>648 Old Dear Lane</td>\n",
              "      <td>Port Jervis</td>\n",
              "      <td>New York</td>\n",
              "      <td>12771.0</td>\n",
              "      <td>United States</td>\n",
              "      <td>JakobCJakobsen@einrot.com+1 (845) 858-7707</td>\n",
              "      <td>8/1/1985</td>\n",
              "      <td>155.8</td>\n",
              "      <td>67</td>\n",
              "      <td>24.4</td>\n",
              "    </tr>\n",
              "    <tr>\n",
              "      <th>219</th>\n",
              "      <td>220</td>\n",
              "      <td>male</td>\n",
              "      <td>Mỹ</td>\n",
              "      <td>Quynh</td>\n",
              "      <td>NaN</td>\n",
              "      <td>NaN</td>\n",
              "      <td>NaN</td>\n",
              "      <td>NaN</td>\n",
              "      <td>NaN</td>\n",
              "      <td>NaN</td>\n",
              "      <td>4/9/1978</td>\n",
              "      <td>237.8</td>\n",
              "      <td>69</td>\n",
              "      <td>35.1</td>\n",
              "    </tr>\n",
              "    <tr>\n",
              "      <th>229</th>\n",
              "      <td>230</td>\n",
              "      <td>male</td>\n",
              "      <td>John</td>\n",
              "      <td>Doe</td>\n",
              "      <td>123 Main Street</td>\n",
              "      <td>New York</td>\n",
              "      <td>NY</td>\n",
              "      <td>12345.0</td>\n",
              "      <td>United States</td>\n",
              "      <td>johndoe@email.com1234567890</td>\n",
              "      <td>1/1/1975</td>\n",
              "      <td>180.0</td>\n",
              "      <td>72</td>\n",
              "      <td>24.4</td>\n",
              "    </tr>\n",
              "    <tr>\n",
              "      <th>230</th>\n",
              "      <td>231</td>\n",
              "      <td>female</td>\n",
              "      <td>Elisabeth</td>\n",
              "      <td>Knudsen</td>\n",
              "      <td>NaN</td>\n",
              "      <td>NaN</td>\n",
              "      <td>NaN</td>\n",
              "      <td>NaN</td>\n",
              "      <td>NaN</td>\n",
              "      <td>NaN</td>\n",
              "      <td>9/23/1976</td>\n",
              "      <td>165.9</td>\n",
              "      <td>63</td>\n",
              "      <td>29.4</td>\n",
              "    </tr>\n",
              "    <tr>\n",
              "      <th>234</th>\n",
              "      <td>235</td>\n",
              "      <td>female</td>\n",
              "      <td>Martina</td>\n",
              "      <td>Tománková</td>\n",
              "      <td>NaN</td>\n",
              "      <td>NaN</td>\n",
              "      <td>NaN</td>\n",
              "      <td>NaN</td>\n",
              "      <td>NaN</td>\n",
              "      <td>NaN</td>\n",
              "      <td>4/7/1936</td>\n",
              "      <td>199.5</td>\n",
              "      <td>65</td>\n",
              "      <td>33.2</td>\n",
              "    </tr>\n",
              "    <tr>\n",
              "      <th>237</th>\n",
              "      <td>238</td>\n",
              "      <td>male</td>\n",
              "      <td>John</td>\n",
              "      <td>Doe</td>\n",
              "      <td>123 Main Street</td>\n",
              "      <td>New York</td>\n",
              "      <td>NY</td>\n",
              "      <td>12345.0</td>\n",
              "      <td>United States</td>\n",
              "      <td>johndoe@email.com1234567890</td>\n",
              "      <td>1/1/1975</td>\n",
              "      <td>180.0</td>\n",
              "      <td>72</td>\n",
              "      <td>24.4</td>\n",
              "    </tr>\n",
              "    <tr>\n",
              "      <th>242</th>\n",
              "      <td>243</td>\n",
              "      <td>male</td>\n",
              "      <td>John</td>\n",
              "      <td>O'Brian</td>\n",
              "      <td>NaN</td>\n",
              "      <td>NaN</td>\n",
              "      <td>NaN</td>\n",
              "      <td>NaN</td>\n",
              "      <td>NaN</td>\n",
              "      <td>NaN</td>\n",
              "      <td>2/25/1957</td>\n",
              "      <td>205.3</td>\n",
              "      <td>74</td>\n",
              "      <td>26.4</td>\n",
              "    </tr>\n",
              "    <tr>\n",
              "      <th>244</th>\n",
              "      <td>245</td>\n",
              "      <td>male</td>\n",
              "      <td>John</td>\n",
              "      <td>Doe</td>\n",
              "      <td>123 Main Street</td>\n",
              "      <td>New York</td>\n",
              "      <td>NY</td>\n",
              "      <td>12345.0</td>\n",
              "      <td>United States</td>\n",
              "      <td>johndoe@email.com1234567890</td>\n",
              "      <td>1/1/1975</td>\n",
              "      <td>180.0</td>\n",
              "      <td>72</td>\n",
              "      <td>24.4</td>\n",
              "    </tr>\n",
              "    <tr>\n",
              "      <th>249</th>\n",
              "      <td>250</td>\n",
              "      <td>male</td>\n",
              "      <td>Benjamin</td>\n",
              "      <td>Mehler</td>\n",
              "      <td>NaN</td>\n",
              "      <td>NaN</td>\n",
              "      <td>NaN</td>\n",
              "      <td>NaN</td>\n",
              "      <td>NaN</td>\n",
              "      <td>NaN</td>\n",
              "      <td>10/30/1951</td>\n",
              "      <td>146.5</td>\n",
              "      <td>69</td>\n",
              "      <td>21.6</td>\n",
              "    </tr>\n",
              "    <tr>\n",
              "      <th>251</th>\n",
              "      <td>252</td>\n",
              "      <td>male</td>\n",
              "      <td>John</td>\n",
              "      <td>Doe</td>\n",
              "      <td>123 Main Street</td>\n",
              "      <td>New York</td>\n",
              "      <td>NY</td>\n",
              "      <td>12345.0</td>\n",
              "      <td>United States</td>\n",
              "      <td>johndoe@email.com1234567890</td>\n",
              "      <td>1/1/1975</td>\n",
              "      <td>180.0</td>\n",
              "      <td>72</td>\n",
              "      <td>24.4</td>\n",
              "    </tr>\n",
              "    <tr>\n",
              "      <th>257</th>\n",
              "      <td>258</td>\n",
              "      <td>male</td>\n",
              "      <td>Jin</td>\n",
              "      <td>Kung</td>\n",
              "      <td>NaN</td>\n",
              "      <td>NaN</td>\n",
              "      <td>NaN</td>\n",
              "      <td>NaN</td>\n",
              "      <td>NaN</td>\n",
              "      <td>NaN</td>\n",
              "      <td>5/17/1995</td>\n",
              "      <td>231.7</td>\n",
              "      <td>69</td>\n",
              "      <td>34.2</td>\n",
              "    </tr>\n",
              "    <tr>\n",
              "      <th>264</th>\n",
              "      <td>265</td>\n",
              "      <td>female</td>\n",
              "      <td>Wafiyyah</td>\n",
              "      <td>Asfour</td>\n",
              "      <td>NaN</td>\n",
              "      <td>NaN</td>\n",
              "      <td>NaN</td>\n",
              "      <td>NaN</td>\n",
              "      <td>NaN</td>\n",
              "      <td>NaN</td>\n",
              "      <td>11/3/1989</td>\n",
              "      <td>158.6</td>\n",
              "      <td>63</td>\n",
              "      <td>28.1</td>\n",
              "    </tr>\n",
              "    <tr>\n",
              "      <th>269</th>\n",
              "      <td>270</td>\n",
              "      <td>female</td>\n",
              "      <td>Flavia</td>\n",
              "      <td>Fiorentino</td>\n",
              "      <td>NaN</td>\n",
              "      <td>NaN</td>\n",
              "      <td>NaN</td>\n",
              "      <td>NaN</td>\n",
              "      <td>NaN</td>\n",
              "      <td>NaN</td>\n",
              "      <td>10/9/1937</td>\n",
              "      <td>175.2</td>\n",
              "      <td>61</td>\n",
              "      <td>33.1</td>\n",
              "    </tr>\n",
              "    <tr>\n",
              "      <th>277</th>\n",
              "      <td>278</td>\n",
              "      <td>male</td>\n",
              "      <td>John</td>\n",
              "      <td>Doe</td>\n",
              "      <td>123 Main Street</td>\n",
              "      <td>New York</td>\n",
              "      <td>NY</td>\n",
              "      <td>12345.0</td>\n",
              "      <td>United States</td>\n",
              "      <td>johndoe@email.com1234567890</td>\n",
              "      <td>1/1/1975</td>\n",
              "      <td>180.0</td>\n",
              "      <td>72</td>\n",
              "      <td>24.4</td>\n",
              "    </tr>\n",
              "    <tr>\n",
              "      <th>278</th>\n",
              "      <td>279</td>\n",
              "      <td>female</td>\n",
              "      <td>Generosa</td>\n",
              "      <td>Cabán</td>\n",
              "      <td>NaN</td>\n",
              "      <td>NaN</td>\n",
              "      <td>NaN</td>\n",
              "      <td>NaN</td>\n",
              "      <td>NaN</td>\n",
              "      <td>NaN</td>\n",
              "      <td>12/16/1962</td>\n",
              "      <td>124.3</td>\n",
              "      <td>69</td>\n",
              "      <td>18.4</td>\n",
              "    </tr>\n",
              "    <tr>\n",
              "      <th>282</th>\n",
              "      <td>283</td>\n",
              "      <td>female</td>\n",
              "      <td>Sandy</td>\n",
              "      <td>Taylor</td>\n",
              "      <td>2476 Fulton Street</td>\n",
              "      <td>Rainelle</td>\n",
              "      <td>WV</td>\n",
              "      <td>25962.0</td>\n",
              "      <td>United States</td>\n",
              "      <td>304-438-2648SandraCTaylor@dayrep.com</td>\n",
              "      <td>10/23/1960</td>\n",
              "      <td>206.1</td>\n",
              "      <td>64</td>\n",
              "      <td>35.4</td>\n",
              "    </tr>\n",
              "    <tr>\n",
              "      <th>286</th>\n",
              "      <td>287</td>\n",
              "      <td>male</td>\n",
              "      <td>Lewis</td>\n",
              "      <td>Webb</td>\n",
              "      <td>NaN</td>\n",
              "      <td>NaN</td>\n",
              "      <td>NaN</td>\n",
              "      <td>NaN</td>\n",
              "      <td>NaN</td>\n",
              "      <td>NaN</td>\n",
              "      <td>4/1/1979</td>\n",
              "      <td>155.3</td>\n",
              "      <td>68</td>\n",
              "      <td>23.6</td>\n",
              "    </tr>\n",
              "    <tr>\n",
              "      <th>296</th>\n",
              "      <td>297</td>\n",
              "      <td>female</td>\n",
              "      <td>Chỉ</td>\n",
              "      <td>Lâm</td>\n",
              "      <td>NaN</td>\n",
              "      <td>NaN</td>\n",
              "      <td>NaN</td>\n",
              "      <td>NaN</td>\n",
              "      <td>NaN</td>\n",
              "      <td>NaN</td>\n",
              "      <td>5/14/1990</td>\n",
              "      <td>181.1</td>\n",
              "      <td>63</td>\n",
              "      <td>32.1</td>\n",
              "    </tr>\n",
              "    <tr>\n",
              "      <th>502</th>\n",
              "      <td>503</td>\n",
              "      <td>male</td>\n",
              "      <td>Pat</td>\n",
              "      <td>Gersten</td>\n",
              "      <td>2778 North Avenue</td>\n",
              "      <td>Burr</td>\n",
              "      <td>Nebraska</td>\n",
              "      <td>68324.0</td>\n",
              "      <td>United States</td>\n",
              "      <td>PatrickGersten@rhyta.com402-848-4923</td>\n",
              "      <td>5/3/1954</td>\n",
              "      <td>138.2</td>\n",
              "      <td>71</td>\n",
              "      <td>19.3</td>\n",
              "    </tr>\n",
              "  </tbody>\n",
              "</table>\n",
              "</div>"
            ],
            "text/plain": [
              "     patient_id assigned_sex given_name  ... weight height   bmi\n",
              "29           30         male       Jake  ...  155.8     67  24.4\n",
              "219         220         male         Mỹ  ...  237.8     69  35.1\n",
              "229         230         male       John  ...  180.0     72  24.4\n",
              "230         231       female  Elisabeth  ...  165.9     63  29.4\n",
              "234         235       female    Martina  ...  199.5     65  33.2\n",
              "237         238         male       John  ...  180.0     72  24.4\n",
              "242         243         male       John  ...  205.3     74  26.4\n",
              "244         245         male       John  ...  180.0     72  24.4\n",
              "249         250         male   Benjamin  ...  146.5     69  21.6\n",
              "251         252         male       John  ...  180.0     72  24.4\n",
              "257         258         male        Jin  ...  231.7     69  34.2\n",
              "264         265       female   Wafiyyah  ...  158.6     63  28.1\n",
              "269         270       female     Flavia  ...  175.2     61  33.1\n",
              "277         278         male       John  ...  180.0     72  24.4\n",
              "278         279       female   Generosa  ...  124.3     69  18.4\n",
              "282         283       female      Sandy  ...  206.1     64  35.4\n",
              "286         287         male      Lewis  ...  155.3     68  23.6\n",
              "296         297       female        Chỉ  ...  181.1     63  32.1\n",
              "502         503         male        Pat  ...  138.2     71  19.3\n",
              "\n",
              "[19 rows x 14 columns]"
            ]
          },
          "metadata": {
            "tags": []
          },
          "execution_count": 15
        }
      ]
    },
    {
      "cell_type": "code",
      "metadata": {
        "id": "T2jnmye8wPST",
        "outputId": "b1a637e3-faa1-4383-bd53-66969c92d564",
        "colab": {
          "base_uri": "https://localhost:8080/",
          "height": 255
        }
      },
      "source": [
        "treatment.info()"
      ],
      "execution_count": 16,
      "outputs": [
        {
          "output_type": "stream",
          "text": [
            "<class 'pandas.core.frame.DataFrame'>\n",
            "RangeIndex: 280 entries, 0 to 279\n",
            "Data columns (total 7 columns):\n",
            " #   Column        Non-Null Count  Dtype  \n",
            "---  ------        --------------  -----  \n",
            " 0   given_name    280 non-null    object \n",
            " 1   surname       280 non-null    object \n",
            " 2   auralin       280 non-null    object \n",
            " 3   novodra       280 non-null    object \n",
            " 4   hba1c_start   280 non-null    float64\n",
            " 5   hba1c_end     280 non-null    float64\n",
            " 6   hba1c_change  171 non-null    float64\n",
            "dtypes: float64(3), object(4)\n",
            "memory usage: 15.4+ KB\n"
          ],
          "name": "stdout"
        }
      ]
    },
    {
      "cell_type": "code",
      "metadata": {
        "id": "i04-sMWdxyI1",
        "outputId": "977abbf6-aba6-49dc-b76e-0f25aaa5c19d",
        "colab": {
          "base_uri": "https://localhost:8080/",
          "height": 153
        }
      },
      "source": [
        "treatment.isnull().sum()"
      ],
      "execution_count": 17,
      "outputs": [
        {
          "output_type": "execute_result",
          "data": {
            "text/plain": [
              "given_name        0\n",
              "surname           0\n",
              "auralin           0\n",
              "novodra           0\n",
              "hba1c_start       0\n",
              "hba1c_end         0\n",
              "hba1c_change    109\n",
              "dtype: int64"
            ]
          },
          "metadata": {
            "tags": []
          },
          "execution_count": 17
        }
      ]
    },
    {
      "cell_type": "code",
      "metadata": {
        "id": "IfzQYNc10IxH",
        "outputId": "5ceb4608-9600-4662-aabd-08f064d7fe1d",
        "colab": {
          "base_uri": "https://localhost:8080/",
          "height": 142
        }
      },
      "source": [
        "treatment.describe().T"
      ],
      "execution_count": 18,
      "outputs": [
        {
          "output_type": "execute_result",
          "data": {
            "text/html": [
              "<div>\n",
              "<style scoped>\n",
              "    .dataframe tbody tr th:only-of-type {\n",
              "        vertical-align: middle;\n",
              "    }\n",
              "\n",
              "    .dataframe tbody tr th {\n",
              "        vertical-align: top;\n",
              "    }\n",
              "\n",
              "    .dataframe thead th {\n",
              "        text-align: right;\n",
              "    }\n",
              "</style>\n",
              "<table border=\"1\" class=\"dataframe\">\n",
              "  <thead>\n",
              "    <tr style=\"text-align: right;\">\n",
              "      <th></th>\n",
              "      <th>count</th>\n",
              "      <th>mean</th>\n",
              "      <th>std</th>\n",
              "      <th>min</th>\n",
              "      <th>25%</th>\n",
              "      <th>50%</th>\n",
              "      <th>75%</th>\n",
              "      <th>max</th>\n",
              "    </tr>\n",
              "  </thead>\n",
              "  <tbody>\n",
              "    <tr>\n",
              "      <th>hba1c_start</th>\n",
              "      <td>280.0</td>\n",
              "      <td>7.985929</td>\n",
              "      <td>0.568638</td>\n",
              "      <td>7.50</td>\n",
              "      <td>7.66</td>\n",
              "      <td>7.80</td>\n",
              "      <td>7.97</td>\n",
              "      <td>9.95</td>\n",
              "    </tr>\n",
              "    <tr>\n",
              "      <th>hba1c_end</th>\n",
              "      <td>280.0</td>\n",
              "      <td>7.589286</td>\n",
              "      <td>0.569672</td>\n",
              "      <td>7.01</td>\n",
              "      <td>7.27</td>\n",
              "      <td>7.42</td>\n",
              "      <td>7.57</td>\n",
              "      <td>9.58</td>\n",
              "    </tr>\n",
              "    <tr>\n",
              "      <th>hba1c_change</th>\n",
              "      <td>171.0</td>\n",
              "      <td>0.546023</td>\n",
              "      <td>0.279555</td>\n",
              "      <td>0.20</td>\n",
              "      <td>0.34</td>\n",
              "      <td>0.38</td>\n",
              "      <td>0.92</td>\n",
              "      <td>0.99</td>\n",
              "    </tr>\n",
              "  </tbody>\n",
              "</table>\n",
              "</div>"
            ],
            "text/plain": [
              "              count      mean       std   min   25%   50%   75%   max\n",
              "hba1c_start   280.0  7.985929  0.568638  7.50  7.66  7.80  7.97  9.95\n",
              "hba1c_end     280.0  7.589286  0.569672  7.01  7.27  7.42  7.57  9.58\n",
              "hba1c_change  171.0  0.546023  0.279555  0.20  0.34  0.38  0.92  0.99"
            ]
          },
          "metadata": {
            "tags": []
          },
          "execution_count": 18
        }
      ]
    },
    {
      "cell_type": "code",
      "metadata": {
        "id": "wBXYRy1nwVYL",
        "outputId": "7bccfc8b-9871-4eca-e6c1-d1572e71c359",
        "colab": {
          "base_uri": "https://localhost:8080/",
          "height": 187
        }
      },
      "source": [
        "adverse.info()"
      ],
      "execution_count": 19,
      "outputs": [
        {
          "output_type": "stream",
          "text": [
            "<class 'pandas.core.frame.DataFrame'>\n",
            "RangeIndex: 34 entries, 0 to 33\n",
            "Data columns (total 3 columns):\n",
            " #   Column            Non-Null Count  Dtype \n",
            "---  ------            --------------  ----- \n",
            " 0   given_name        34 non-null     object\n",
            " 1   surname           34 non-null     object\n",
            " 2   adverse_reaction  34 non-null     object\n",
            "dtypes: object(3)\n",
            "memory usage: 944.0+ bytes\n"
          ],
          "name": "stdout"
        }
      ]
    },
    {
      "cell_type": "code",
      "metadata": {
        "id": "QP3EcJIex3ns",
        "outputId": "1343eef6-9ff1-4e2c-809e-9be9da13c9d0",
        "colab": {
          "base_uri": "https://localhost:8080/",
          "height": 85
        }
      },
      "source": [
        "adverse.isnull().sum()"
      ],
      "execution_count": 20,
      "outputs": [
        {
          "output_type": "execute_result",
          "data": {
            "text/plain": [
              "given_name          0\n",
              "surname             0\n",
              "adverse_reaction    0\n",
              "dtype: int64"
            ]
          },
          "metadata": {
            "tags": []
          },
          "execution_count": 20
        }
      ]
    },
    {
      "cell_type": "markdown",
      "metadata": {
        "id": "IxKgAwUV2rr-"
      },
      "source": [
        "#### UNTIDY DATA\n",
        "\n",
        "#### PATIENTS\n",
        "- phone and email in one column i.e the contact column\n",
        "\n",
        "#### TREATMENT\n",
        "- 3 variables stored in auralin and novodra column(3 seperate columns should be there- lower dose,upper dose and treatment type)\n",
        "\n",
        "#### ADVERSE\n",
        "- no point of using this table , instead we can just add a column in the treatments table"
      ]
    },
    {
      "cell_type": "markdown",
      "metadata": {
        "id": "dmrms0BU8Um3"
      },
      "source": [
        "#### A. COMPLETENESS ISSUES\n",
        "- missing values for contact details of 12 patients (removed)\n",
        "- only 280 rows are there instead of 350 (done)\n",
        "- hba1c_change column has missing values(done)"
      ]
    },
    {
      "cell_type": "code",
      "metadata": {
        "id": "3gbaHn0184bI"
      },
      "source": [
        "\n",
        "# creating copies\n",
        "\n",
        "patients_copy=patients.copy()\n",
        "treatment_copy=treatment.copy()\n",
        "adverse_copy=adverse.copy()"
      ],
      "execution_count": 21,
      "outputs": []
    },
    {
      "cell_type": "markdown",
      "metadata": {
        "id": "DlYXi2uu_IFE"
      },
      "source": [
        "DEFINE"
      ]
    },
    {
      "cell_type": "code",
      "metadata": {
        "id": "SBJYNVXY9Jbs"
      },
      "source": [
        "# SUBTRACT hba1c_start from hba1c_end to get hba1c_change\n"
      ],
      "execution_count": 22,
      "outputs": []
    },
    {
      "cell_type": "markdown",
      "metadata": {
        "id": "AYGcKNXr_Yr6"
      },
      "source": [
        "CODE"
      ]
    },
    {
      "cell_type": "code",
      "metadata": {
        "id": "TutXc4AM_X2c"
      },
      "source": [
        "treatment_copy['hba1c_change']=treatment_copy['hba1c_start']-treatment_copy['hba1c_end']\n"
      ],
      "execution_count": 23,
      "outputs": []
    },
    {
      "cell_type": "markdown",
      "metadata": {
        "id": "t6r6g2AsATBb"
      },
      "source": [
        "TEST"
      ]
    },
    {
      "cell_type": "code",
      "metadata": {
        "id": "dX00NzC6AWap",
        "outputId": "fe373e9c-f83d-4ba8-8b74-2dc4962f8180",
        "colab": {
          "base_uri": "https://localhost:8080/",
          "height": 153
        }
      },
      "source": [
        "treatment_copy.isnull().sum()"
      ],
      "execution_count": 24,
      "outputs": [
        {
          "output_type": "execute_result",
          "data": {
            "text/plain": [
              "given_name      0\n",
              "surname         0\n",
              "auralin         0\n",
              "novodra         0\n",
              "hba1c_start     0\n",
              "hba1c_end       0\n",
              "hba1c_change    0\n",
              "dtype: int64"
            ]
          },
          "metadata": {
            "tags": []
          },
          "execution_count": 24
        }
      ]
    },
    {
      "cell_type": "markdown",
      "metadata": {
        "id": "fpyUP-I_BCvH"
      },
      "source": [
        "#### B.TIDINESS ISSUES\n",
        "\n",
        "- phone + email in col (patients) (seperated them)\n",
        "- Novodra and Auolin col treatment ( done)\n",
        "- Merge the adverse table to treatment table (done)\n"
      ]
    },
    {
      "cell_type": "markdown",
      "metadata": {
        "id": "INttsC-ABZ5V"
      },
      "source": [
        "DEFINE"
      ]
    },
    {
      "cell_type": "code",
      "metadata": {
        "id": "wk1ry-AwBcAX"
      },
      "source": [
        "# Novodra and Aurolin using the melt function\n",
        "\n",
        "treatment_copy=pd.melt(treatment_copy , id_vars=['given_name','surname','hba1c_start','hba1c_end','hba1c_change'], var_name='treatment',value_name='dose')"
      ],
      "execution_count": 25,
      "outputs": []
    },
    {
      "cell_type": "code",
      "metadata": {
        "id": "NxsclqihDkcV"
      },
      "source": [
        "treatment_copy=treatment_copy[treatment_copy['dose']!='-']"
      ],
      "execution_count": 26,
      "outputs": []
    },
    {
      "cell_type": "code",
      "metadata": {
        "id": "seqHKnGmERS8",
        "outputId": "3fd12957-82c8-4bf9-9716-2ba3d50ba71a",
        "colab": {
          "base_uri": "https://localhost:8080/",
          "height": 51
        }
      },
      "source": [
        "treatment_copy['start'],treatment_copy['end']=treatment_copy['dose'].str.split('-').str"
      ],
      "execution_count": 27,
      "outputs": [
        {
          "output_type": "stream",
          "text": [
            "/usr/local/lib/python3.6/dist-packages/ipykernel_launcher.py:1: FutureWarning: Columnar iteration over characters will be deprecated in future releases.\n",
            "  \"\"\"Entry point for launching an IPython kernel.\n"
          ],
          "name": "stderr"
        }
      ]
    },
    {
      "cell_type": "code",
      "metadata": {
        "id": "FcPhTnWSEtxv"
      },
      "source": [
        "treatment_copy.drop('dose',axis=1,inplace=True)"
      ],
      "execution_count": 28,
      "outputs": []
    },
    {
      "cell_type": "markdown",
      "metadata": {
        "id": "ZjPXzRJIBesu"
      },
      "source": [
        "TEST"
      ]
    },
    {
      "cell_type": "code",
      "metadata": {
        "id": "gnLbaEXjE_aR",
        "outputId": "224534bb-5919-4abc-f25e-5381a2f178f4",
        "colab": {
          "base_uri": "https://localhost:8080/",
          "height": 204
        }
      },
      "source": [
        "treatment_copy.head()"
      ],
      "execution_count": 29,
      "outputs": [
        {
          "output_type": "execute_result",
          "data": {
            "text/html": [
              "<div>\n",
              "<style scoped>\n",
              "    .dataframe tbody tr th:only-of-type {\n",
              "        vertical-align: middle;\n",
              "    }\n",
              "\n",
              "    .dataframe tbody tr th {\n",
              "        vertical-align: top;\n",
              "    }\n",
              "\n",
              "    .dataframe thead th {\n",
              "        text-align: right;\n",
              "    }\n",
              "</style>\n",
              "<table border=\"1\" class=\"dataframe\">\n",
              "  <thead>\n",
              "    <tr style=\"text-align: right;\">\n",
              "      <th></th>\n",
              "      <th>given_name</th>\n",
              "      <th>surname</th>\n",
              "      <th>hba1c_start</th>\n",
              "      <th>hba1c_end</th>\n",
              "      <th>hba1c_change</th>\n",
              "      <th>treatment</th>\n",
              "      <th>start</th>\n",
              "      <th>end</th>\n",
              "    </tr>\n",
              "  </thead>\n",
              "  <tbody>\n",
              "    <tr>\n",
              "      <th>0</th>\n",
              "      <td>veronika</td>\n",
              "      <td>jindrová</td>\n",
              "      <td>7.63</td>\n",
              "      <td>7.20</td>\n",
              "      <td>0.43</td>\n",
              "      <td>auralin</td>\n",
              "      <td>41u</td>\n",
              "      <td>48u</td>\n",
              "    </tr>\n",
              "    <tr>\n",
              "      <th>3</th>\n",
              "      <td>skye</td>\n",
              "      <td>gormanston</td>\n",
              "      <td>7.97</td>\n",
              "      <td>7.62</td>\n",
              "      <td>0.35</td>\n",
              "      <td>auralin</td>\n",
              "      <td>33u</td>\n",
              "      <td>36u</td>\n",
              "    </tr>\n",
              "    <tr>\n",
              "      <th>6</th>\n",
              "      <td>sophia</td>\n",
              "      <td>haugen</td>\n",
              "      <td>7.65</td>\n",
              "      <td>7.27</td>\n",
              "      <td>0.38</td>\n",
              "      <td>auralin</td>\n",
              "      <td>37u</td>\n",
              "      <td>42u</td>\n",
              "    </tr>\n",
              "    <tr>\n",
              "      <th>7</th>\n",
              "      <td>eddie</td>\n",
              "      <td>archer</td>\n",
              "      <td>7.89</td>\n",
              "      <td>7.55</td>\n",
              "      <td>0.34</td>\n",
              "      <td>auralin</td>\n",
              "      <td>31u</td>\n",
              "      <td>38u</td>\n",
              "    </tr>\n",
              "    <tr>\n",
              "      <th>9</th>\n",
              "      <td>asia</td>\n",
              "      <td>woźniak</td>\n",
              "      <td>7.76</td>\n",
              "      <td>7.37</td>\n",
              "      <td>0.39</td>\n",
              "      <td>auralin</td>\n",
              "      <td>30u</td>\n",
              "      <td>36u</td>\n",
              "    </tr>\n",
              "  </tbody>\n",
              "</table>\n",
              "</div>"
            ],
            "text/plain": [
              "  given_name     surname  hba1c_start  ...  treatment  start   end\n",
              "0   veronika    jindrová         7.63  ...    auralin   41u    48u\n",
              "3       skye  gormanston         7.97  ...    auralin   33u    36u\n",
              "6     sophia      haugen         7.65  ...    auralin   37u    42u\n",
              "7      eddie      archer         7.89  ...    auralin   31u    38u\n",
              "9       asia     woźniak         7.76  ...    auralin   30u    36u\n",
              "\n",
              "[5 rows x 8 columns]"
            ]
          },
          "metadata": {
            "tags": []
          },
          "execution_count": 29
        }
      ]
    },
    {
      "cell_type": "markdown",
      "metadata": {
        "id": "t1hTCVuIbMol"
      },
      "source": [
        "ADDING THE MISSING ROWS IN TREATMENTS COLUMN\n",
        "\n"
      ]
    },
    {
      "cell_type": "code",
      "metadata": {
        "id": "8JXWHFfFbUID",
        "outputId": "dd1b9c0b-e630-4e27-c308-575371f4004b",
        "colab": {
          "resources": {
            "http://localhost:8080/nbextensions/google.colab/files.js": {
              "data": "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",
              "ok": true,
              "headers": [
                [
                  "content-type",
                  "application/javascript"
                ]
              ],
              "status": 200,
              "status_text": ""
            }
          },
          "base_uri": "https://localhost:8080/",
          "height": 474
        }
      },
      "source": [
        "uploaded = files.upload()\n",
        "treatment_cut = pd.read_csv(io.StringIO(uploaded['treatments_cut.csv'].decode('utf-8')))\n",
        "treatment_cut"
      ],
      "execution_count": 30,
      "outputs": [
        {
          "output_type": "display_data",
          "data": {
            "text/html": [
              "\n",
              "     <input type=\"file\" id=\"files-c5a556b4-1b08-4095-a006-7d43332ff121\" name=\"files[]\" multiple disabled\n",
              "        style=\"border:none\" />\n",
              "     <output id=\"result-c5a556b4-1b08-4095-a006-7d43332ff121\">\n",
              "      Upload widget is only available when the cell has been executed in the\n",
              "      current browser session. Please rerun this cell to enable.\n",
              "      </output>\n",
              "      <script src=\"/nbextensions/google.colab/files.js\"></script> "
            ],
            "text/plain": [
              "<IPython.core.display.HTML object>"
            ]
          },
          "metadata": {
            "tags": []
          }
        },
        {
          "output_type": "stream",
          "text": [
            "Saving treatments_cut.csv to treatments_cut.csv\n"
          ],
          "name": "stdout"
        },
        {
          "output_type": "execute_result",
          "data": {
            "text/html": [
              "<div>\n",
              "<style scoped>\n",
              "    .dataframe tbody tr th:only-of-type {\n",
              "        vertical-align: middle;\n",
              "    }\n",
              "\n",
              "    .dataframe tbody tr th {\n",
              "        vertical-align: top;\n",
              "    }\n",
              "\n",
              "    .dataframe thead th {\n",
              "        text-align: right;\n",
              "    }\n",
              "</style>\n",
              "<table border=\"1\" class=\"dataframe\">\n",
              "  <thead>\n",
              "    <tr style=\"text-align: right;\">\n",
              "      <th></th>\n",
              "      <th>given_name</th>\n",
              "      <th>surname</th>\n",
              "      <th>auralin</th>\n",
              "      <th>novodra</th>\n",
              "      <th>hba1c_start</th>\n",
              "      <th>hba1c_end</th>\n",
              "      <th>hba1c_change</th>\n",
              "    </tr>\n",
              "  </thead>\n",
              "  <tbody>\n",
              "    <tr>\n",
              "      <th>0</th>\n",
              "      <td>jožka</td>\n",
              "      <td>resanovič</td>\n",
              "      <td>22u - 30u</td>\n",
              "      <td>-</td>\n",
              "      <td>7.56</td>\n",
              "      <td>7.22</td>\n",
              "      <td>0.34</td>\n",
              "    </tr>\n",
              "    <tr>\n",
              "      <th>1</th>\n",
              "      <td>inunnguaq</td>\n",
              "      <td>heilmann</td>\n",
              "      <td>57u - 67u</td>\n",
              "      <td>-</td>\n",
              "      <td>7.85</td>\n",
              "      <td>7.45</td>\n",
              "      <td>NaN</td>\n",
              "    </tr>\n",
              "    <tr>\n",
              "      <th>2</th>\n",
              "      <td>alwin</td>\n",
              "      <td>svensson</td>\n",
              "      <td>36u - 39u</td>\n",
              "      <td>-</td>\n",
              "      <td>7.78</td>\n",
              "      <td>7.34</td>\n",
              "      <td>NaN</td>\n",
              "    </tr>\n",
              "    <tr>\n",
              "      <th>3</th>\n",
              "      <td>thể</td>\n",
              "      <td>lương</td>\n",
              "      <td>-</td>\n",
              "      <td>61u - 64u</td>\n",
              "      <td>7.64</td>\n",
              "      <td>7.22</td>\n",
              "      <td>0.92</td>\n",
              "    </tr>\n",
              "    <tr>\n",
              "      <th>4</th>\n",
              "      <td>amanda</td>\n",
              "      <td>ribeiro</td>\n",
              "      <td>36u - 44u</td>\n",
              "      <td>-</td>\n",
              "      <td>7.85</td>\n",
              "      <td>7.47</td>\n",
              "      <td>0.38</td>\n",
              "    </tr>\n",
              "    <tr>\n",
              "      <th>...</th>\n",
              "      <td>...</td>\n",
              "      <td>...</td>\n",
              "      <td>...</td>\n",
              "      <td>...</td>\n",
              "      <td>...</td>\n",
              "      <td>...</td>\n",
              "      <td>...</td>\n",
              "    </tr>\n",
              "    <tr>\n",
              "      <th>65</th>\n",
              "      <td>rovzan</td>\n",
              "      <td>kishiev</td>\n",
              "      <td>32u - 37u</td>\n",
              "      <td>-</td>\n",
              "      <td>7.75</td>\n",
              "      <td>7.41</td>\n",
              "      <td>0.34</td>\n",
              "    </tr>\n",
              "    <tr>\n",
              "      <th>66</th>\n",
              "      <td>jakob</td>\n",
              "      <td>jakobsen</td>\n",
              "      <td>-</td>\n",
              "      <td>28u - 26u</td>\n",
              "      <td>7.96</td>\n",
              "      <td>7.51</td>\n",
              "      <td>0.95</td>\n",
              "    </tr>\n",
              "    <tr>\n",
              "      <th>67</th>\n",
              "      <td>bernd</td>\n",
              "      <td>schneider</td>\n",
              "      <td>48u - 56u</td>\n",
              "      <td>-</td>\n",
              "      <td>7.74</td>\n",
              "      <td>7.44</td>\n",
              "      <td>0.30</td>\n",
              "    </tr>\n",
              "    <tr>\n",
              "      <th>68</th>\n",
              "      <td>berta</td>\n",
              "      <td>napolitani</td>\n",
              "      <td>-</td>\n",
              "      <td>42u - 44u</td>\n",
              "      <td>7.68</td>\n",
              "      <td>7.21</td>\n",
              "      <td>NaN</td>\n",
              "    </tr>\n",
              "    <tr>\n",
              "      <th>69</th>\n",
              "      <td>armina</td>\n",
              "      <td>sauvé</td>\n",
              "      <td>36u - 46u</td>\n",
              "      <td>-</td>\n",
              "      <td>7.86</td>\n",
              "      <td>7.40</td>\n",
              "      <td>NaN</td>\n",
              "    </tr>\n",
              "  </tbody>\n",
              "</table>\n",
              "<p>70 rows × 7 columns</p>\n",
              "</div>"
            ],
            "text/plain": [
              "   given_name     surname    auralin  ... hba1c_start  hba1c_end  hba1c_change\n",
              "0       jožka   resanovič  22u - 30u  ...        7.56       7.22          0.34\n",
              "1   inunnguaq    heilmann  57u - 67u  ...        7.85       7.45           NaN\n",
              "2       alwin    svensson  36u - 39u  ...        7.78       7.34           NaN\n",
              "3         thể       lương          -  ...        7.64       7.22          0.92\n",
              "4      amanda     ribeiro  36u - 44u  ...        7.85       7.47          0.38\n",
              "..        ...         ...        ...  ...         ...        ...           ...\n",
              "65     rovzan     kishiev  32u - 37u  ...        7.75       7.41          0.34\n",
              "66      jakob    jakobsen          -  ...        7.96       7.51          0.95\n",
              "67      bernd   schneider  48u - 56u  ...        7.74       7.44          0.30\n",
              "68      berta  napolitani          -  ...        7.68       7.21           NaN\n",
              "69     armina       sauvé  36u - 46u  ...        7.86       7.40           NaN\n",
              "\n",
              "[70 rows x 7 columns]"
            ]
          },
          "metadata": {
            "tags": []
          },
          "execution_count": 30
        }
      ]
    },
    {
      "cell_type": "code",
      "metadata": {
        "id": "xUIJedYh9Rf4",
        "outputId": "c99c34f6-278b-42a3-e258-6d228e8f4c0d",
        "colab": {
          "base_uri": "https://localhost:8080/",
          "height": 34
        }
      },
      "source": [
        "treatment_copy.shape"
      ],
      "execution_count": 31,
      "outputs": [
        {
          "output_type": "execute_result",
          "data": {
            "text/plain": [
              "(280, 8)"
            ]
          },
          "metadata": {
            "tags": []
          },
          "execution_count": 31
        }
      ]
    },
    {
      "cell_type": "code",
      "metadata": {
        "id": "jkPcb48N6deM"
      },
      "source": [
        "# maintaining a copy of treatment_cut\n",
        "treatment_cut_copy=treatment_cut.copy()"
      ],
      "execution_count": 32,
      "outputs": []
    },
    {
      "cell_type": "code",
      "metadata": {
        "id": "zXlcq2Dd6UyM",
        "outputId": "856edfb7-d1b9-4c9c-b0ef-38c8232320eb",
        "colab": {
          "base_uri": "https://localhost:8080/",
          "height": 204
        }
      },
      "source": [
        "treatment_cut_copy.head()"
      ],
      "execution_count": 33,
      "outputs": [
        {
          "output_type": "execute_result",
          "data": {
            "text/html": [
              "<div>\n",
              "<style scoped>\n",
              "    .dataframe tbody tr th:only-of-type {\n",
              "        vertical-align: middle;\n",
              "    }\n",
              "\n",
              "    .dataframe tbody tr th {\n",
              "        vertical-align: top;\n",
              "    }\n",
              "\n",
              "    .dataframe thead th {\n",
              "        text-align: right;\n",
              "    }\n",
              "</style>\n",
              "<table border=\"1\" class=\"dataframe\">\n",
              "  <thead>\n",
              "    <tr style=\"text-align: right;\">\n",
              "      <th></th>\n",
              "      <th>given_name</th>\n",
              "      <th>surname</th>\n",
              "      <th>auralin</th>\n",
              "      <th>novodra</th>\n",
              "      <th>hba1c_start</th>\n",
              "      <th>hba1c_end</th>\n",
              "      <th>hba1c_change</th>\n",
              "    </tr>\n",
              "  </thead>\n",
              "  <tbody>\n",
              "    <tr>\n",
              "      <th>0</th>\n",
              "      <td>jožka</td>\n",
              "      <td>resanovič</td>\n",
              "      <td>22u - 30u</td>\n",
              "      <td>-</td>\n",
              "      <td>7.56</td>\n",
              "      <td>7.22</td>\n",
              "      <td>0.34</td>\n",
              "    </tr>\n",
              "    <tr>\n",
              "      <th>1</th>\n",
              "      <td>inunnguaq</td>\n",
              "      <td>heilmann</td>\n",
              "      <td>57u - 67u</td>\n",
              "      <td>-</td>\n",
              "      <td>7.85</td>\n",
              "      <td>7.45</td>\n",
              "      <td>NaN</td>\n",
              "    </tr>\n",
              "    <tr>\n",
              "      <th>2</th>\n",
              "      <td>alwin</td>\n",
              "      <td>svensson</td>\n",
              "      <td>36u - 39u</td>\n",
              "      <td>-</td>\n",
              "      <td>7.78</td>\n",
              "      <td>7.34</td>\n",
              "      <td>NaN</td>\n",
              "    </tr>\n",
              "    <tr>\n",
              "      <th>3</th>\n",
              "      <td>thể</td>\n",
              "      <td>lương</td>\n",
              "      <td>-</td>\n",
              "      <td>61u - 64u</td>\n",
              "      <td>7.64</td>\n",
              "      <td>7.22</td>\n",
              "      <td>0.92</td>\n",
              "    </tr>\n",
              "    <tr>\n",
              "      <th>4</th>\n",
              "      <td>amanda</td>\n",
              "      <td>ribeiro</td>\n",
              "      <td>36u - 44u</td>\n",
              "      <td>-</td>\n",
              "      <td>7.85</td>\n",
              "      <td>7.47</td>\n",
              "      <td>0.38</td>\n",
              "    </tr>\n",
              "  </tbody>\n",
              "</table>\n",
              "</div>"
            ],
            "text/plain": [
              "  given_name    surname    auralin  ... hba1c_start  hba1c_end  hba1c_change\n",
              "0      jožka  resanovič  22u - 30u  ...        7.56       7.22          0.34\n",
              "1  inunnguaq   heilmann  57u - 67u  ...        7.85       7.45           NaN\n",
              "2      alwin   svensson  36u - 39u  ...        7.78       7.34           NaN\n",
              "3        thể      lương          -  ...        7.64       7.22          0.92\n",
              "4     amanda    ribeiro  36u - 44u  ...        7.85       7.47          0.38\n",
              "\n",
              "[5 rows x 7 columns]"
            ]
          },
          "metadata": {
            "tags": []
          },
          "execution_count": 33
        }
      ]
    },
    {
      "cell_type": "markdown",
      "metadata": {
        "id": "-d-Y2U0W_kEY"
      },
      "source": [
        "PREPROCESSING THE TREATMENT_CUT SIMILAR TO TREATMENT"
      ]
    },
    {
      "cell_type": "markdown",
      "metadata": {
        "id": "o58HZ7nT_xTD"
      },
      "source": [
        "DEFINE\n",
        "\n",
        "- THERE ARE MISSING VALUES IN hba1c_change\n",
        "- CONVERTED THE AURALIN AND NOVODRA COLUMN INTO START END AND TREATMENT"
      ]
    },
    {
      "cell_type": "markdown",
      "metadata": {
        "id": "lYfUDVKT_sm2"
      },
      "source": [
        "CODE"
      ]
    },
    {
      "cell_type": "code",
      "metadata": {
        "id": "wpHVf1xP-SbB"
      },
      "source": [
        "treatment_cut_copy['hba1c_change']=treatment_cut_copy['hba1c_start']-treatment_cut_copy['hba1c_end']\n"
      ],
      "execution_count": 34,
      "outputs": []
    },
    {
      "cell_type": "code",
      "metadata": {
        "id": "7NFD0qVd-fY6",
        "outputId": "a343b998-fb52-4a64-acf8-42e994603d3e",
        "colab": {
          "base_uri": "https://localhost:8080/",
          "height": 153
        }
      },
      "source": [
        "treatment_cut_copy.isnull().sum()"
      ],
      "execution_count": 35,
      "outputs": [
        {
          "output_type": "execute_result",
          "data": {
            "text/plain": [
              "given_name      0\n",
              "surname         0\n",
              "auralin         0\n",
              "novodra         0\n",
              "hba1c_start     0\n",
              "hba1c_end       0\n",
              "hba1c_change    0\n",
              "dtype: int64"
            ]
          },
          "metadata": {
            "tags": []
          },
          "execution_count": 35
        }
      ]
    },
    {
      "cell_type": "code",
      "metadata": {
        "id": "K-3_8RZN-kkM"
      },
      "source": [
        "treatment_cut_copy=pd.melt(treatment_cut_copy , id_vars=['given_name','surname','hba1c_start','hba1c_end','hba1c_change'], var_name='treatment',value_name='dose')"
      ],
      "execution_count": 36,
      "outputs": []
    },
    {
      "cell_type": "code",
      "metadata": {
        "id": "xSe11COS-y6V",
        "outputId": "d2868617-d7ba-498e-a5c6-9dde43e6a88d",
        "colab": {
          "base_uri": "https://localhost:8080/",
          "height": 204
        }
      },
      "source": [
        "treatment_cut_copy.head()"
      ],
      "execution_count": 37,
      "outputs": [
        {
          "output_type": "execute_result",
          "data": {
            "text/html": [
              "<div>\n",
              "<style scoped>\n",
              "    .dataframe tbody tr th:only-of-type {\n",
              "        vertical-align: middle;\n",
              "    }\n",
              "\n",
              "    .dataframe tbody tr th {\n",
              "        vertical-align: top;\n",
              "    }\n",
              "\n",
              "    .dataframe thead th {\n",
              "        text-align: right;\n",
              "    }\n",
              "</style>\n",
              "<table border=\"1\" class=\"dataframe\">\n",
              "  <thead>\n",
              "    <tr style=\"text-align: right;\">\n",
              "      <th></th>\n",
              "      <th>given_name</th>\n",
              "      <th>surname</th>\n",
              "      <th>hba1c_start</th>\n",
              "      <th>hba1c_end</th>\n",
              "      <th>hba1c_change</th>\n",
              "      <th>treatment</th>\n",
              "      <th>dose</th>\n",
              "    </tr>\n",
              "  </thead>\n",
              "  <tbody>\n",
              "    <tr>\n",
              "      <th>0</th>\n",
              "      <td>jožka</td>\n",
              "      <td>resanovič</td>\n",
              "      <td>7.56</td>\n",
              "      <td>7.22</td>\n",
              "      <td>0.34</td>\n",
              "      <td>auralin</td>\n",
              "      <td>22u - 30u</td>\n",
              "    </tr>\n",
              "    <tr>\n",
              "      <th>1</th>\n",
              "      <td>inunnguaq</td>\n",
              "      <td>heilmann</td>\n",
              "      <td>7.85</td>\n",
              "      <td>7.45</td>\n",
              "      <td>0.40</td>\n",
              "      <td>auralin</td>\n",
              "      <td>57u - 67u</td>\n",
              "    </tr>\n",
              "    <tr>\n",
              "      <th>2</th>\n",
              "      <td>alwin</td>\n",
              "      <td>svensson</td>\n",
              "      <td>7.78</td>\n",
              "      <td>7.34</td>\n",
              "      <td>0.44</td>\n",
              "      <td>auralin</td>\n",
              "      <td>36u - 39u</td>\n",
              "    </tr>\n",
              "    <tr>\n",
              "      <th>3</th>\n",
              "      <td>thể</td>\n",
              "      <td>lương</td>\n",
              "      <td>7.64</td>\n",
              "      <td>7.22</td>\n",
              "      <td>0.42</td>\n",
              "      <td>auralin</td>\n",
              "      <td>-</td>\n",
              "    </tr>\n",
              "    <tr>\n",
              "      <th>4</th>\n",
              "      <td>amanda</td>\n",
              "      <td>ribeiro</td>\n",
              "      <td>7.85</td>\n",
              "      <td>7.47</td>\n",
              "      <td>0.38</td>\n",
              "      <td>auralin</td>\n",
              "      <td>36u - 44u</td>\n",
              "    </tr>\n",
              "  </tbody>\n",
              "</table>\n",
              "</div>"
            ],
            "text/plain": [
              "  given_name    surname  hba1c_start  ...  hba1c_change  treatment       dose\n",
              "0      jožka  resanovič         7.56  ...          0.34    auralin  22u - 30u\n",
              "1  inunnguaq   heilmann         7.85  ...          0.40    auralin  57u - 67u\n",
              "2      alwin   svensson         7.78  ...          0.44    auralin  36u - 39u\n",
              "3        thể      lương         7.64  ...          0.42    auralin          -\n",
              "4     amanda    ribeiro         7.85  ...          0.38    auralin  36u - 44u\n",
              "\n",
              "[5 rows x 7 columns]"
            ]
          },
          "metadata": {
            "tags": []
          },
          "execution_count": 37
        }
      ]
    },
    {
      "cell_type": "code",
      "metadata": {
        "id": "Xawphx9c-1dL"
      },
      "source": [
        "treatment_cut_copy=treatment_cut_copy[treatment_cut_copy['dose']!='-']"
      ],
      "execution_count": 38,
      "outputs": []
    },
    {
      "cell_type": "code",
      "metadata": {
        "id": "-synKRTi-_jG",
        "outputId": "5a32e0ce-fa64-475e-f358-6f69e6ef9b26",
        "colab": {
          "base_uri": "https://localhost:8080/",
          "height": 51
        }
      },
      "source": [
        "treatment_cut_copy['start'],treatment_cut_copy['end']=treatment_cut_copy['dose'].str.split('-').str"
      ],
      "execution_count": 39,
      "outputs": [
        {
          "output_type": "stream",
          "text": [
            "/usr/local/lib/python3.6/dist-packages/ipykernel_launcher.py:1: FutureWarning: Columnar iteration over characters will be deprecated in future releases.\n",
            "  \"\"\"Entry point for launching an IPython kernel.\n"
          ],
          "name": "stderr"
        }
      ]
    },
    {
      "cell_type": "code",
      "metadata": {
        "id": "wBwNzxmJ_KLh"
      },
      "source": [
        "treatment_cut_copy.drop('dose',axis=1,inplace=True)"
      ],
      "execution_count": 40,
      "outputs": []
    },
    {
      "cell_type": "markdown",
      "metadata": {
        "id": "EsIhseH5_vBN"
      },
      "source": [
        "TEST"
      ]
    },
    {
      "cell_type": "code",
      "metadata": {
        "id": "YUZyWS4H_U8h",
        "outputId": "bb4462f8-35d4-4295-d887-815b7da15ca0",
        "colab": {
          "base_uri": "https://localhost:8080/",
          "height": 204
        }
      },
      "source": [
        "treatment_cut_copy.sample(5)"
      ],
      "execution_count": 41,
      "outputs": [
        {
          "output_type": "execute_result",
          "data": {
            "text/html": [
              "<div>\n",
              "<style scoped>\n",
              "    .dataframe tbody tr th:only-of-type {\n",
              "        vertical-align: middle;\n",
              "    }\n",
              "\n",
              "    .dataframe tbody tr th {\n",
              "        vertical-align: top;\n",
              "    }\n",
              "\n",
              "    .dataframe thead th {\n",
              "        text-align: right;\n",
              "    }\n",
              "</style>\n",
              "<table border=\"1\" class=\"dataframe\">\n",
              "  <thead>\n",
              "    <tr style=\"text-align: right;\">\n",
              "      <th></th>\n",
              "      <th>given_name</th>\n",
              "      <th>surname</th>\n",
              "      <th>hba1c_start</th>\n",
              "      <th>hba1c_end</th>\n",
              "      <th>hba1c_change</th>\n",
              "      <th>treatment</th>\n",
              "      <th>start</th>\n",
              "      <th>end</th>\n",
              "    </tr>\n",
              "  </thead>\n",
              "  <tbody>\n",
              "    <tr>\n",
              "      <th>11</th>\n",
              "      <td>gabriela</td>\n",
              "      <td>michalčíková</td>\n",
              "      <td>8.37</td>\n",
              "      <td>7.97</td>\n",
              "      <td>0.40</td>\n",
              "      <td>auralin</td>\n",
              "      <td>26u</td>\n",
              "      <td>36u</td>\n",
              "    </tr>\n",
              "    <tr>\n",
              "      <th>46</th>\n",
              "      <td>anja</td>\n",
              "      <td>mueller</td>\n",
              "      <td>7.58</td>\n",
              "      <td>7.29</td>\n",
              "      <td>0.29</td>\n",
              "      <td>auralin</td>\n",
              "      <td>43u</td>\n",
              "      <td>56u</td>\n",
              "    </tr>\n",
              "    <tr>\n",
              "      <th>124</th>\n",
              "      <td>borna</td>\n",
              "      <td>šlezinger</td>\n",
              "      <td>7.55</td>\n",
              "      <td>7.18</td>\n",
              "      <td>0.37</td>\n",
              "      <td>novodra</td>\n",
              "      <td>42u</td>\n",
              "      <td>41u</td>\n",
              "    </tr>\n",
              "    <tr>\n",
              "      <th>35</th>\n",
              "      <td>alvin</td>\n",
              "      <td>jackson</td>\n",
              "      <td>7.62</td>\n",
              "      <td>7.23</td>\n",
              "      <td>0.39</td>\n",
              "      <td>auralin</td>\n",
              "      <td>38u</td>\n",
              "      <td>43u</td>\n",
              "    </tr>\n",
              "    <tr>\n",
              "      <th>103</th>\n",
              "      <td>meaza</td>\n",
              "      <td>brhane</td>\n",
              "      <td>7.70</td>\n",
              "      <td>7.36</td>\n",
              "      <td>0.34</td>\n",
              "      <td>novodra</td>\n",
              "      <td>37u</td>\n",
              "      <td>41u</td>\n",
              "    </tr>\n",
              "  </tbody>\n",
              "</table>\n",
              "</div>"
            ],
            "text/plain": [
              "    given_name       surname  hba1c_start  ...  treatment  start   end\n",
              "11    gabriela  michalčíková         8.37  ...    auralin   26u    36u\n",
              "46        anja       mueller         7.58  ...    auralin   43u    56u\n",
              "124      borna     šlezinger         7.55  ...    novodra   42u    41u\n",
              "35       alvin       jackson         7.62  ...    auralin   38u    43u\n",
              "103      meaza        brhane         7.70  ...    novodra   37u    41u\n",
              "\n",
              "[5 rows x 8 columns]"
            ]
          },
          "metadata": {
            "tags": []
          },
          "execution_count": 41
        }
      ]
    },
    {
      "cell_type": "markdown",
      "metadata": {
        "id": "JtJxCs9XAEQY"
      },
      "source": [
        "MERGING TREATMENT AND TREATMENT CUT\n",
        "\n",
        "- THERE ARE MISSING ROWS PRESENT IN TREATMENT\n",
        "- 350 ROWS ARE SUPPOSED TO BE PRESENT WHEREAS ONLY 280 ARE PRESENT"
      ]
    },
    {
      "cell_type": "code",
      "metadata": {
        "id": "GYKjn-C-Aqfh"
      },
      "source": [
        "treatment_copy=pd.concat([treatment_copy,treatment_cut_copy])"
      ],
      "execution_count": 42,
      "outputs": []
    },
    {
      "cell_type": "markdown",
      "metadata": {
        "id": "sAxcu3MSCHKA"
      },
      "source": [
        "TEST"
      ]
    },
    {
      "cell_type": "code",
      "metadata": {
        "id": "8JPX_57wBI80",
        "outputId": "6d58796a-1080-47a2-f848-e164e9852fd7",
        "colab": {
          "base_uri": "https://localhost:8080/",
          "height": 34
        }
      },
      "source": [
        "treatment_copy.shape"
      ],
      "execution_count": 43,
      "outputs": [
        {
          "output_type": "execute_result",
          "data": {
            "text/plain": [
              "(350, 8)"
            ]
          },
          "metadata": {
            "tags": []
          },
          "execution_count": 43
        }
      ]
    },
    {
      "cell_type": "code",
      "metadata": {
        "id": "S09QB-ouCGLM",
        "outputId": "67b2f53c-1532-4664-9b19-2ee7938df5d6",
        "colab": {
          "base_uri": "https://localhost:8080/",
          "height": 204
        }
      },
      "source": [
        "treatment_copy.tail()"
      ],
      "execution_count": 44,
      "outputs": [
        {
          "output_type": "execute_result",
          "data": {
            "text/html": [
              "<div>\n",
              "<style scoped>\n",
              "    .dataframe tbody tr th:only-of-type {\n",
              "        vertical-align: middle;\n",
              "    }\n",
              "\n",
              "    .dataframe tbody tr th {\n",
              "        vertical-align: top;\n",
              "    }\n",
              "\n",
              "    .dataframe thead th {\n",
              "        text-align: right;\n",
              "    }\n",
              "</style>\n",
              "<table border=\"1\" class=\"dataframe\">\n",
              "  <thead>\n",
              "    <tr style=\"text-align: right;\">\n",
              "      <th></th>\n",
              "      <th>given_name</th>\n",
              "      <th>surname</th>\n",
              "      <th>hba1c_start</th>\n",
              "      <th>hba1c_end</th>\n",
              "      <th>hba1c_change</th>\n",
              "      <th>treatment</th>\n",
              "      <th>start</th>\n",
              "      <th>end</th>\n",
              "    </tr>\n",
              "  </thead>\n",
              "  <tbody>\n",
              "    <tr>\n",
              "      <th>128</th>\n",
              "      <td>christopher</td>\n",
              "      <td>woodward</td>\n",
              "      <td>7.51</td>\n",
              "      <td>7.06</td>\n",
              "      <td>0.45</td>\n",
              "      <td>novodra</td>\n",
              "      <td>55u</td>\n",
              "      <td>51u</td>\n",
              "    </tr>\n",
              "    <tr>\n",
              "      <th>130</th>\n",
              "      <td>maret</td>\n",
              "      <td>sultygov</td>\n",
              "      <td>7.67</td>\n",
              "      <td>7.30</td>\n",
              "      <td>0.37</td>\n",
              "      <td>novodra</td>\n",
              "      <td>26u</td>\n",
              "      <td>23u</td>\n",
              "    </tr>\n",
              "    <tr>\n",
              "      <th>134</th>\n",
              "      <td>lixue</td>\n",
              "      <td>hsueh</td>\n",
              "      <td>9.21</td>\n",
              "      <td>8.80</td>\n",
              "      <td>0.41</td>\n",
              "      <td>novodra</td>\n",
              "      <td>22u</td>\n",
              "      <td>23u</td>\n",
              "    </tr>\n",
              "    <tr>\n",
              "      <th>136</th>\n",
              "      <td>jakob</td>\n",
              "      <td>jakobsen</td>\n",
              "      <td>7.96</td>\n",
              "      <td>7.51</td>\n",
              "      <td>0.45</td>\n",
              "      <td>novodra</td>\n",
              "      <td>28u</td>\n",
              "      <td>26u</td>\n",
              "    </tr>\n",
              "    <tr>\n",
              "      <th>138</th>\n",
              "      <td>berta</td>\n",
              "      <td>napolitani</td>\n",
              "      <td>7.68</td>\n",
              "      <td>7.21</td>\n",
              "      <td>0.47</td>\n",
              "      <td>novodra</td>\n",
              "      <td>42u</td>\n",
              "      <td>44u</td>\n",
              "    </tr>\n",
              "  </tbody>\n",
              "</table>\n",
              "</div>"
            ],
            "text/plain": [
              "      given_name     surname  hba1c_start  ...  treatment  start   end\n",
              "128  christopher    woodward         7.51  ...    novodra   55u    51u\n",
              "130        maret    sultygov         7.67  ...    novodra   26u    23u\n",
              "134        lixue       hsueh         9.21  ...    novodra   22u    23u\n",
              "136        jakob    jakobsen         7.96  ...    novodra   28u    26u\n",
              "138        berta  napolitani         7.68  ...    novodra   42u    44u\n",
              "\n",
              "[5 rows x 8 columns]"
            ]
          },
          "metadata": {
            "tags": []
          },
          "execution_count": 44
        }
      ]
    },
    {
      "cell_type": "markdown",
      "metadata": {
        "id": "38GTiumkE5jx"
      },
      "source": [
        "CAPITILISING THE FIRST LETTER OF THE GIVEN_NAME ANS SURNAME \n",
        "- SIMILAR TO THE PATIENTS TABLE"
      ]
    },
    {
      "cell_type": "code",
      "metadata": {
        "id": "sPVVJmfkCL9I"
      },
      "source": [
        "def capital_given_name(value):\n",
        "   \n",
        "   return value.title()"
      ],
      "execution_count": 45,
      "outputs": []
    },
    {
      "cell_type": "code",
      "metadata": {
        "id": "To3N2LoSCkB-",
        "outputId": "29bf52ff-2105-4bd8-c03e-feeabbdbca18",
        "colab": {
          "base_uri": "https://localhost:8080/",
          "height": 35
        }
      },
      "source": [
        "capital_given_name('maret')"
      ],
      "execution_count": 46,
      "outputs": [
        {
          "output_type": "execute_result",
          "data": {
            "application/vnd.google.colaboratory.intrinsic+json": {
              "type": "string"
            },
            "text/plain": [
              "'Maret'"
            ]
          },
          "metadata": {
            "tags": []
          },
          "execution_count": 46
        }
      ]
    },
    {
      "cell_type": "code",
      "metadata": {
        "id": "wBhiOaidCmm1"
      },
      "source": [
        "treatment_copy['given_name']=treatment_copy['given_name'].apply(capital_given_name)"
      ],
      "execution_count": 47,
      "outputs": []
    },
    {
      "cell_type": "code",
      "metadata": {
        "id": "QZSWYCucD5re"
      },
      "source": [
        "treatment_copy['surname']=treatment_copy['surname'].apply(capital_given_name)"
      ],
      "execution_count": 48,
      "outputs": []
    },
    {
      "cell_type": "code",
      "metadata": {
        "id": "BUPz0SnyEBWP",
        "outputId": "737c0b47-9bc9-42f2-a9c8-271abdb6bef8",
        "colab": {
          "base_uri": "https://localhost:8080/",
          "height": 419
        }
      },
      "source": [
        "treatment_copy"
      ],
      "execution_count": 49,
      "outputs": [
        {
          "output_type": "execute_result",
          "data": {
            "text/html": [
              "<div>\n",
              "<style scoped>\n",
              "    .dataframe tbody tr th:only-of-type {\n",
              "        vertical-align: middle;\n",
              "    }\n",
              "\n",
              "    .dataframe tbody tr th {\n",
              "        vertical-align: top;\n",
              "    }\n",
              "\n",
              "    .dataframe thead th {\n",
              "        text-align: right;\n",
              "    }\n",
              "</style>\n",
              "<table border=\"1\" class=\"dataframe\">\n",
              "  <thead>\n",
              "    <tr style=\"text-align: right;\">\n",
              "      <th></th>\n",
              "      <th>given_name</th>\n",
              "      <th>surname</th>\n",
              "      <th>hba1c_start</th>\n",
              "      <th>hba1c_end</th>\n",
              "      <th>hba1c_change</th>\n",
              "      <th>treatment</th>\n",
              "      <th>start</th>\n",
              "      <th>end</th>\n",
              "    </tr>\n",
              "  </thead>\n",
              "  <tbody>\n",
              "    <tr>\n",
              "      <th>0</th>\n",
              "      <td>Veronika</td>\n",
              "      <td>Jindrová</td>\n",
              "      <td>7.63</td>\n",
              "      <td>7.20</td>\n",
              "      <td>0.43</td>\n",
              "      <td>auralin</td>\n",
              "      <td>41u</td>\n",
              "      <td>48u</td>\n",
              "    </tr>\n",
              "    <tr>\n",
              "      <th>3</th>\n",
              "      <td>Skye</td>\n",
              "      <td>Gormanston</td>\n",
              "      <td>7.97</td>\n",
              "      <td>7.62</td>\n",
              "      <td>0.35</td>\n",
              "      <td>auralin</td>\n",
              "      <td>33u</td>\n",
              "      <td>36u</td>\n",
              "    </tr>\n",
              "    <tr>\n",
              "      <th>6</th>\n",
              "      <td>Sophia</td>\n",
              "      <td>Haugen</td>\n",
              "      <td>7.65</td>\n",
              "      <td>7.27</td>\n",
              "      <td>0.38</td>\n",
              "      <td>auralin</td>\n",
              "      <td>37u</td>\n",
              "      <td>42u</td>\n",
              "    </tr>\n",
              "    <tr>\n",
              "      <th>7</th>\n",
              "      <td>Eddie</td>\n",
              "      <td>Archer</td>\n",
              "      <td>7.89</td>\n",
              "      <td>7.55</td>\n",
              "      <td>0.34</td>\n",
              "      <td>auralin</td>\n",
              "      <td>31u</td>\n",
              "      <td>38u</td>\n",
              "    </tr>\n",
              "    <tr>\n",
              "      <th>9</th>\n",
              "      <td>Asia</td>\n",
              "      <td>Woźniak</td>\n",
              "      <td>7.76</td>\n",
              "      <td>7.37</td>\n",
              "      <td>0.39</td>\n",
              "      <td>auralin</td>\n",
              "      <td>30u</td>\n",
              "      <td>36u</td>\n",
              "    </tr>\n",
              "    <tr>\n",
              "      <th>...</th>\n",
              "      <td>...</td>\n",
              "      <td>...</td>\n",
              "      <td>...</td>\n",
              "      <td>...</td>\n",
              "      <td>...</td>\n",
              "      <td>...</td>\n",
              "      <td>...</td>\n",
              "      <td>...</td>\n",
              "    </tr>\n",
              "    <tr>\n",
              "      <th>128</th>\n",
              "      <td>Christopher</td>\n",
              "      <td>Woodward</td>\n",
              "      <td>7.51</td>\n",
              "      <td>7.06</td>\n",
              "      <td>0.45</td>\n",
              "      <td>novodra</td>\n",
              "      <td>55u</td>\n",
              "      <td>51u</td>\n",
              "    </tr>\n",
              "    <tr>\n",
              "      <th>130</th>\n",
              "      <td>Maret</td>\n",
              "      <td>Sultygov</td>\n",
              "      <td>7.67</td>\n",
              "      <td>7.30</td>\n",
              "      <td>0.37</td>\n",
              "      <td>novodra</td>\n",
              "      <td>26u</td>\n",
              "      <td>23u</td>\n",
              "    </tr>\n",
              "    <tr>\n",
              "      <th>134</th>\n",
              "      <td>Lixue</td>\n",
              "      <td>Hsueh</td>\n",
              "      <td>9.21</td>\n",
              "      <td>8.80</td>\n",
              "      <td>0.41</td>\n",
              "      <td>novodra</td>\n",
              "      <td>22u</td>\n",
              "      <td>23u</td>\n",
              "    </tr>\n",
              "    <tr>\n",
              "      <th>136</th>\n",
              "      <td>Jakob</td>\n",
              "      <td>Jakobsen</td>\n",
              "      <td>7.96</td>\n",
              "      <td>7.51</td>\n",
              "      <td>0.45</td>\n",
              "      <td>novodra</td>\n",
              "      <td>28u</td>\n",
              "      <td>26u</td>\n",
              "    </tr>\n",
              "    <tr>\n",
              "      <th>138</th>\n",
              "      <td>Berta</td>\n",
              "      <td>Napolitani</td>\n",
              "      <td>7.68</td>\n",
              "      <td>7.21</td>\n",
              "      <td>0.47</td>\n",
              "      <td>novodra</td>\n",
              "      <td>42u</td>\n",
              "      <td>44u</td>\n",
              "    </tr>\n",
              "  </tbody>\n",
              "</table>\n",
              "<p>350 rows × 8 columns</p>\n",
              "</div>"
            ],
            "text/plain": [
              "      given_name     surname  hba1c_start  ...  treatment  start   end\n",
              "0       Veronika    Jindrová         7.63  ...    auralin   41u    48u\n",
              "3           Skye  Gormanston         7.97  ...    auralin   33u    36u\n",
              "6         Sophia      Haugen         7.65  ...    auralin   37u    42u\n",
              "7          Eddie      Archer         7.89  ...    auralin   31u    38u\n",
              "9           Asia     Woźniak         7.76  ...    auralin   30u    36u\n",
              "..           ...         ...          ...  ...        ...    ...   ...\n",
              "128  Christopher    Woodward         7.51  ...    novodra   55u    51u\n",
              "130        Maret    Sultygov         7.67  ...    novodra   26u    23u\n",
              "134        Lixue       Hsueh         9.21  ...    novodra   22u    23u\n",
              "136        Jakob    Jakobsen         7.96  ...    novodra   28u    26u\n",
              "138        Berta  Napolitani         7.68  ...    novodra   42u    44u\n",
              "\n",
              "[350 rows x 8 columns]"
            ]
          },
          "metadata": {
            "tags": []
          },
          "execution_count": 49
        }
      ]
    },
    {
      "cell_type": "markdown",
      "metadata": {
        "id": "82bG9HqqFaXy"
      },
      "source": [
        "REMOVING u FROM START AND END"
      ]
    },
    {
      "cell_type": "code",
      "metadata": {
        "id": "uopPr8RJEOmW"
      },
      "source": [
        "treatment_copy['start']=treatment_copy['start'].str.split('u').str[0]"
      ],
      "execution_count": 50,
      "outputs": []
    },
    {
      "cell_type": "code",
      "metadata": {
        "id": "WNBB_nFyFtQs",
        "outputId": "3a492eee-9532-499f-b0e4-fca22ee8b3f6",
        "colab": {
          "base_uri": "https://localhost:8080/",
          "height": 204
        }
      },
      "source": [
        "treatment_copy.head()"
      ],
      "execution_count": 51,
      "outputs": [
        {
          "output_type": "execute_result",
          "data": {
            "text/html": [
              "<div>\n",
              "<style scoped>\n",
              "    .dataframe tbody tr th:only-of-type {\n",
              "        vertical-align: middle;\n",
              "    }\n",
              "\n",
              "    .dataframe tbody tr th {\n",
              "        vertical-align: top;\n",
              "    }\n",
              "\n",
              "    .dataframe thead th {\n",
              "        text-align: right;\n",
              "    }\n",
              "</style>\n",
              "<table border=\"1\" class=\"dataframe\">\n",
              "  <thead>\n",
              "    <tr style=\"text-align: right;\">\n",
              "      <th></th>\n",
              "      <th>given_name</th>\n",
              "      <th>surname</th>\n",
              "      <th>hba1c_start</th>\n",
              "      <th>hba1c_end</th>\n",
              "      <th>hba1c_change</th>\n",
              "      <th>treatment</th>\n",
              "      <th>start</th>\n",
              "      <th>end</th>\n",
              "    </tr>\n",
              "  </thead>\n",
              "  <tbody>\n",
              "    <tr>\n",
              "      <th>0</th>\n",
              "      <td>Veronika</td>\n",
              "      <td>Jindrová</td>\n",
              "      <td>7.63</td>\n",
              "      <td>7.20</td>\n",
              "      <td>0.43</td>\n",
              "      <td>auralin</td>\n",
              "      <td>41</td>\n",
              "      <td>48u</td>\n",
              "    </tr>\n",
              "    <tr>\n",
              "      <th>3</th>\n",
              "      <td>Skye</td>\n",
              "      <td>Gormanston</td>\n",
              "      <td>7.97</td>\n",
              "      <td>7.62</td>\n",
              "      <td>0.35</td>\n",
              "      <td>auralin</td>\n",
              "      <td>33</td>\n",
              "      <td>36u</td>\n",
              "    </tr>\n",
              "    <tr>\n",
              "      <th>6</th>\n",
              "      <td>Sophia</td>\n",
              "      <td>Haugen</td>\n",
              "      <td>7.65</td>\n",
              "      <td>7.27</td>\n",
              "      <td>0.38</td>\n",
              "      <td>auralin</td>\n",
              "      <td>37</td>\n",
              "      <td>42u</td>\n",
              "    </tr>\n",
              "    <tr>\n",
              "      <th>7</th>\n",
              "      <td>Eddie</td>\n",
              "      <td>Archer</td>\n",
              "      <td>7.89</td>\n",
              "      <td>7.55</td>\n",
              "      <td>0.34</td>\n",
              "      <td>auralin</td>\n",
              "      <td>31</td>\n",
              "      <td>38u</td>\n",
              "    </tr>\n",
              "    <tr>\n",
              "      <th>9</th>\n",
              "      <td>Asia</td>\n",
              "      <td>Woźniak</td>\n",
              "      <td>7.76</td>\n",
              "      <td>7.37</td>\n",
              "      <td>0.39</td>\n",
              "      <td>auralin</td>\n",
              "      <td>30</td>\n",
              "      <td>36u</td>\n",
              "    </tr>\n",
              "  </tbody>\n",
              "</table>\n",
              "</div>"
            ],
            "text/plain": [
              "  given_name     surname  hba1c_start  ...  treatment  start   end\n",
              "0   Veronika    Jindrová         7.63  ...    auralin     41   48u\n",
              "3       Skye  Gormanston         7.97  ...    auralin     33   36u\n",
              "6     Sophia      Haugen         7.65  ...    auralin     37   42u\n",
              "7      Eddie      Archer         7.89  ...    auralin     31   38u\n",
              "9       Asia     Woźniak         7.76  ...    auralin     30   36u\n",
              "\n",
              "[5 rows x 8 columns]"
            ]
          },
          "metadata": {
            "tags": []
          },
          "execution_count": 51
        }
      ]
    },
    {
      "cell_type": "code",
      "metadata": {
        "id": "dLx1Lq7eF3_K"
      },
      "source": [
        "treatment_copy['end']=treatment_copy['end'].str.split('u').str[0]"
      ],
      "execution_count": 52,
      "outputs": []
    },
    {
      "cell_type": "code",
      "metadata": {
        "id": "3UtncQHLF_du",
        "outputId": "082f78c5-fd8c-4c54-e80b-949c3fc5049f",
        "colab": {
          "base_uri": "https://localhost:8080/",
          "height": 204
        }
      },
      "source": [
        "treatment_copy.head()"
      ],
      "execution_count": 53,
      "outputs": [
        {
          "output_type": "execute_result",
          "data": {
            "text/html": [
              "<div>\n",
              "<style scoped>\n",
              "    .dataframe tbody tr th:only-of-type {\n",
              "        vertical-align: middle;\n",
              "    }\n",
              "\n",
              "    .dataframe tbody tr th {\n",
              "        vertical-align: top;\n",
              "    }\n",
              "\n",
              "    .dataframe thead th {\n",
              "        text-align: right;\n",
              "    }\n",
              "</style>\n",
              "<table border=\"1\" class=\"dataframe\">\n",
              "  <thead>\n",
              "    <tr style=\"text-align: right;\">\n",
              "      <th></th>\n",
              "      <th>given_name</th>\n",
              "      <th>surname</th>\n",
              "      <th>hba1c_start</th>\n",
              "      <th>hba1c_end</th>\n",
              "      <th>hba1c_change</th>\n",
              "      <th>treatment</th>\n",
              "      <th>start</th>\n",
              "      <th>end</th>\n",
              "    </tr>\n",
              "  </thead>\n",
              "  <tbody>\n",
              "    <tr>\n",
              "      <th>0</th>\n",
              "      <td>Veronika</td>\n",
              "      <td>Jindrová</td>\n",
              "      <td>7.63</td>\n",
              "      <td>7.20</td>\n",
              "      <td>0.43</td>\n",
              "      <td>auralin</td>\n",
              "      <td>41</td>\n",
              "      <td>48</td>\n",
              "    </tr>\n",
              "    <tr>\n",
              "      <th>3</th>\n",
              "      <td>Skye</td>\n",
              "      <td>Gormanston</td>\n",
              "      <td>7.97</td>\n",
              "      <td>7.62</td>\n",
              "      <td>0.35</td>\n",
              "      <td>auralin</td>\n",
              "      <td>33</td>\n",
              "      <td>36</td>\n",
              "    </tr>\n",
              "    <tr>\n",
              "      <th>6</th>\n",
              "      <td>Sophia</td>\n",
              "      <td>Haugen</td>\n",
              "      <td>7.65</td>\n",
              "      <td>7.27</td>\n",
              "      <td>0.38</td>\n",
              "      <td>auralin</td>\n",
              "      <td>37</td>\n",
              "      <td>42</td>\n",
              "    </tr>\n",
              "    <tr>\n",
              "      <th>7</th>\n",
              "      <td>Eddie</td>\n",
              "      <td>Archer</td>\n",
              "      <td>7.89</td>\n",
              "      <td>7.55</td>\n",
              "      <td>0.34</td>\n",
              "      <td>auralin</td>\n",
              "      <td>31</td>\n",
              "      <td>38</td>\n",
              "    </tr>\n",
              "    <tr>\n",
              "      <th>9</th>\n",
              "      <td>Asia</td>\n",
              "      <td>Woźniak</td>\n",
              "      <td>7.76</td>\n",
              "      <td>7.37</td>\n",
              "      <td>0.39</td>\n",
              "      <td>auralin</td>\n",
              "      <td>30</td>\n",
              "      <td>36</td>\n",
              "    </tr>\n",
              "  </tbody>\n",
              "</table>\n",
              "</div>"
            ],
            "text/plain": [
              "  given_name     surname  hba1c_start  ...  treatment  start  end\n",
              "0   Veronika    Jindrová         7.63  ...    auralin     41   48\n",
              "3       Skye  Gormanston         7.97  ...    auralin     33   36\n",
              "6     Sophia      Haugen         7.65  ...    auralin     37   42\n",
              "7      Eddie      Archer         7.89  ...    auralin     31   38\n",
              "9       Asia     Woźniak         7.76  ...    auralin     30   36\n",
              "\n",
              "[5 rows x 8 columns]"
            ]
          },
          "metadata": {
            "tags": []
          },
          "execution_count": 53
        }
      ]
    },
    {
      "cell_type": "code",
      "metadata": {
        "id": "ewmB-3p5GC7Q",
        "outputId": "3778cf29-dbe5-4fe9-8258-a7ed9f231719",
        "colab": {
          "base_uri": "https://localhost:8080/",
          "height": 272
        }
      },
      "source": [
        "treatment_copy.info()"
      ],
      "execution_count": 54,
      "outputs": [
        {
          "output_type": "stream",
          "text": [
            "<class 'pandas.core.frame.DataFrame'>\n",
            "Int64Index: 350 entries, 0 to 138\n",
            "Data columns (total 8 columns):\n",
            " #   Column        Non-Null Count  Dtype  \n",
            "---  ------        --------------  -----  \n",
            " 0   given_name    350 non-null    object \n",
            " 1   surname       350 non-null    object \n",
            " 2   hba1c_start   350 non-null    float64\n",
            " 3   hba1c_end     350 non-null    float64\n",
            " 4   hba1c_change  350 non-null    float64\n",
            " 5   treatment     350 non-null    object \n",
            " 6   start         350 non-null    object \n",
            " 7   end           350 non-null    object \n",
            "dtypes: float64(3), object(5)\n",
            "memory usage: 24.6+ KB\n"
          ],
          "name": "stdout"
        }
      ]
    },
    {
      "cell_type": "markdown",
      "metadata": {
        "id": "kpJj2CLCGLxv"
      },
      "source": [
        "CHANGING THE DTYPE OF START AND END\n",
        "- FROM OBJECT WE ARE CHANGING IT TO INT32"
      ]
    },
    {
      "cell_type": "code",
      "metadata": {
        "id": "cZArK-G7GIi4"
      },
      "source": [
        "treatment_copy['start']=treatment_copy['start'].astype('int32')\n",
        "treatment_copy['end']=treatment_copy['end'].astype('int32')"
      ],
      "execution_count": 55,
      "outputs": []
    },
    {
      "cell_type": "code",
      "metadata": {
        "id": "MQ7TH6YyGeQM",
        "outputId": "01350a33-dad4-4ecc-cc73-8f4b96d19801",
        "colab": {
          "base_uri": "https://localhost:8080/",
          "height": 272
        }
      },
      "source": [
        "treatment_copy.info()"
      ],
      "execution_count": 56,
      "outputs": [
        {
          "output_type": "stream",
          "text": [
            "<class 'pandas.core.frame.DataFrame'>\n",
            "Int64Index: 350 entries, 0 to 138\n",
            "Data columns (total 8 columns):\n",
            " #   Column        Non-Null Count  Dtype  \n",
            "---  ------        --------------  -----  \n",
            " 0   given_name    350 non-null    object \n",
            " 1   surname       350 non-null    object \n",
            " 2   hba1c_start   350 non-null    float64\n",
            " 3   hba1c_end     350 non-null    float64\n",
            " 4   hba1c_change  350 non-null    float64\n",
            " 5   treatment     350 non-null    object \n",
            " 6   start         350 non-null    int32  \n",
            " 7   end           350 non-null    int32  \n",
            "dtypes: float64(3), int32(2), object(3)\n",
            "memory usage: 21.9+ KB\n"
          ],
          "name": "stdout"
        }
      ]
    },
    {
      "cell_type": "code",
      "metadata": {
        "id": "Tmc88hwKGykn",
        "outputId": "71ce2566-c606-46b8-88b4-38a70026b5dc",
        "colab": {
          "base_uri": "https://localhost:8080/",
          "height": 204
        }
      },
      "source": [
        "adverse_copy.head()"
      ],
      "execution_count": 57,
      "outputs": [
        {
          "output_type": "execute_result",
          "data": {
            "text/html": [
              "<div>\n",
              "<style scoped>\n",
              "    .dataframe tbody tr th:only-of-type {\n",
              "        vertical-align: middle;\n",
              "    }\n",
              "\n",
              "    .dataframe tbody tr th {\n",
              "        vertical-align: top;\n",
              "    }\n",
              "\n",
              "    .dataframe thead th {\n",
              "        text-align: right;\n",
              "    }\n",
              "</style>\n",
              "<table border=\"1\" class=\"dataframe\">\n",
              "  <thead>\n",
              "    <tr style=\"text-align: right;\">\n",
              "      <th></th>\n",
              "      <th>given_name</th>\n",
              "      <th>surname</th>\n",
              "      <th>adverse_reaction</th>\n",
              "    </tr>\n",
              "  </thead>\n",
              "  <tbody>\n",
              "    <tr>\n",
              "      <th>0</th>\n",
              "      <td>berta</td>\n",
              "      <td>napolitani</td>\n",
              "      <td>injection site discomfort</td>\n",
              "    </tr>\n",
              "    <tr>\n",
              "      <th>1</th>\n",
              "      <td>lena</td>\n",
              "      <td>baer</td>\n",
              "      <td>hypoglycemia</td>\n",
              "    </tr>\n",
              "    <tr>\n",
              "      <th>2</th>\n",
              "      <td>joseph</td>\n",
              "      <td>day</td>\n",
              "      <td>hypoglycemia</td>\n",
              "    </tr>\n",
              "    <tr>\n",
              "      <th>3</th>\n",
              "      <td>flavia</td>\n",
              "      <td>fiorentino</td>\n",
              "      <td>cough</td>\n",
              "    </tr>\n",
              "    <tr>\n",
              "      <th>4</th>\n",
              "      <td>manouck</td>\n",
              "      <td>wubbels</td>\n",
              "      <td>throat irritation</td>\n",
              "    </tr>\n",
              "  </tbody>\n",
              "</table>\n",
              "</div>"
            ],
            "text/plain": [
              "  given_name     surname           adverse_reaction\n",
              "0      berta  napolitani  injection site discomfort\n",
              "1       lena        baer               hypoglycemia\n",
              "2     joseph         day               hypoglycemia\n",
              "3     flavia  fiorentino                      cough\n",
              "4    manouck     wubbels          throat irritation"
            ]
          },
          "metadata": {
            "tags": []
          },
          "execution_count": 57
        }
      ]
    },
    {
      "cell_type": "code",
      "metadata": {
        "id": "jbxqablUHbr0"
      },
      "source": [
        "adverse_copy['given_name']=adverse_copy['given_name'].apply(capital_given_name)"
      ],
      "execution_count": 58,
      "outputs": []
    },
    {
      "cell_type": "code",
      "metadata": {
        "id": "9Mzs5CCNHtgP"
      },
      "source": [
        "adverse_copy['surname']=adverse_copy['surname'].apply(capital_given_name)"
      ],
      "execution_count": 59,
      "outputs": []
    },
    {
      "cell_type": "code",
      "metadata": {
        "id": "JInbpQYbIAam",
        "outputId": "33bda603-3dce-450e-b19c-e858025fa472",
        "colab": {
          "base_uri": "https://localhost:8080/",
          "height": 1000
        }
      },
      "source": [
        "adverse_copy\n"
      ],
      "execution_count": 60,
      "outputs": [
        {
          "output_type": "execute_result",
          "data": {
            "text/html": [
              "<div>\n",
              "<style scoped>\n",
              "    .dataframe tbody tr th:only-of-type {\n",
              "        vertical-align: middle;\n",
              "    }\n",
              "\n",
              "    .dataframe tbody tr th {\n",
              "        vertical-align: top;\n",
              "    }\n",
              "\n",
              "    .dataframe thead th {\n",
              "        text-align: right;\n",
              "    }\n",
              "</style>\n",
              "<table border=\"1\" class=\"dataframe\">\n",
              "  <thead>\n",
              "    <tr style=\"text-align: right;\">\n",
              "      <th></th>\n",
              "      <th>given_name</th>\n",
              "      <th>surname</th>\n",
              "      <th>adverse_reaction</th>\n",
              "    </tr>\n",
              "  </thead>\n",
              "  <tbody>\n",
              "    <tr>\n",
              "      <th>0</th>\n",
              "      <td>Berta</td>\n",
              "      <td>Napolitani</td>\n",
              "      <td>injection site discomfort</td>\n",
              "    </tr>\n",
              "    <tr>\n",
              "      <th>1</th>\n",
              "      <td>Lena</td>\n",
              "      <td>Baer</td>\n",
              "      <td>hypoglycemia</td>\n",
              "    </tr>\n",
              "    <tr>\n",
              "      <th>2</th>\n",
              "      <td>Joseph</td>\n",
              "      <td>Day</td>\n",
              "      <td>hypoglycemia</td>\n",
              "    </tr>\n",
              "    <tr>\n",
              "      <th>3</th>\n",
              "      <td>Flavia</td>\n",
              "      <td>Fiorentino</td>\n",
              "      <td>cough</td>\n",
              "    </tr>\n",
              "    <tr>\n",
              "      <th>4</th>\n",
              "      <td>Manouck</td>\n",
              "      <td>Wubbels</td>\n",
              "      <td>throat irritation</td>\n",
              "    </tr>\n",
              "    <tr>\n",
              "      <th>5</th>\n",
              "      <td>Jasmine</td>\n",
              "      <td>Sykes</td>\n",
              "      <td>hypoglycemia</td>\n",
              "    </tr>\n",
              "    <tr>\n",
              "      <th>6</th>\n",
              "      <td>Louise</td>\n",
              "      <td>Johnson</td>\n",
              "      <td>hypoglycemia</td>\n",
              "    </tr>\n",
              "    <tr>\n",
              "      <th>7</th>\n",
              "      <td>Albinca</td>\n",
              "      <td>Komavec</td>\n",
              "      <td>hypoglycemia</td>\n",
              "    </tr>\n",
              "    <tr>\n",
              "      <th>8</th>\n",
              "      <td>Noe</td>\n",
              "      <td>Aranda</td>\n",
              "      <td>hypoglycemia</td>\n",
              "    </tr>\n",
              "    <tr>\n",
              "      <th>9</th>\n",
              "      <td>Sofia</td>\n",
              "      <td>Hermansen</td>\n",
              "      <td>injection site discomfort</td>\n",
              "    </tr>\n",
              "    <tr>\n",
              "      <th>10</th>\n",
              "      <td>Tegan</td>\n",
              "      <td>Johnson</td>\n",
              "      <td>headache</td>\n",
              "    </tr>\n",
              "    <tr>\n",
              "      <th>11</th>\n",
              "      <td>Abel</td>\n",
              "      <td>Yonatan</td>\n",
              "      <td>cough</td>\n",
              "    </tr>\n",
              "    <tr>\n",
              "      <th>12</th>\n",
              "      <td>Abdul-Nur</td>\n",
              "      <td>Isa</td>\n",
              "      <td>hypoglycemia</td>\n",
              "    </tr>\n",
              "    <tr>\n",
              "      <th>13</th>\n",
              "      <td>Leon</td>\n",
              "      <td>Scholz</td>\n",
              "      <td>injection site discomfort</td>\n",
              "    </tr>\n",
              "    <tr>\n",
              "      <th>14</th>\n",
              "      <td>Gabriele</td>\n",
              "      <td>Saenger</td>\n",
              "      <td>hypoglycemia</td>\n",
              "    </tr>\n",
              "    <tr>\n",
              "      <th>15</th>\n",
              "      <td>Jia Li</td>\n",
              "      <td>Teng</td>\n",
              "      <td>nausea</td>\n",
              "    </tr>\n",
              "    <tr>\n",
              "      <th>16</th>\n",
              "      <td>Jakob</td>\n",
              "      <td>Jakobsen</td>\n",
              "      <td>hypoglycemia</td>\n",
              "    </tr>\n",
              "    <tr>\n",
              "      <th>17</th>\n",
              "      <td>Christopher</td>\n",
              "      <td>Woodward</td>\n",
              "      <td>nausea</td>\n",
              "    </tr>\n",
              "    <tr>\n",
              "      <th>18</th>\n",
              "      <td>Ole</td>\n",
              "      <td>Petersen</td>\n",
              "      <td>hypoglycemia</td>\n",
              "    </tr>\n",
              "    <tr>\n",
              "      <th>19</th>\n",
              "      <td>Finley</td>\n",
              "      <td>Chandler</td>\n",
              "      <td>headache</td>\n",
              "    </tr>\n",
              "    <tr>\n",
              "      <th>20</th>\n",
              "      <td>Anenechi</td>\n",
              "      <td>Chidi</td>\n",
              "      <td>hypoglycemia</td>\n",
              "    </tr>\n",
              "    <tr>\n",
              "      <th>21</th>\n",
              "      <td>Miłosław</td>\n",
              "      <td>Wiśniewski</td>\n",
              "      <td>injection site discomfort</td>\n",
              "    </tr>\n",
              "    <tr>\n",
              "      <th>22</th>\n",
              "      <td>Lixue</td>\n",
              "      <td>Hsueh</td>\n",
              "      <td>injection site discomfort</td>\n",
              "    </tr>\n",
              "    <tr>\n",
              "      <th>23</th>\n",
              "      <td>Merci</td>\n",
              "      <td>Leroux</td>\n",
              "      <td>hypoglycemia</td>\n",
              "    </tr>\n",
              "    <tr>\n",
              "      <th>24</th>\n",
              "      <td>Kang</td>\n",
              "      <td>Mai</td>\n",
              "      <td>injection site discomfort</td>\n",
              "    </tr>\n",
              "    <tr>\n",
              "      <th>25</th>\n",
              "      <td>Elliot</td>\n",
              "      <td>Richardson</td>\n",
              "      <td>hypoglycemia</td>\n",
              "    </tr>\n",
              "    <tr>\n",
              "      <th>26</th>\n",
              "      <td>Clinton</td>\n",
              "      <td>Miller</td>\n",
              "      <td>throat irritation</td>\n",
              "    </tr>\n",
              "    <tr>\n",
              "      <th>27</th>\n",
              "      <td>Idalia</td>\n",
              "      <td>Moore</td>\n",
              "      <td>hypoglycemia</td>\n",
              "    </tr>\n",
              "    <tr>\n",
              "      <th>28</th>\n",
              "      <td>Xiuxiu</td>\n",
              "      <td>Chang</td>\n",
              "      <td>hypoglycemia</td>\n",
              "    </tr>\n",
              "    <tr>\n",
              "      <th>29</th>\n",
              "      <td>Alex</td>\n",
              "      <td>Crawford</td>\n",
              "      <td>hypoglycemia</td>\n",
              "    </tr>\n",
              "    <tr>\n",
              "      <th>30</th>\n",
              "      <td>Monika</td>\n",
              "      <td>Lončar</td>\n",
              "      <td>hypoglycemia</td>\n",
              "    </tr>\n",
              "    <tr>\n",
              "      <th>31</th>\n",
              "      <td>Steven</td>\n",
              "      <td>Roy</td>\n",
              "      <td>headache</td>\n",
              "    </tr>\n",
              "    <tr>\n",
              "      <th>32</th>\n",
              "      <td>Cecilie</td>\n",
              "      <td>Nilsen</td>\n",
              "      <td>hypoglycemia</td>\n",
              "    </tr>\n",
              "    <tr>\n",
              "      <th>33</th>\n",
              "      <td>Krisztina</td>\n",
              "      <td>Magyar</td>\n",
              "      <td>hypoglycemia</td>\n",
              "    </tr>\n",
              "  </tbody>\n",
              "</table>\n",
              "</div>"
            ],
            "text/plain": [
              "     given_name     surname           adverse_reaction\n",
              "0         Berta  Napolitani  injection site discomfort\n",
              "1          Lena        Baer               hypoglycemia\n",
              "2        Joseph         Day               hypoglycemia\n",
              "3        Flavia  Fiorentino                      cough\n",
              "4       Manouck     Wubbels          throat irritation\n",
              "5       Jasmine       Sykes               hypoglycemia\n",
              "6        Louise     Johnson               hypoglycemia\n",
              "7       Albinca     Komavec               hypoglycemia\n",
              "8           Noe      Aranda               hypoglycemia\n",
              "9         Sofia   Hermansen  injection site discomfort\n",
              "10        Tegan     Johnson                   headache\n",
              "11         Abel     Yonatan                      cough\n",
              "12    Abdul-Nur         Isa               hypoglycemia\n",
              "13         Leon      Scholz  injection site discomfort\n",
              "14     Gabriele     Saenger               hypoglycemia\n",
              "15       Jia Li        Teng                     nausea\n",
              "16        Jakob    Jakobsen               hypoglycemia\n",
              "17  Christopher    Woodward                     nausea\n",
              "18          Ole    Petersen               hypoglycemia\n",
              "19       Finley    Chandler                   headache\n",
              "20     Anenechi       Chidi               hypoglycemia\n",
              "21     Miłosław  Wiśniewski  injection site discomfort\n",
              "22        Lixue       Hsueh  injection site discomfort\n",
              "23        Merci      Leroux               hypoglycemia\n",
              "24         Kang         Mai  injection site discomfort\n",
              "25       Elliot  Richardson               hypoglycemia\n",
              "26      Clinton      Miller          throat irritation\n",
              "27       Idalia       Moore               hypoglycemia\n",
              "28       Xiuxiu       Chang               hypoglycemia\n",
              "29         Alex    Crawford               hypoglycemia\n",
              "30       Monika      Lončar               hypoglycemia\n",
              "31       Steven         Roy                   headache\n",
              "32      Cecilie      Nilsen               hypoglycemia\n",
              "33    Krisztina      Magyar               hypoglycemia"
            ]
          },
          "metadata": {
            "tags": []
          },
          "execution_count": 60
        }
      ]
    },
    {
      "cell_type": "markdown",
      "metadata": {
        "id": "-jeV1pgwLXTT"
      },
      "source": [
        "REMOVING DUPLICATED DATA\n",
        "\n",
        "- treatment table has 1 duplicated value where the name is Joseph Day\n",
        "- patient table has duplicated values where the name is John Doe\n",
        "- adverse table has no duplicated values"
      ]
    },
    {
      "cell_type": "code",
      "metadata": {
        "id": "Fh0dgwWqICG_",
        "outputId": "2725224e-03be-42c5-cc20-8fa32c687f45",
        "colab": {
          "base_uri": "https://localhost:8080/",
          "height": 34
        }
      },
      "source": [
        "treatment_copy.duplicated(['given_name','surname']).sum()"
      ],
      "execution_count": 61,
      "outputs": [
        {
          "output_type": "execute_result",
          "data": {
            "text/plain": [
              "1"
            ]
          },
          "metadata": {
            "tags": []
          },
          "execution_count": 61
        }
      ]
    },
    {
      "cell_type": "code",
      "metadata": {
        "id": "9tP2tHhhJTWn",
        "outputId": "0f4a06c5-f1f7-4ab1-c7f3-e8b37df39a39",
        "colab": {
          "base_uri": "https://localhost:8080/",
          "height": 80
        }
      },
      "source": [
        "treatment_copy[treatment_copy.duplicated(['given_name','surname'])]"
      ],
      "execution_count": 62,
      "outputs": [
        {
          "output_type": "execute_result",
          "data": {
            "text/html": [
              "<div>\n",
              "<style scoped>\n",
              "    .dataframe tbody tr th:only-of-type {\n",
              "        vertical-align: middle;\n",
              "    }\n",
              "\n",
              "    .dataframe tbody tr th {\n",
              "        vertical-align: top;\n",
              "    }\n",
              "\n",
              "    .dataframe thead th {\n",
              "        text-align: right;\n",
              "    }\n",
              "</style>\n",
              "<table border=\"1\" class=\"dataframe\">\n",
              "  <thead>\n",
              "    <tr style=\"text-align: right;\">\n",
              "      <th></th>\n",
              "      <th>given_name</th>\n",
              "      <th>surname</th>\n",
              "      <th>hba1c_start</th>\n",
              "      <th>hba1c_end</th>\n",
              "      <th>hba1c_change</th>\n",
              "      <th>treatment</th>\n",
              "      <th>start</th>\n",
              "      <th>end</th>\n",
              "    </tr>\n",
              "  </thead>\n",
              "  <tbody>\n",
              "    <tr>\n",
              "      <th>136</th>\n",
              "      <td>Joseph</td>\n",
              "      <td>Day</td>\n",
              "      <td>7.7</td>\n",
              "      <td>7.19</td>\n",
              "      <td>0.51</td>\n",
              "      <td>auralin</td>\n",
              "      <td>29</td>\n",
              "      <td>36</td>\n",
              "    </tr>\n",
              "  </tbody>\n",
              "</table>\n",
              "</div>"
            ],
            "text/plain": [
              "    given_name surname  hba1c_start  ...  treatment  start end\n",
              "136     Joseph     Day          7.7  ...    auralin     29  36\n",
              "\n",
              "[1 rows x 8 columns]"
            ]
          },
          "metadata": {
            "tags": []
          },
          "execution_count": 62
        }
      ]
    },
    {
      "cell_type": "code",
      "metadata": {
        "id": "UVJyjYRGJbhv",
        "outputId": "bc0209fe-0614-4a3b-9e4f-1f31ace496b3",
        "colab": {
          "base_uri": "https://localhost:8080/",
          "height": 142
        }
      },
      "source": [
        "treatment_copy[treatment_copy['given_name']=='Joseph']"
      ],
      "execution_count": 63,
      "outputs": [
        {
          "output_type": "execute_result",
          "data": {
            "text/html": [
              "<div>\n",
              "<style scoped>\n",
              "    .dataframe tbody tr th:only-of-type {\n",
              "        vertical-align: middle;\n",
              "    }\n",
              "\n",
              "    .dataframe tbody tr th {\n",
              "        vertical-align: top;\n",
              "    }\n",
              "\n",
              "    .dataframe thead th {\n",
              "        text-align: right;\n",
              "    }\n",
              "</style>\n",
              "<table border=\"1\" class=\"dataframe\">\n",
              "  <thead>\n",
              "    <tr style=\"text-align: right;\">\n",
              "      <th></th>\n",
              "      <th>given_name</th>\n",
              "      <th>surname</th>\n",
              "      <th>hba1c_start</th>\n",
              "      <th>hba1c_end</th>\n",
              "      <th>hba1c_change</th>\n",
              "      <th>treatment</th>\n",
              "      <th>start</th>\n",
              "      <th>end</th>\n",
              "    </tr>\n",
              "  </thead>\n",
              "  <tbody>\n",
              "    <tr>\n",
              "      <th>10</th>\n",
              "      <td>Joseph</td>\n",
              "      <td>Day</td>\n",
              "      <td>7.70</td>\n",
              "      <td>7.19</td>\n",
              "      <td>0.51</td>\n",
              "      <td>auralin</td>\n",
              "      <td>29</td>\n",
              "      <td>36</td>\n",
              "    </tr>\n",
              "    <tr>\n",
              "      <th>136</th>\n",
              "      <td>Joseph</td>\n",
              "      <td>Day</td>\n",
              "      <td>7.70</td>\n",
              "      <td>7.19</td>\n",
              "      <td>0.51</td>\n",
              "      <td>auralin</td>\n",
              "      <td>29</td>\n",
              "      <td>36</td>\n",
              "    </tr>\n",
              "    <tr>\n",
              "      <th>57</th>\n",
              "      <td>Joseph</td>\n",
              "      <td>Tucker</td>\n",
              "      <td>7.67</td>\n",
              "      <td>7.30</td>\n",
              "      <td>0.37</td>\n",
              "      <td>auralin</td>\n",
              "      <td>48</td>\n",
              "      <td>56</td>\n",
              "    </tr>\n",
              "  </tbody>\n",
              "</table>\n",
              "</div>"
            ],
            "text/plain": [
              "    given_name surname  hba1c_start  ...  treatment  start end\n",
              "10      Joseph     Day         7.70  ...    auralin     29  36\n",
              "136     Joseph     Day         7.70  ...    auralin     29  36\n",
              "57      Joseph  Tucker         7.67  ...    auralin     48  56\n",
              "\n",
              "[3 rows x 8 columns]"
            ]
          },
          "metadata": {
            "tags": []
          },
          "execution_count": 63
        }
      ]
    },
    {
      "cell_type": "code",
      "metadata": {
        "id": "xyz9vAopK9WP"
      },
      "source": [
        "treatment_copy1=treatment_copy.copy()"
      ],
      "execution_count": 64,
      "outputs": []
    },
    {
      "cell_type": "code",
      "metadata": {
        "id": "WXLC600tLHUq",
        "outputId": "c567ad99-62f8-4bbb-c37f-c5269d224079",
        "colab": {
          "base_uri": "https://localhost:8080/",
          "height": 419
        }
      },
      "source": [
        "treatment_copy1"
      ],
      "execution_count": 65,
      "outputs": [
        {
          "output_type": "execute_result",
          "data": {
            "text/html": [
              "<div>\n",
              "<style scoped>\n",
              "    .dataframe tbody tr th:only-of-type {\n",
              "        vertical-align: middle;\n",
              "    }\n",
              "\n",
              "    .dataframe tbody tr th {\n",
              "        vertical-align: top;\n",
              "    }\n",
              "\n",
              "    .dataframe thead th {\n",
              "        text-align: right;\n",
              "    }\n",
              "</style>\n",
              "<table border=\"1\" class=\"dataframe\">\n",
              "  <thead>\n",
              "    <tr style=\"text-align: right;\">\n",
              "      <th></th>\n",
              "      <th>given_name</th>\n",
              "      <th>surname</th>\n",
              "      <th>hba1c_start</th>\n",
              "      <th>hba1c_end</th>\n",
              "      <th>hba1c_change</th>\n",
              "      <th>treatment</th>\n",
              "      <th>start</th>\n",
              "      <th>end</th>\n",
              "    </tr>\n",
              "  </thead>\n",
              "  <tbody>\n",
              "    <tr>\n",
              "      <th>0</th>\n",
              "      <td>Veronika</td>\n",
              "      <td>Jindrová</td>\n",
              "      <td>7.63</td>\n",
              "      <td>7.20</td>\n",
              "      <td>0.43</td>\n",
              "      <td>auralin</td>\n",
              "      <td>41</td>\n",
              "      <td>48</td>\n",
              "    </tr>\n",
              "    <tr>\n",
              "      <th>3</th>\n",
              "      <td>Skye</td>\n",
              "      <td>Gormanston</td>\n",
              "      <td>7.97</td>\n",
              "      <td>7.62</td>\n",
              "      <td>0.35</td>\n",
              "      <td>auralin</td>\n",
              "      <td>33</td>\n",
              "      <td>36</td>\n",
              "    </tr>\n",
              "    <tr>\n",
              "      <th>6</th>\n",
              "      <td>Sophia</td>\n",
              "      <td>Haugen</td>\n",
              "      <td>7.65</td>\n",
              "      <td>7.27</td>\n",
              "      <td>0.38</td>\n",
              "      <td>auralin</td>\n",
              "      <td>37</td>\n",
              "      <td>42</td>\n",
              "    </tr>\n",
              "    <tr>\n",
              "      <th>7</th>\n",
              "      <td>Eddie</td>\n",
              "      <td>Archer</td>\n",
              "      <td>7.89</td>\n",
              "      <td>7.55</td>\n",
              "      <td>0.34</td>\n",
              "      <td>auralin</td>\n",
              "      <td>31</td>\n",
              "      <td>38</td>\n",
              "    </tr>\n",
              "    <tr>\n",
              "      <th>9</th>\n",
              "      <td>Asia</td>\n",
              "      <td>Woźniak</td>\n",
              "      <td>7.76</td>\n",
              "      <td>7.37</td>\n",
              "      <td>0.39</td>\n",
              "      <td>auralin</td>\n",
              "      <td>30</td>\n",
              "      <td>36</td>\n",
              "    </tr>\n",
              "    <tr>\n",
              "      <th>...</th>\n",
              "      <td>...</td>\n",
              "      <td>...</td>\n",
              "      <td>...</td>\n",
              "      <td>...</td>\n",
              "      <td>...</td>\n",
              "      <td>...</td>\n",
              "      <td>...</td>\n",
              "      <td>...</td>\n",
              "    </tr>\n",
              "    <tr>\n",
              "      <th>128</th>\n",
              "      <td>Christopher</td>\n",
              "      <td>Woodward</td>\n",
              "      <td>7.51</td>\n",
              "      <td>7.06</td>\n",
              "      <td>0.45</td>\n",
              "      <td>novodra</td>\n",
              "      <td>55</td>\n",
              "      <td>51</td>\n",
              "    </tr>\n",
              "    <tr>\n",
              "      <th>130</th>\n",
              "      <td>Maret</td>\n",
              "      <td>Sultygov</td>\n",
              "      <td>7.67</td>\n",
              "      <td>7.30</td>\n",
              "      <td>0.37</td>\n",
              "      <td>novodra</td>\n",
              "      <td>26</td>\n",
              "      <td>23</td>\n",
              "    </tr>\n",
              "    <tr>\n",
              "      <th>134</th>\n",
              "      <td>Lixue</td>\n",
              "      <td>Hsueh</td>\n",
              "      <td>9.21</td>\n",
              "      <td>8.80</td>\n",
              "      <td>0.41</td>\n",
              "      <td>novodra</td>\n",
              "      <td>22</td>\n",
              "      <td>23</td>\n",
              "    </tr>\n",
              "    <tr>\n",
              "      <th>136</th>\n",
              "      <td>Jakob</td>\n",
              "      <td>Jakobsen</td>\n",
              "      <td>7.96</td>\n",
              "      <td>7.51</td>\n",
              "      <td>0.45</td>\n",
              "      <td>novodra</td>\n",
              "      <td>28</td>\n",
              "      <td>26</td>\n",
              "    </tr>\n",
              "    <tr>\n",
              "      <th>138</th>\n",
              "      <td>Berta</td>\n",
              "      <td>Napolitani</td>\n",
              "      <td>7.68</td>\n",
              "      <td>7.21</td>\n",
              "      <td>0.47</td>\n",
              "      <td>novodra</td>\n",
              "      <td>42</td>\n",
              "      <td>44</td>\n",
              "    </tr>\n",
              "  </tbody>\n",
              "</table>\n",
              "<p>350 rows × 8 columns</p>\n",
              "</div>"
            ],
            "text/plain": [
              "      given_name     surname  hba1c_start  ...  treatment  start end\n",
              "0       Veronika    Jindrová         7.63  ...    auralin     41  48\n",
              "3           Skye  Gormanston         7.97  ...    auralin     33  36\n",
              "6         Sophia      Haugen         7.65  ...    auralin     37  42\n",
              "7          Eddie      Archer         7.89  ...    auralin     31  38\n",
              "9           Asia     Woźniak         7.76  ...    auralin     30  36\n",
              "..           ...         ...          ...  ...        ...    ...  ..\n",
              "128  Christopher    Woodward         7.51  ...    novodra     55  51\n",
              "130        Maret    Sultygov         7.67  ...    novodra     26  23\n",
              "134        Lixue       Hsueh         9.21  ...    novodra     22  23\n",
              "136        Jakob    Jakobsen         7.96  ...    novodra     28  26\n",
              "138        Berta  Napolitani         7.68  ...    novodra     42  44\n",
              "\n",
              "[350 rows x 8 columns]"
            ]
          },
          "metadata": {
            "tags": []
          },
          "execution_count": 65
        }
      ]
    },
    {
      "cell_type": "code",
      "metadata": {
        "id": "jpZsuEQ5J5Qo"
      },
      "source": [
        "treatment_copy.drop_duplicates(subset=['given_name','surname'],inplace=True)"
      ],
      "execution_count": 66,
      "outputs": []
    },
    {
      "cell_type": "code",
      "metadata": {
        "id": "2ejIXvZPKAs4",
        "outputId": "bf62b756-298e-4226-8276-858645ee430f",
        "colab": {
          "base_uri": "https://localhost:8080/",
          "height": 111
        }
      },
      "source": [
        "treatment_copy[treatment_copy['given_name']=='Joseph']"
      ],
      "execution_count": 67,
      "outputs": [
        {
          "output_type": "execute_result",
          "data": {
            "text/html": [
              "<div>\n",
              "<style scoped>\n",
              "    .dataframe tbody tr th:only-of-type {\n",
              "        vertical-align: middle;\n",
              "    }\n",
              "\n",
              "    .dataframe tbody tr th {\n",
              "        vertical-align: top;\n",
              "    }\n",
              "\n",
              "    .dataframe thead th {\n",
              "        text-align: right;\n",
              "    }\n",
              "</style>\n",
              "<table border=\"1\" class=\"dataframe\">\n",
              "  <thead>\n",
              "    <tr style=\"text-align: right;\">\n",
              "      <th></th>\n",
              "      <th>given_name</th>\n",
              "      <th>surname</th>\n",
              "      <th>hba1c_start</th>\n",
              "      <th>hba1c_end</th>\n",
              "      <th>hba1c_change</th>\n",
              "      <th>treatment</th>\n",
              "      <th>start</th>\n",
              "      <th>end</th>\n",
              "    </tr>\n",
              "  </thead>\n",
              "  <tbody>\n",
              "    <tr>\n",
              "      <th>10</th>\n",
              "      <td>Joseph</td>\n",
              "      <td>Day</td>\n",
              "      <td>7.70</td>\n",
              "      <td>7.19</td>\n",
              "      <td>0.51</td>\n",
              "      <td>auralin</td>\n",
              "      <td>29</td>\n",
              "      <td>36</td>\n",
              "    </tr>\n",
              "    <tr>\n",
              "      <th>57</th>\n",
              "      <td>Joseph</td>\n",
              "      <td>Tucker</td>\n",
              "      <td>7.67</td>\n",
              "      <td>7.30</td>\n",
              "      <td>0.37</td>\n",
              "      <td>auralin</td>\n",
              "      <td>48</td>\n",
              "      <td>56</td>\n",
              "    </tr>\n",
              "  </tbody>\n",
              "</table>\n",
              "</div>"
            ],
            "text/plain": [
              "   given_name surname  hba1c_start  ...  treatment  start end\n",
              "10     Joseph     Day         7.70  ...    auralin     29  36\n",
              "57     Joseph  Tucker         7.67  ...    auralin     48  56\n",
              "\n",
              "[2 rows x 8 columns]"
            ]
          },
          "metadata": {
            "tags": []
          },
          "execution_count": 67
        }
      ]
    },
    {
      "cell_type": "code",
      "metadata": {
        "id": "1bjD--VsKK-O",
        "outputId": "8581c738-c39f-42db-ca4c-c6d4cbe8010c",
        "colab": {
          "base_uri": "https://localhost:8080/",
          "height": 34
        }
      },
      "source": [
        "treatment_copy.shape"
      ],
      "execution_count": 68,
      "outputs": [
        {
          "output_type": "execute_result",
          "data": {
            "text/plain": [
              "(349, 8)"
            ]
          },
          "metadata": {
            "tags": []
          },
          "execution_count": 68
        }
      ]
    },
    {
      "cell_type": "code",
      "metadata": {
        "id": "F7ePJi9DKqQg",
        "outputId": "2afb4a66-cc2a-41fe-b4f9-f070d7c1f513",
        "colab": {
          "base_uri": "https://localhost:8080/",
          "height": 34
        }
      },
      "source": [
        "patients_copy.duplicated(['given_name','surname']).sum()"
      ],
      "execution_count": 69,
      "outputs": [
        {
          "output_type": "execute_result",
          "data": {
            "text/plain": [
              "5"
            ]
          },
          "metadata": {
            "tags": []
          },
          "execution_count": 69
        }
      ]
    },
    {
      "cell_type": "code",
      "metadata": {
        "id": "kAoEJFDyL9kW",
        "outputId": "0bf3cd25-3908-49de-900b-39d1b3d71658",
        "colab": {
          "base_uri": "https://localhost:8080/",
          "height": 289
        }
      },
      "source": [
        "patients_copy[patients_copy.duplicated(['given_name','surname'])]"
      ],
      "execution_count": 70,
      "outputs": [
        {
          "output_type": "execute_result",
          "data": {
            "text/html": [
              "<div>\n",
              "<style scoped>\n",
              "    .dataframe tbody tr th:only-of-type {\n",
              "        vertical-align: middle;\n",
              "    }\n",
              "\n",
              "    .dataframe tbody tr th {\n",
              "        vertical-align: top;\n",
              "    }\n",
              "\n",
              "    .dataframe thead th {\n",
              "        text-align: right;\n",
              "    }\n",
              "</style>\n",
              "<table border=\"1\" class=\"dataframe\">\n",
              "  <thead>\n",
              "    <tr style=\"text-align: right;\">\n",
              "      <th></th>\n",
              "      <th>patient_id</th>\n",
              "      <th>assigned_sex</th>\n",
              "      <th>given_name</th>\n",
              "      <th>surname</th>\n",
              "      <th>address</th>\n",
              "      <th>city</th>\n",
              "      <th>state</th>\n",
              "      <th>zip_code</th>\n",
              "      <th>country</th>\n",
              "      <th>contact</th>\n",
              "      <th>birthdate</th>\n",
              "      <th>weight</th>\n",
              "      <th>height</th>\n",
              "      <th>bmi</th>\n",
              "    </tr>\n",
              "  </thead>\n",
              "  <tbody>\n",
              "    <tr>\n",
              "      <th>229</th>\n",
              "      <td>230</td>\n",
              "      <td>male</td>\n",
              "      <td>John</td>\n",
              "      <td>Doe</td>\n",
              "      <td>123 Main Street</td>\n",
              "      <td>New York</td>\n",
              "      <td>NY</td>\n",
              "      <td>12345.0</td>\n",
              "      <td>United States</td>\n",
              "      <td>johndoe@email.com1234567890</td>\n",
              "      <td>1/1/1975</td>\n",
              "      <td>180.0</td>\n",
              "      <td>72</td>\n",
              "      <td>24.4</td>\n",
              "    </tr>\n",
              "    <tr>\n",
              "      <th>237</th>\n",
              "      <td>238</td>\n",
              "      <td>male</td>\n",
              "      <td>John</td>\n",
              "      <td>Doe</td>\n",
              "      <td>123 Main Street</td>\n",
              "      <td>New York</td>\n",
              "      <td>NY</td>\n",
              "      <td>12345.0</td>\n",
              "      <td>United States</td>\n",
              "      <td>johndoe@email.com1234567890</td>\n",
              "      <td>1/1/1975</td>\n",
              "      <td>180.0</td>\n",
              "      <td>72</td>\n",
              "      <td>24.4</td>\n",
              "    </tr>\n",
              "    <tr>\n",
              "      <th>244</th>\n",
              "      <td>245</td>\n",
              "      <td>male</td>\n",
              "      <td>John</td>\n",
              "      <td>Doe</td>\n",
              "      <td>123 Main Street</td>\n",
              "      <td>New York</td>\n",
              "      <td>NY</td>\n",
              "      <td>12345.0</td>\n",
              "      <td>United States</td>\n",
              "      <td>johndoe@email.com1234567890</td>\n",
              "      <td>1/1/1975</td>\n",
              "      <td>180.0</td>\n",
              "      <td>72</td>\n",
              "      <td>24.4</td>\n",
              "    </tr>\n",
              "    <tr>\n",
              "      <th>251</th>\n",
              "      <td>252</td>\n",
              "      <td>male</td>\n",
              "      <td>John</td>\n",
              "      <td>Doe</td>\n",
              "      <td>123 Main Street</td>\n",
              "      <td>New York</td>\n",
              "      <td>NY</td>\n",
              "      <td>12345.0</td>\n",
              "      <td>United States</td>\n",
              "      <td>johndoe@email.com1234567890</td>\n",
              "      <td>1/1/1975</td>\n",
              "      <td>180.0</td>\n",
              "      <td>72</td>\n",
              "      <td>24.4</td>\n",
              "    </tr>\n",
              "    <tr>\n",
              "      <th>277</th>\n",
              "      <td>278</td>\n",
              "      <td>male</td>\n",
              "      <td>John</td>\n",
              "      <td>Doe</td>\n",
              "      <td>123 Main Street</td>\n",
              "      <td>New York</td>\n",
              "      <td>NY</td>\n",
              "      <td>12345.0</td>\n",
              "      <td>United States</td>\n",
              "      <td>johndoe@email.com1234567890</td>\n",
              "      <td>1/1/1975</td>\n",
              "      <td>180.0</td>\n",
              "      <td>72</td>\n",
              "      <td>24.4</td>\n",
              "    </tr>\n",
              "  </tbody>\n",
              "</table>\n",
              "</div>"
            ],
            "text/plain": [
              "     patient_id assigned_sex given_name surname  ... birthdate weight height   bmi\n",
              "229         230         male       John     Doe  ...  1/1/1975  180.0     72  24.4\n",
              "237         238         male       John     Doe  ...  1/1/1975  180.0     72  24.4\n",
              "244         245         male       John     Doe  ...  1/1/1975  180.0     72  24.4\n",
              "251         252         male       John     Doe  ...  1/1/1975  180.0     72  24.4\n",
              "277         278         male       John     Doe  ...  1/1/1975  180.0     72  24.4\n",
              "\n",
              "[5 rows x 14 columns]"
            ]
          },
          "metadata": {
            "tags": []
          },
          "execution_count": 70
        }
      ]
    },
    {
      "cell_type": "code",
      "metadata": {
        "id": "88L9frPoMYQ0"
      },
      "source": [
        "patients_copy.drop_duplicates(subset=['given_name','surname'],inplace=True)"
      ],
      "execution_count": 71,
      "outputs": []
    },
    {
      "cell_type": "code",
      "metadata": {
        "id": "T9zKs008MfGk",
        "outputId": "695b8720-fa08-4d11-bd1f-81ff7c062704",
        "colab": {
          "base_uri": "https://localhost:8080/",
          "height": 292
        }
      },
      "source": [
        "patients_copy[patients_copy['given_name']=='John']"
      ],
      "execution_count": 72,
      "outputs": [
        {
          "output_type": "execute_result",
          "data": {
            "text/html": [
              "<div>\n",
              "<style scoped>\n",
              "    .dataframe tbody tr th:only-of-type {\n",
              "        vertical-align: middle;\n",
              "    }\n",
              "\n",
              "    .dataframe tbody tr th {\n",
              "        vertical-align: top;\n",
              "    }\n",
              "\n",
              "    .dataframe thead th {\n",
              "        text-align: right;\n",
              "    }\n",
              "</style>\n",
              "<table border=\"1\" class=\"dataframe\">\n",
              "  <thead>\n",
              "    <tr style=\"text-align: right;\">\n",
              "      <th></th>\n",
              "      <th>patient_id</th>\n",
              "      <th>assigned_sex</th>\n",
              "      <th>given_name</th>\n",
              "      <th>surname</th>\n",
              "      <th>address</th>\n",
              "      <th>city</th>\n",
              "      <th>state</th>\n",
              "      <th>zip_code</th>\n",
              "      <th>country</th>\n",
              "      <th>contact</th>\n",
              "      <th>birthdate</th>\n",
              "      <th>weight</th>\n",
              "      <th>height</th>\n",
              "      <th>bmi</th>\n",
              "    </tr>\n",
              "  </thead>\n",
              "  <tbody>\n",
              "    <tr>\n",
              "      <th>140</th>\n",
              "      <td>141</td>\n",
              "      <td>male</td>\n",
              "      <td>John</td>\n",
              "      <td>Teichelmann</td>\n",
              "      <td>631 Isaacs Creek Road</td>\n",
              "      <td>Decatur</td>\n",
              "      <td>IL</td>\n",
              "      <td>62522.0</td>\n",
              "      <td>United States</td>\n",
              "      <td>217-421-0935JohnTeichelmann@dayrep.com</td>\n",
              "      <td>12/3/1958</td>\n",
              "      <td>214.1</td>\n",
              "      <td>72</td>\n",
              "      <td>29.0</td>\n",
              "    </tr>\n",
              "    <tr>\n",
              "      <th>153</th>\n",
              "      <td>154</td>\n",
              "      <td>male</td>\n",
              "      <td>John</td>\n",
              "      <td>Carreiro</td>\n",
              "      <td>1463 Martha Ellen Drive</td>\n",
              "      <td>Reno</td>\n",
              "      <td>NV</td>\n",
              "      <td>89509.0</td>\n",
              "      <td>United States</td>\n",
              "      <td>JohnACarreiro@superrito.com1 775 770 7827</td>\n",
              "      <td>4/8/1976</td>\n",
              "      <td>177.8</td>\n",
              "      <td>68</td>\n",
              "      <td>27.0</td>\n",
              "    </tr>\n",
              "    <tr>\n",
              "      <th>215</th>\n",
              "      <td>216</td>\n",
              "      <td>male</td>\n",
              "      <td>John</td>\n",
              "      <td>Doe</td>\n",
              "      <td>123 Main Street</td>\n",
              "      <td>New York</td>\n",
              "      <td>NY</td>\n",
              "      <td>12345.0</td>\n",
              "      <td>United States</td>\n",
              "      <td>johndoe@email.com1234567890</td>\n",
              "      <td>1/1/1975</td>\n",
              "      <td>180.0</td>\n",
              "      <td>72</td>\n",
              "      <td>24.4</td>\n",
              "    </tr>\n",
              "    <tr>\n",
              "      <th>242</th>\n",
              "      <td>243</td>\n",
              "      <td>male</td>\n",
              "      <td>John</td>\n",
              "      <td>O'Brian</td>\n",
              "      <td>NaN</td>\n",
              "      <td>NaN</td>\n",
              "      <td>NaN</td>\n",
              "      <td>NaN</td>\n",
              "      <td>NaN</td>\n",
              "      <td>NaN</td>\n",
              "      <td>2/25/1957</td>\n",
              "      <td>205.3</td>\n",
              "      <td>74</td>\n",
              "      <td>26.4</td>\n",
              "    </tr>\n",
              "  </tbody>\n",
              "</table>\n",
              "</div>"
            ],
            "text/plain": [
              "     patient_id assigned_sex given_name  ... weight height   bmi\n",
              "140         141         male       John  ...  214.1     72  29.0\n",
              "153         154         male       John  ...  177.8     68  27.0\n",
              "215         216         male       John  ...  180.0     72  24.4\n",
              "242         243         male       John  ...  205.3     74  26.4\n",
              "\n",
              "[4 rows x 14 columns]"
            ]
          },
          "metadata": {
            "tags": []
          },
          "execution_count": 72
        }
      ]
    },
    {
      "cell_type": "code",
      "metadata": {
        "id": "9WFx770nLlHX",
        "outputId": "2fc274ad-3bf3-4672-9588-2a869a654295",
        "colab": {
          "base_uri": "https://localhost:8080/",
          "height": 34
        }
      },
      "source": [
        "adverse_copy.duplicated(['given_name','surname']).sum()"
      ],
      "execution_count": 73,
      "outputs": [
        {
          "output_type": "execute_result",
          "data": {
            "text/plain": [
              "0"
            ]
          },
          "metadata": {
            "tags": []
          },
          "execution_count": 73
        }
      ]
    },
    {
      "cell_type": "code",
      "metadata": {
        "id": "SR8vjh0NPDw6"
      },
      "source": [
        ""
      ],
      "execution_count": 73,
      "outputs": []
    },
    {
      "cell_type": "markdown",
      "metadata": {
        "id": "gTj2DfLLRAG0"
      },
      "source": [
        "DROPPING MISSING VALUES OF 12 ENTRIES IN PATIENTS DATAFRAME"
      ]
    },
    {
      "cell_type": "code",
      "metadata": {
        "id": "ucTgkNtjLsPk",
        "outputId": "a9f68a9c-c1ee-4a50-e210-5a91bef79162",
        "colab": {
          "base_uri": "https://localhost:8080/",
          "height": 272
        }
      },
      "source": [
        "patients_copy.isnull().sum()"
      ],
      "execution_count": 74,
      "outputs": [
        {
          "output_type": "execute_result",
          "data": {
            "text/plain": [
              "patient_id       0\n",
              "assigned_sex     0\n",
              "given_name       0\n",
              "surname          0\n",
              "address         12\n",
              "city            12\n",
              "state           12\n",
              "zip_code        12\n",
              "country         12\n",
              "contact         12\n",
              "birthdate        0\n",
              "weight           0\n",
              "height           0\n",
              "bmi              0\n",
              "dtype: int64"
            ]
          },
          "metadata": {
            "tags": []
          },
          "execution_count": 74
        }
      ]
    },
    {
      "cell_type": "code",
      "metadata": {
        "id": "XsfOs8TTPH7S"
      },
      "source": [
        "patients_copy.dropna(subset=['address','city', 'state','zip_code','country','contact'],inplace=True)"
      ],
      "execution_count": 75,
      "outputs": []
    },
    {
      "cell_type": "code",
      "metadata": {
        "id": "H-kEJmLFPPhn",
        "outputId": "2957e783-2d5e-41b8-f6ac-3a9a4958a39d",
        "colab": {
          "base_uri": "https://localhost:8080/",
          "height": 272
        }
      },
      "source": [
        "patients_copy.isnull().sum()"
      ],
      "execution_count": 76,
      "outputs": [
        {
          "output_type": "execute_result",
          "data": {
            "text/plain": [
              "patient_id      0\n",
              "assigned_sex    0\n",
              "given_name      0\n",
              "surname         0\n",
              "address         0\n",
              "city            0\n",
              "state           0\n",
              "zip_code        0\n",
              "country         0\n",
              "contact         0\n",
              "birthdate       0\n",
              "weight          0\n",
              "height          0\n",
              "bmi             0\n",
              "dtype: int64"
            ]
          },
          "metadata": {
            "tags": []
          },
          "execution_count": 76
        }
      ]
    },
    {
      "cell_type": "code",
      "metadata": {
        "id": "fjmVQvZ6QIdh",
        "outputId": "8c1284ca-2c1a-464d-cd94-0a55100bcb14",
        "colab": {
          "base_uri": "https://localhost:8080/",
          "height": 34
        }
      },
      "source": [
        "patients_copy.shape"
      ],
      "execution_count": 77,
      "outputs": [
        {
          "output_type": "execute_result",
          "data": {
            "text/plain": [
              "(486, 14)"
            ]
          },
          "metadata": {
            "tags": []
          },
          "execution_count": 77
        }
      ]
    },
    {
      "cell_type": "code",
      "metadata": {
        "id": "JfwlZ-dMQM_5",
        "outputId": "aadfb1bc-2b2e-48b2-baf7-275f4ef49c8d",
        "colab": {
          "base_uri": "https://localhost:8080/",
          "height": 170
        }
      },
      "source": [
        "treatment_copy.isnull().sum()"
      ],
      "execution_count": 78,
      "outputs": [
        {
          "output_type": "execute_result",
          "data": {
            "text/plain": [
              "given_name      0\n",
              "surname         0\n",
              "hba1c_start     0\n",
              "hba1c_end       0\n",
              "hba1c_change    0\n",
              "treatment       0\n",
              "start           0\n",
              "end             0\n",
              "dtype: int64"
            ]
          },
          "metadata": {
            "tags": []
          },
          "execution_count": 78
        }
      ]
    },
    {
      "cell_type": "code",
      "metadata": {
        "id": "yKMEsaC-QmIP",
        "outputId": "f892b9ab-6778-43f6-b334-5c62b67d18c7",
        "colab": {
          "base_uri": "https://localhost:8080/",
          "height": 85
        }
      },
      "source": [
        "adverse_copy.isnull().sum()"
      ],
      "execution_count": 79,
      "outputs": [
        {
          "output_type": "execute_result",
          "data": {
            "text/plain": [
              "given_name          0\n",
              "surname             0\n",
              "adverse_reaction    0\n",
              "dtype: int64"
            ]
          },
          "metadata": {
            "tags": []
          },
          "execution_count": 79
        }
      ]
    },
    {
      "cell_type": "code",
      "metadata": {
        "id": "tHvFf7juQp2i",
        "outputId": "af43d048-6016-4922-9709-d6d712f9675e",
        "colab": {
          "base_uri": "https://localhost:8080/",
          "height": 377
        }
      },
      "source": [
        "patients_copy.sample(5)"
      ],
      "execution_count": 80,
      "outputs": [
        {
          "output_type": "execute_result",
          "data": {
            "text/html": [
              "<div>\n",
              "<style scoped>\n",
              "    .dataframe tbody tr th:only-of-type {\n",
              "        vertical-align: middle;\n",
              "    }\n",
              "\n",
              "    .dataframe tbody tr th {\n",
              "        vertical-align: top;\n",
              "    }\n",
              "\n",
              "    .dataframe thead th {\n",
              "        text-align: right;\n",
              "    }\n",
              "</style>\n",
              "<table border=\"1\" class=\"dataframe\">\n",
              "  <thead>\n",
              "    <tr style=\"text-align: right;\">\n",
              "      <th></th>\n",
              "      <th>patient_id</th>\n",
              "      <th>assigned_sex</th>\n",
              "      <th>given_name</th>\n",
              "      <th>surname</th>\n",
              "      <th>address</th>\n",
              "      <th>city</th>\n",
              "      <th>state</th>\n",
              "      <th>zip_code</th>\n",
              "      <th>country</th>\n",
              "      <th>contact</th>\n",
              "      <th>birthdate</th>\n",
              "      <th>weight</th>\n",
              "      <th>height</th>\n",
              "      <th>bmi</th>\n",
              "    </tr>\n",
              "  </thead>\n",
              "  <tbody>\n",
              "    <tr>\n",
              "      <th>85</th>\n",
              "      <td>86</td>\n",
              "      <td>male</td>\n",
              "      <td>Burrell</td>\n",
              "      <td>Mathieu</td>\n",
              "      <td>3816 Grand Avenue</td>\n",
              "      <td>Kissimmee</td>\n",
              "      <td>Florida</td>\n",
              "      <td>34746.0</td>\n",
              "      <td>United States</td>\n",
              "      <td>407-662-9389BurrellMathieu@teleworm.us</td>\n",
              "      <td>5/16/1936</td>\n",
              "      <td>203.5</td>\n",
              "      <td>71</td>\n",
              "      <td>28.4</td>\n",
              "    </tr>\n",
              "    <tr>\n",
              "      <th>280</th>\n",
              "      <td>281</td>\n",
              "      <td>male</td>\n",
              "      <td>David</td>\n",
              "      <td>Beauvais</td>\n",
              "      <td>98 Freshour Circle</td>\n",
              "      <td>San Antonio</td>\n",
              "      <td>TX</td>\n",
              "      <td>78258.0</td>\n",
              "      <td>United States</td>\n",
              "      <td>210-218-3477DavidLBeauvais@rhyta.com</td>\n",
              "      <td>5/1/1931</td>\n",
              "      <td>128.5</td>\n",
              "      <td>67</td>\n",
              "      <td>20.1</td>\n",
              "    </tr>\n",
              "    <tr>\n",
              "      <th>468</th>\n",
              "      <td>469</td>\n",
              "      <td>male</td>\n",
              "      <td>Tosh</td>\n",
              "      <td>Jensen</td>\n",
              "      <td>1536 John Daniel Drive</td>\n",
              "      <td>Argyle</td>\n",
              "      <td>MO</td>\n",
              "      <td>65001.0</td>\n",
              "      <td>United States</td>\n",
              "      <td>573-728-3861ToshCJensen@superrito.com</td>\n",
              "      <td>12/19/1969</td>\n",
              "      <td>194.7</td>\n",
              "      <td>68</td>\n",
              "      <td>29.6</td>\n",
              "    </tr>\n",
              "    <tr>\n",
              "      <th>104</th>\n",
              "      <td>105</td>\n",
              "      <td>female</td>\n",
              "      <td>Yasmin</td>\n",
              "      <td>Silva</td>\n",
              "      <td>108 Griffin Street</td>\n",
              "      <td>Phoenix</td>\n",
              "      <td>AZ</td>\n",
              "      <td>85012.0</td>\n",
              "      <td>United States</td>\n",
              "      <td>YasminAlmeidaSilva@einrot.com1 602 265 7408</td>\n",
              "      <td>7/24/1927</td>\n",
              "      <td>200.6</td>\n",
              "      <td>62</td>\n",
              "      <td>36.7</td>\n",
              "    </tr>\n",
              "    <tr>\n",
              "      <th>439</th>\n",
              "      <td>440</td>\n",
              "      <td>male</td>\n",
              "      <td>Hiromu</td>\n",
              "      <td>Horikawa</td>\n",
              "      <td>4567 Hazelwood Avenue</td>\n",
              "      <td>Des Moines</td>\n",
              "      <td>IA</td>\n",
              "      <td>50309.0</td>\n",
              "      <td>United States</td>\n",
              "      <td>HiromuHorikawa@superrito.com1 515 362 6574</td>\n",
              "      <td>7/7/1981</td>\n",
              "      <td>242.0</td>\n",
              "      <td>70</td>\n",
              "      <td>34.7</td>\n",
              "    </tr>\n",
              "  </tbody>\n",
              "</table>\n",
              "</div>"
            ],
            "text/plain": [
              "     patient_id assigned_sex given_name  ... weight height   bmi\n",
              "85           86         male    Burrell  ...  203.5     71  28.4\n",
              "280         281         male      David  ...  128.5     67  20.1\n",
              "468         469         male       Tosh  ...  194.7     68  29.6\n",
              "104         105       female     Yasmin  ...  200.6     62  36.7\n",
              "439         440         male     Hiromu  ...  242.0     70  34.7\n",
              "\n",
              "[5 rows x 14 columns]"
            ]
          },
          "metadata": {
            "tags": []
          },
          "execution_count": 80
        }
      ]
    },
    {
      "cell_type": "markdown",
      "metadata": {
        "id": "Bf5feHJVTc5Z"
      },
      "source": [
        "REPLACING THE DISCREPANCY IN THE STATE COLUMN\n",
        "- SOME STATE ARE GIVEN IN FULL FORM OTHERS IN ABBREVIATION\n",
        "- STATES WHOSE FULL FORM IS GIVEN INSTEAD OF ABBREVIATION\n",
        "  - CALIFORINA-CA\n",
        "  - NEW YORK - NY\n",
        "  - ILLIONIS- IL\n",
        "  - FLORIDA-FL\n",
        "  - NEBRASKA - NE"
      ]
    },
    {
      "cell_type": "code",
      "metadata": {
        "id": "qsgTtNRtRSOb",
        "outputId": "636f26ea-190a-495d-d2c9-f17c466030e5",
        "colab": {
          "base_uri": "https://localhost:8080/",
          "height": 952
        }
      },
      "source": [
        "patients_copy['state'].value_counts()"
      ],
      "execution_count": 81,
      "outputs": [
        {
          "output_type": "execute_result",
          "data": {
            "text/plain": [
              "California    36\n",
              "TX            32\n",
              "New York      25\n",
              "CA            24\n",
              "MA            22\n",
              "PA            18\n",
              "NY            17\n",
              "GA            15\n",
              "OH            14\n",
              "Illinois      14\n",
              "OK            13\n",
              "LA            13\n",
              "Florida       13\n",
              "MI            13\n",
              "NJ            12\n",
              "VA            11\n",
              "IL            10\n",
              "WI            10\n",
              "MS            10\n",
              "AL             9\n",
              "TN             9\n",
              "FL             9\n",
              "IN             9\n",
              "MN             9\n",
              "KY             8\n",
              "NC             8\n",
              "WA             8\n",
              "MO             7\n",
              "NV             6\n",
              "ID             6\n",
              "KS             6\n",
              "IA             5\n",
              "SC             5\n",
              "CT             5\n",
              "CO             4\n",
              "RI             4\n",
              "Nebraska       4\n",
              "AZ             4\n",
              "AR             4\n",
              "ME             4\n",
              "ND             4\n",
              "MD             3\n",
              "SD             3\n",
              "OR             3\n",
              "DE             3\n",
              "WV             3\n",
              "VT             2\n",
              "NE             2\n",
              "DC             2\n",
              "MT             2\n",
              "AK             1\n",
              "NH             1\n",
              "WY             1\n",
              "NM             1\n",
              "Name: state, dtype: int64"
            ]
          },
          "metadata": {
            "tags": []
          },
          "execution_count": 81
        }
      ]
    },
    {
      "cell_type": "code",
      "metadata": {
        "id": "9toEaLSiR5Ie"
      },
      "source": [
        "patients_copy['state']=patients_copy['state'].replace('California','CA')\n",
        "patients_copy['state']=patients_copy['state'].replace('New York','NY')\n",
        "patients_copy['state']=patients_copy['state'].replace('Illinois','IL')\n",
        "patients_copy['state']=patients_copy['state'].replace('Florida','FL')\n",
        "patients_copy['state']=patients_copy['state'].replace('Nebraska','NE')\n"
      ],
      "execution_count": 82,
      "outputs": []
    },
    {
      "cell_type": "code",
      "metadata": {
        "id": "4sKi6KT3S068",
        "outputId": "e290b773-f1d2-46ba-c056-0e35d4476a39",
        "colab": {
          "base_uri": "https://localhost:8080/",
          "height": 867
        }
      },
      "source": [
        "patients_copy['state'].value_counts()"
      ],
      "execution_count": 83,
      "outputs": [
        {
          "output_type": "execute_result",
          "data": {
            "text/plain": [
              "CA    60\n",
              "NY    42\n",
              "TX    32\n",
              "IL    24\n",
              "FL    22\n",
              "MA    22\n",
              "PA    18\n",
              "GA    15\n",
              "OH    14\n",
              "OK    13\n",
              "MI    13\n",
              "LA    13\n",
              "NJ    12\n",
              "VA    11\n",
              "WI    10\n",
              "MS    10\n",
              "IN     9\n",
              "MN     9\n",
              "TN     9\n",
              "AL     9\n",
              "KY     8\n",
              "NC     8\n",
              "WA     8\n",
              "MO     7\n",
              "NE     6\n",
              "KS     6\n",
              "NV     6\n",
              "ID     6\n",
              "IA     5\n",
              "CT     5\n",
              "SC     5\n",
              "ME     4\n",
              "RI     4\n",
              "ND     4\n",
              "CO     4\n",
              "AR     4\n",
              "AZ     4\n",
              "DE     3\n",
              "OR     3\n",
              "MD     3\n",
              "WV     3\n",
              "SD     3\n",
              "DC     2\n",
              "VT     2\n",
              "MT     2\n",
              "WY     1\n",
              "AK     1\n",
              "NM     1\n",
              "NH     1\n",
              "Name: state, dtype: int64"
            ]
          },
          "metadata": {
            "tags": []
          },
          "execution_count": 83
        }
      ]
    },
    {
      "cell_type": "code",
      "metadata": {
        "id": "iirEOKvwS6dp",
        "outputId": "1cfac71b-4973-40de-ebbb-eb62b3d6ff1f",
        "colab": {
          "base_uri": "https://localhost:8080/",
          "height": 357
        }
      },
      "source": [
        "patients_copy.sample(5)"
      ],
      "execution_count": 84,
      "outputs": [
        {
          "output_type": "execute_result",
          "data": {
            "text/html": [
              "<div>\n",
              "<style scoped>\n",
              "    .dataframe tbody tr th:only-of-type {\n",
              "        vertical-align: middle;\n",
              "    }\n",
              "\n",
              "    .dataframe tbody tr th {\n",
              "        vertical-align: top;\n",
              "    }\n",
              "\n",
              "    .dataframe thead th {\n",
              "        text-align: right;\n",
              "    }\n",
              "</style>\n",
              "<table border=\"1\" class=\"dataframe\">\n",
              "  <thead>\n",
              "    <tr style=\"text-align: right;\">\n",
              "      <th></th>\n",
              "      <th>patient_id</th>\n",
              "      <th>assigned_sex</th>\n",
              "      <th>given_name</th>\n",
              "      <th>surname</th>\n",
              "      <th>address</th>\n",
              "      <th>city</th>\n",
              "      <th>state</th>\n",
              "      <th>zip_code</th>\n",
              "      <th>country</th>\n",
              "      <th>contact</th>\n",
              "      <th>birthdate</th>\n",
              "      <th>weight</th>\n",
              "      <th>height</th>\n",
              "      <th>bmi</th>\n",
              "    </tr>\n",
              "  </thead>\n",
              "  <tbody>\n",
              "    <tr>\n",
              "      <th>156</th>\n",
              "      <td>157</td>\n",
              "      <td>male</td>\n",
              "      <td>Thống</td>\n",
              "      <td>Lê</td>\n",
              "      <td>174 Lost Creek Road</td>\n",
              "      <td>Roseville</td>\n",
              "      <td>MN</td>\n",
              "      <td>55113.0</td>\n",
              "      <td>United States</td>\n",
              "      <td>LeVietThong@gustr.com+1 (612) 208-2965</td>\n",
              "      <td>2/9/1929</td>\n",
              "      <td>172.9</td>\n",
              "      <td>68</td>\n",
              "      <td>26.3</td>\n",
              "    </tr>\n",
              "    <tr>\n",
              "      <th>322</th>\n",
              "      <td>323</td>\n",
              "      <td>male</td>\n",
              "      <td>Mười</td>\n",
              "      <td>Liễu</td>\n",
              "      <td>4346 Sussex Court</td>\n",
              "      <td>Chilton</td>\n",
              "      <td>TX</td>\n",
              "      <td>76632.0</td>\n",
              "      <td>United States</td>\n",
              "      <td>254-546-2728LieuThanhMuoi@teleworm.us</td>\n",
              "      <td>7/27/1974</td>\n",
              "      <td>218.5</td>\n",
              "      <td>66</td>\n",
              "      <td>35.3</td>\n",
              "    </tr>\n",
              "    <tr>\n",
              "      <th>406</th>\n",
              "      <td>407</td>\n",
              "      <td>male</td>\n",
              "      <td>Dániel</td>\n",
              "      <td>Német</td>\n",
              "      <td>4278 Hart Country Lane</td>\n",
              "      <td>Dalton</td>\n",
              "      <td>GA</td>\n",
              "      <td>30720.0</td>\n",
              "      <td>United States</td>\n",
              "      <td>NemetDaniel@cuvox.de+1 (706) 581-5226</td>\n",
              "      <td>11/21/1994</td>\n",
              "      <td>175.6</td>\n",
              "      <td>73</td>\n",
              "      <td>23.2</td>\n",
              "    </tr>\n",
              "    <tr>\n",
              "      <th>138</th>\n",
              "      <td>139</td>\n",
              "      <td>male</td>\n",
              "      <td>Jose</td>\n",
              "      <td>Combs</td>\n",
              "      <td>718 Eden Drive</td>\n",
              "      <td>Richmond</td>\n",
              "      <td>VA</td>\n",
              "      <td>23220.0</td>\n",
              "      <td>United States</td>\n",
              "      <td>804-908-1436JoseRCombs@rhyta.com</td>\n",
              "      <td>12/27/1975</td>\n",
              "      <td>171.2</td>\n",
              "      <td>74</td>\n",
              "      <td>22.0</td>\n",
              "    </tr>\n",
              "    <tr>\n",
              "      <th>193</th>\n",
              "      <td>194</td>\n",
              "      <td>male</td>\n",
              "      <td>Borna</td>\n",
              "      <td>Šlezinger</td>\n",
              "      <td>3073 Bedford Street</td>\n",
              "      <td>West Haven</td>\n",
              "      <td>CT</td>\n",
              "      <td>6516.0</td>\n",
              "      <td>United States</td>\n",
              "      <td>BornaSlezinger@cuvox.de203-933-3979</td>\n",
              "      <td>3/21/1987</td>\n",
              "      <td>203.9</td>\n",
              "      <td>69</td>\n",
              "      <td>30.1</td>\n",
              "    </tr>\n",
              "  </tbody>\n",
              "</table>\n",
              "</div>"
            ],
            "text/plain": [
              "     patient_id assigned_sex given_name  ... weight height   bmi\n",
              "156         157         male      Thống  ...  172.9     68  26.3\n",
              "322         323         male       Mười  ...  218.5     66  35.3\n",
              "406         407         male     Dániel  ...  175.6     73  23.2\n",
              "138         139         male       Jose  ...  171.2     74  22.0\n",
              "193         194         male      Borna  ...  203.9     69  30.1\n",
              "\n",
              "[5 rows x 14 columns]"
            ]
          },
          "metadata": {
            "tags": []
          },
          "execution_count": 84
        }
      ]
    },
    {
      "cell_type": "markdown",
      "metadata": {
        "id": "EOU5whXfU7bP"
      },
      "source": [
        "CHANGING THE DTYPE OF ZIP_CODE FROM FLOAT TO INT"
      ]
    },
    {
      "cell_type": "code",
      "metadata": {
        "id": "WpfDutv2U6OM"
      },
      "source": [
        "patients_copy['zip_code']=patients_copy['zip_code'].astype('int64')"
      ],
      "execution_count": 85,
      "outputs": []
    },
    {
      "cell_type": "markdown",
      "metadata": {
        "id": "Z03JBTmDUWAC"
      },
      "source": [
        "SOLVING THE DISCREPANCY IN ZIP_CODE COLUMN\n",
        "- SOME ZIP_CODES ARE GIVEN IN 4 DIGITS OTHER IN FIVE DIGITS\n",
        "  - padding with 0 on the left where zip code is given in 4 digits\n",
        "  - since zip codes starting with 0 are dropped\n",
        "  - example - zip code of West Haven (CT) is given as 6516 but the zip code is 06516"
      ]
    },
    {
      "cell_type": "code",
      "metadata": {
        "id": "O5C8-KOQUAvE"
      },
      "source": [
        "patients_copy['zip_code']=patients_copy['zip_code'].astype('str').str.pad(5,'left','0')"
      ],
      "execution_count": 86,
      "outputs": []
    },
    {
      "cell_type": "code",
      "metadata": {
        "id": "j3higW5_Vzvj",
        "outputId": "81452f13-01f5-405e-a748-ffee0c6a77e6",
        "colab": {
          "base_uri": "https://localhost:8080/",
          "height": 428
        }
      },
      "source": [
        "patients_copy.sample(5)"
      ],
      "execution_count": 87,
      "outputs": [
        {
          "output_type": "execute_result",
          "data": {
            "text/html": [
              "<div>\n",
              "<style scoped>\n",
              "    .dataframe tbody tr th:only-of-type {\n",
              "        vertical-align: middle;\n",
              "    }\n",
              "\n",
              "    .dataframe tbody tr th {\n",
              "        vertical-align: top;\n",
              "    }\n",
              "\n",
              "    .dataframe thead th {\n",
              "        text-align: right;\n",
              "    }\n",
              "</style>\n",
              "<table border=\"1\" class=\"dataframe\">\n",
              "  <thead>\n",
              "    <tr style=\"text-align: right;\">\n",
              "      <th></th>\n",
              "      <th>patient_id</th>\n",
              "      <th>assigned_sex</th>\n",
              "      <th>given_name</th>\n",
              "      <th>surname</th>\n",
              "      <th>address</th>\n",
              "      <th>city</th>\n",
              "      <th>state</th>\n",
              "      <th>zip_code</th>\n",
              "      <th>country</th>\n",
              "      <th>contact</th>\n",
              "      <th>birthdate</th>\n",
              "      <th>weight</th>\n",
              "      <th>height</th>\n",
              "      <th>bmi</th>\n",
              "    </tr>\n",
              "  </thead>\n",
              "  <tbody>\n",
              "    <tr>\n",
              "      <th>144</th>\n",
              "      <td>145</td>\n",
              "      <td>male</td>\n",
              "      <td>Mile</td>\n",
              "      <td>Stanić</td>\n",
              "      <td>4640 Windy Ridge Road</td>\n",
              "      <td>Fort Wayne</td>\n",
              "      <td>IN</td>\n",
              "      <td>46804</td>\n",
              "      <td>United States</td>\n",
              "      <td>260-591-5755MileStanic@dayrep.com</td>\n",
              "      <td>10/31/1961</td>\n",
              "      <td>244.9</td>\n",
              "      <td>71</td>\n",
              "      <td>34.2</td>\n",
              "    </tr>\n",
              "    <tr>\n",
              "      <th>112</th>\n",
              "      <td>113</td>\n",
              "      <td>female</td>\n",
              "      <td>Arnþrúður</td>\n",
              "      <td>Skarphéðinsdóttir</td>\n",
              "      <td>2578 Tenmile</td>\n",
              "      <td>Newport News</td>\n",
              "      <td>VA</td>\n",
              "      <td>23602</td>\n",
              "      <td>United States</td>\n",
              "      <td>ArnruurSkarpheinsdottir@rhyta.com+1 (757) 885-...</td>\n",
              "      <td>6/4/1922</td>\n",
              "      <td>172.0</td>\n",
              "      <td>63</td>\n",
              "      <td>30.5</td>\n",
              "    </tr>\n",
              "    <tr>\n",
              "      <th>412</th>\n",
              "      <td>413</td>\n",
              "      <td>male</td>\n",
              "      <td>Finlay</td>\n",
              "      <td>Sheppard</td>\n",
              "      <td>4571 Walnut Hill Drive</td>\n",
              "      <td>Portland</td>\n",
              "      <td>OH</td>\n",
              "      <td>45204</td>\n",
              "      <td>United States</td>\n",
              "      <td>FinlaySheppard@fleckens.hu+1 (513) 297-6359</td>\n",
              "      <td>6/16/1948</td>\n",
              "      <td>161.3</td>\n",
              "      <td>70</td>\n",
              "      <td>23.1</td>\n",
              "    </tr>\n",
              "    <tr>\n",
              "      <th>162</th>\n",
              "      <td>163</td>\n",
              "      <td>female</td>\n",
              "      <td>Sarina</td>\n",
              "      <td>Tabata</td>\n",
              "      <td>4646 Highland View Drive</td>\n",
              "      <td>Sacramento</td>\n",
              "      <td>CA</td>\n",
              "      <td>95814</td>\n",
              "      <td>United States</td>\n",
              "      <td>SarinaTabata@teleworm.us916-555-7247</td>\n",
              "      <td>4/21/1967</td>\n",
              "      <td>201.7</td>\n",
              "      <td>63</td>\n",
              "      <td>35.7</td>\n",
              "    </tr>\n",
              "    <tr>\n",
              "      <th>392</th>\n",
              "      <td>393</td>\n",
              "      <td>female</td>\n",
              "      <td>Kristin</td>\n",
              "      <td>Borgen</td>\n",
              "      <td>3008 Walkers Ridge Way</td>\n",
              "      <td>Lemont</td>\n",
              "      <td>IL</td>\n",
              "      <td>60439</td>\n",
              "      <td>United States</td>\n",
              "      <td>630-252-5095KristinBorgen@gustr.com</td>\n",
              "      <td>12/12/1971</td>\n",
              "      <td>206.1</td>\n",
              "      <td>67</td>\n",
              "      <td>32.3</td>\n",
              "    </tr>\n",
              "  </tbody>\n",
              "</table>\n",
              "</div>"
            ],
            "text/plain": [
              "     patient_id assigned_sex given_name  ... weight height   bmi\n",
              "144         145         male       Mile  ...  244.9     71  34.2\n",
              "112         113       female  Arnþrúður  ...  172.0     63  30.5\n",
              "412         413         male     Finlay  ...  161.3     70  23.1\n",
              "162         163       female     Sarina  ...  201.7     63  35.7\n",
              "392         393       female    Kristin  ...  206.1     67  32.3\n",
              "\n",
              "[5 rows x 14 columns]"
            ]
          },
          "metadata": {
            "tags": []
          },
          "execution_count": 87
        }
      ]
    },
    {
      "cell_type": "markdown",
      "metadata": {
        "id": "kWabllzcdXgb"
      },
      "source": [
        "CHANGING ERRORNEOUS DATA PRESENT IN WEIGHT AND HEIGHT COLUMN\n",
        "\n",
        "- THE MINIMUM HEIGHT IS GIVEN TO BE 27 INCHES, WITH  A WEIGHT OF 192.3 lbs AND BMI OF 26.1\n",
        "- THE MINIMUM WEIGHT IS GIVEN TO BE 48.8 lbs, WITH A HEIGHT OF 63 INCHES AND BMI 0F 19.1 "
      ]
    },
    {
      "cell_type": "code",
      "metadata": {
        "id": "7VfD4h1yW03I",
        "outputId": "10c6e632-932f-49ef-9601-e9065727e8b4",
        "colab": {
          "base_uri": "https://localhost:8080/",
          "height": 114
        }
      },
      "source": [
        "patients_copy[patients_copy['weight'] == 48.8]"
      ],
      "execution_count": 88,
      "outputs": [
        {
          "output_type": "execute_result",
          "data": {
            "text/html": [
              "<div>\n",
              "<style scoped>\n",
              "    .dataframe tbody tr th:only-of-type {\n",
              "        vertical-align: middle;\n",
              "    }\n",
              "\n",
              "    .dataframe tbody tr th {\n",
              "        vertical-align: top;\n",
              "    }\n",
              "\n",
              "    .dataframe thead th {\n",
              "        text-align: right;\n",
              "    }\n",
              "</style>\n",
              "<table border=\"1\" class=\"dataframe\">\n",
              "  <thead>\n",
              "    <tr style=\"text-align: right;\">\n",
              "      <th></th>\n",
              "      <th>patient_id</th>\n",
              "      <th>assigned_sex</th>\n",
              "      <th>given_name</th>\n",
              "      <th>surname</th>\n",
              "      <th>address</th>\n",
              "      <th>city</th>\n",
              "      <th>state</th>\n",
              "      <th>zip_code</th>\n",
              "      <th>country</th>\n",
              "      <th>contact</th>\n",
              "      <th>birthdate</th>\n",
              "      <th>weight</th>\n",
              "      <th>height</th>\n",
              "      <th>bmi</th>\n",
              "    </tr>\n",
              "  </thead>\n",
              "  <tbody>\n",
              "    <tr>\n",
              "      <th>210</th>\n",
              "      <td>211</td>\n",
              "      <td>female</td>\n",
              "      <td>Camilla</td>\n",
              "      <td>Zaitseva</td>\n",
              "      <td>4689 Briarhill Lane</td>\n",
              "      <td>Wooster</td>\n",
              "      <td>OH</td>\n",
              "      <td>44691</td>\n",
              "      <td>United States</td>\n",
              "      <td>330-202-2145CamillaZaitseva@superrito.com</td>\n",
              "      <td>11/26/1938</td>\n",
              "      <td>48.8</td>\n",
              "      <td>63</td>\n",
              "      <td>19.1</td>\n",
              "    </tr>\n",
              "  </tbody>\n",
              "</table>\n",
              "</div>"
            ],
            "text/plain": [
              "     patient_id assigned_sex given_name  ... weight height   bmi\n",
              "210         211       female    Camilla  ...   48.8     63  19.1\n",
              "\n",
              "[1 rows x 14 columns]"
            ]
          },
          "metadata": {
            "tags": []
          },
          "execution_count": 88
        }
      ]
    },
    {
      "cell_type": "code",
      "metadata": {
        "id": "PgqSUsdLYzTc",
        "outputId": "e5168f97-0f1e-4251-888b-2a931b47118e",
        "colab": {
          "base_uri": "https://localhost:8080/",
          "height": 173
        }
      },
      "source": [
        "patients_copy.describe().T"
      ],
      "execution_count": 89,
      "outputs": [
        {
          "output_type": "execute_result",
          "data": {
            "text/html": [
              "<div>\n",
              "<style scoped>\n",
              "    .dataframe tbody tr th:only-of-type {\n",
              "        vertical-align: middle;\n",
              "    }\n",
              "\n",
              "    .dataframe tbody tr th {\n",
              "        vertical-align: top;\n",
              "    }\n",
              "\n",
              "    .dataframe thead th {\n",
              "        text-align: right;\n",
              "    }\n",
              "</style>\n",
              "<table border=\"1\" class=\"dataframe\">\n",
              "  <thead>\n",
              "    <tr style=\"text-align: right;\">\n",
              "      <th></th>\n",
              "      <th>count</th>\n",
              "      <th>mean</th>\n",
              "      <th>std</th>\n",
              "      <th>min</th>\n",
              "      <th>25%</th>\n",
              "      <th>50%</th>\n",
              "      <th>75%</th>\n",
              "      <th>max</th>\n",
              "    </tr>\n",
              "  </thead>\n",
              "  <tbody>\n",
              "    <tr>\n",
              "      <th>patient_id</th>\n",
              "      <td>486.0</td>\n",
              "      <td>251.991770</td>\n",
              "      <td>147.806895</td>\n",
              "      <td>1.0</td>\n",
              "      <td>122.250</td>\n",
              "      <td>253.50</td>\n",
              "      <td>381.750</td>\n",
              "      <td>503.0</td>\n",
              "    </tr>\n",
              "    <tr>\n",
              "      <th>weight</th>\n",
              "      <td>486.0</td>\n",
              "      <td>173.278189</td>\n",
              "      <td>34.080077</td>\n",
              "      <td>48.8</td>\n",
              "      <td>148.825</td>\n",
              "      <td>174.45</td>\n",
              "      <td>199.725</td>\n",
              "      <td>255.9</td>\n",
              "    </tr>\n",
              "    <tr>\n",
              "      <th>height</th>\n",
              "      <td>486.0</td>\n",
              "      <td>66.588477</td>\n",
              "      <td>4.414058</td>\n",
              "      <td>27.0</td>\n",
              "      <td>63.000</td>\n",
              "      <td>67.00</td>\n",
              "      <td>70.000</td>\n",
              "      <td>79.0</td>\n",
              "    </tr>\n",
              "    <tr>\n",
              "      <th>bmi</th>\n",
              "      <td>486.0</td>\n",
              "      <td>27.491770</td>\n",
              "      <td>5.295547</td>\n",
              "      <td>17.1</td>\n",
              "      <td>23.200</td>\n",
              "      <td>27.20</td>\n",
              "      <td>31.700</td>\n",
              "      <td>37.7</td>\n",
              "    </tr>\n",
              "  </tbody>\n",
              "</table>\n",
              "</div>"
            ],
            "text/plain": [
              "            count        mean         std  ...     50%      75%    max\n",
              "patient_id  486.0  251.991770  147.806895  ...  253.50  381.750  503.0\n",
              "weight      486.0  173.278189   34.080077  ...  174.45  199.725  255.9\n",
              "height      486.0   66.588477    4.414058  ...   67.00   70.000   79.0\n",
              "bmi         486.0   27.491770    5.295547  ...   27.20   31.700   37.7\n",
              "\n",
              "[4 rows x 8 columns]"
            ]
          },
          "metadata": {
            "tags": []
          },
          "execution_count": 89
        }
      ]
    },
    {
      "cell_type": "code",
      "metadata": {
        "id": "JAvDsO6TZIK5",
        "outputId": "743f98cb-5600-45fb-8d86-efa6df04d54c",
        "colab": {
          "base_uri": "https://localhost:8080/",
          "height": 97
        }
      },
      "source": [
        "patients_copy[patients_copy['height'] == 27.0]"
      ],
      "execution_count": 90,
      "outputs": [
        {
          "output_type": "execute_result",
          "data": {
            "text/html": [
              "<div>\n",
              "<style scoped>\n",
              "    .dataframe tbody tr th:only-of-type {\n",
              "        vertical-align: middle;\n",
              "    }\n",
              "\n",
              "    .dataframe tbody tr th {\n",
              "        vertical-align: top;\n",
              "    }\n",
              "\n",
              "    .dataframe thead th {\n",
              "        text-align: right;\n",
              "    }\n",
              "</style>\n",
              "<table border=\"1\" class=\"dataframe\">\n",
              "  <thead>\n",
              "    <tr style=\"text-align: right;\">\n",
              "      <th></th>\n",
              "      <th>patient_id</th>\n",
              "      <th>assigned_sex</th>\n",
              "      <th>given_name</th>\n",
              "      <th>surname</th>\n",
              "      <th>address</th>\n",
              "      <th>city</th>\n",
              "      <th>state</th>\n",
              "      <th>zip_code</th>\n",
              "      <th>country</th>\n",
              "      <th>contact</th>\n",
              "      <th>birthdate</th>\n",
              "      <th>weight</th>\n",
              "      <th>height</th>\n",
              "      <th>bmi</th>\n",
              "    </tr>\n",
              "  </thead>\n",
              "  <tbody>\n",
              "    <tr>\n",
              "      <th>4</th>\n",
              "      <td>5</td>\n",
              "      <td>male</td>\n",
              "      <td>Tim</td>\n",
              "      <td>Neudorf</td>\n",
              "      <td>1428 Turkey Pen Lane</td>\n",
              "      <td>Dothan</td>\n",
              "      <td>AL</td>\n",
              "      <td>36303</td>\n",
              "      <td>United States</td>\n",
              "      <td>334-515-7487TimNeudorf@cuvox.de</td>\n",
              "      <td>2/18/1928</td>\n",
              "      <td>192.3</td>\n",
              "      <td>27</td>\n",
              "      <td>26.1</td>\n",
              "    </tr>\n",
              "  </tbody>\n",
              "</table>\n",
              "</div>"
            ],
            "text/plain": [
              "   patient_id assigned_sex given_name  surname  ...  birthdate weight height   bmi\n",
              "4           5         male        Tim  Neudorf  ...  2/18/1928  192.3     27  26.1\n",
              "\n",
              "[1 rows x 14 columns]"
            ]
          },
          "metadata": {
            "tags": []
          },
          "execution_count": 90
        }
      ]
    },
    {
      "cell_type": "markdown",
      "metadata": {
        "id": "B35xIF2KeSZC"
      },
      "source": [
        "FORMULA FOR CALCULATING BMI-\n",
        "\n",
        "- 703 x ((WEIGHT)/(HEIGHT)^2)"
      ]
    },
    {
      "cell_type": "code",
      "metadata": {
        "id": "zSXCwY09ahE5"
      },
      "source": [
        "# CALCULATING HEIGHT FOR WEIGHT=192.3 AND BMI=26.1\n",
        "#  THE HEIGHT COMES AROUND 71.96 ~ 72 INCHES\n"
      ],
      "execution_count": 91,
      "outputs": []
    },
    {
      "cell_type": "code",
      "metadata": {
        "id": "Xpj0cZBmg_V2"
      },
      "source": [
        "# UPDATING IT IN PATIENT_ID 5\n",
        "\n",
        "patients_copy['height']=patients_copy['height'].replace(27,72)"
      ],
      "execution_count": 92,
      "outputs": []
    },
    {
      "cell_type": "markdown",
      "metadata": {
        "id": "V25bLCIKl-gA"
      },
      "source": [
        "TEST"
      ]
    },
    {
      "cell_type": "code",
      "metadata": {
        "id": "OS5z6ZKwhg_Z",
        "outputId": "0feef5d0-a3f6-48d4-be53-ffa0e140dc70",
        "colab": {
          "base_uri": "https://localhost:8080/",
          "height": 97
        }
      },
      "source": [
        "patients_copy[patients_copy['patient_id'] == 5]"
      ],
      "execution_count": 93,
      "outputs": [
        {
          "output_type": "execute_result",
          "data": {
            "text/html": [
              "<div>\n",
              "<style scoped>\n",
              "    .dataframe tbody tr th:only-of-type {\n",
              "        vertical-align: middle;\n",
              "    }\n",
              "\n",
              "    .dataframe tbody tr th {\n",
              "        vertical-align: top;\n",
              "    }\n",
              "\n",
              "    .dataframe thead th {\n",
              "        text-align: right;\n",
              "    }\n",
              "</style>\n",
              "<table border=\"1\" class=\"dataframe\">\n",
              "  <thead>\n",
              "    <tr style=\"text-align: right;\">\n",
              "      <th></th>\n",
              "      <th>patient_id</th>\n",
              "      <th>assigned_sex</th>\n",
              "      <th>given_name</th>\n",
              "      <th>surname</th>\n",
              "      <th>address</th>\n",
              "      <th>city</th>\n",
              "      <th>state</th>\n",
              "      <th>zip_code</th>\n",
              "      <th>country</th>\n",
              "      <th>contact</th>\n",
              "      <th>birthdate</th>\n",
              "      <th>weight</th>\n",
              "      <th>height</th>\n",
              "      <th>bmi</th>\n",
              "    </tr>\n",
              "  </thead>\n",
              "  <tbody>\n",
              "    <tr>\n",
              "      <th>4</th>\n",
              "      <td>5</td>\n",
              "      <td>male</td>\n",
              "      <td>Tim</td>\n",
              "      <td>Neudorf</td>\n",
              "      <td>1428 Turkey Pen Lane</td>\n",
              "      <td>Dothan</td>\n",
              "      <td>AL</td>\n",
              "      <td>36303</td>\n",
              "      <td>United States</td>\n",
              "      <td>334-515-7487TimNeudorf@cuvox.de</td>\n",
              "      <td>2/18/1928</td>\n",
              "      <td>192.3</td>\n",
              "      <td>72</td>\n",
              "      <td>26.1</td>\n",
              "    </tr>\n",
              "  </tbody>\n",
              "</table>\n",
              "</div>"
            ],
            "text/plain": [
              "   patient_id assigned_sex given_name  surname  ...  birthdate weight height   bmi\n",
              "4           5         male        Tim  Neudorf  ...  2/18/1928  192.3     72  26.1\n",
              "\n",
              "[1 rows x 14 columns]"
            ]
          },
          "metadata": {
            "tags": []
          },
          "execution_count": 93
        }
      ]
    },
    {
      "cell_type": "code",
      "metadata": {
        "id": "MEe1QBZIj78q",
        "outputId": "f9ca933c-b166-4822-88f3-678cbb45c52a",
        "colab": {
          "base_uri": "https://localhost:8080/",
          "height": 173
        }
      },
      "source": [
        "patients_copy.describe().T"
      ],
      "execution_count": 94,
      "outputs": [
        {
          "output_type": "execute_result",
          "data": {
            "text/html": [
              "<div>\n",
              "<style scoped>\n",
              "    .dataframe tbody tr th:only-of-type {\n",
              "        vertical-align: middle;\n",
              "    }\n",
              "\n",
              "    .dataframe tbody tr th {\n",
              "        vertical-align: top;\n",
              "    }\n",
              "\n",
              "    .dataframe thead th {\n",
              "        text-align: right;\n",
              "    }\n",
              "</style>\n",
              "<table border=\"1\" class=\"dataframe\">\n",
              "  <thead>\n",
              "    <tr style=\"text-align: right;\">\n",
              "      <th></th>\n",
              "      <th>count</th>\n",
              "      <th>mean</th>\n",
              "      <th>std</th>\n",
              "      <th>min</th>\n",
              "      <th>25%</th>\n",
              "      <th>50%</th>\n",
              "      <th>75%</th>\n",
              "      <th>max</th>\n",
              "    </tr>\n",
              "  </thead>\n",
              "  <tbody>\n",
              "    <tr>\n",
              "      <th>patient_id</th>\n",
              "      <td>486.0</td>\n",
              "      <td>251.991770</td>\n",
              "      <td>147.806895</td>\n",
              "      <td>1.0</td>\n",
              "      <td>122.250</td>\n",
              "      <td>253.50</td>\n",
              "      <td>381.750</td>\n",
              "      <td>503.0</td>\n",
              "    </tr>\n",
              "    <tr>\n",
              "      <th>weight</th>\n",
              "      <td>486.0</td>\n",
              "      <td>173.278189</td>\n",
              "      <td>34.080077</td>\n",
              "      <td>48.8</td>\n",
              "      <td>148.825</td>\n",
              "      <td>174.45</td>\n",
              "      <td>199.725</td>\n",
              "      <td>255.9</td>\n",
              "    </tr>\n",
              "    <tr>\n",
              "      <th>height</th>\n",
              "      <td>486.0</td>\n",
              "      <td>66.681070</td>\n",
              "      <td>4.037853</td>\n",
              "      <td>59.0</td>\n",
              "      <td>63.000</td>\n",
              "      <td>67.00</td>\n",
              "      <td>70.000</td>\n",
              "      <td>79.0</td>\n",
              "    </tr>\n",
              "    <tr>\n",
              "      <th>bmi</th>\n",
              "      <td>486.0</td>\n",
              "      <td>27.491770</td>\n",
              "      <td>5.295547</td>\n",
              "      <td>17.1</td>\n",
              "      <td>23.200</td>\n",
              "      <td>27.20</td>\n",
              "      <td>31.700</td>\n",
              "      <td>37.7</td>\n",
              "    </tr>\n",
              "  </tbody>\n",
              "</table>\n",
              "</div>"
            ],
            "text/plain": [
              "            count        mean         std  ...     50%      75%    max\n",
              "patient_id  486.0  251.991770  147.806895  ...  253.50  381.750  503.0\n",
              "weight      486.0  173.278189   34.080077  ...  174.45  199.725  255.9\n",
              "height      486.0   66.681070    4.037853  ...   67.00   70.000   79.0\n",
              "bmi         486.0   27.491770    5.295547  ...   27.20   31.700   37.7\n",
              "\n",
              "[4 rows x 8 columns]"
            ]
          },
          "metadata": {
            "tags": []
          },
          "execution_count": 94
        }
      ]
    },
    {
      "cell_type": "code",
      "metadata": {
        "id": "I8QH0Tj1kTUj"
      },
      "source": [
        "# CALCULATING WEIGHT FOR HEIGHT=63 AND BMI=19.1\n",
        "#  THE WEIGHT COMES AROUND 107.83\n"
      ],
      "execution_count": 95,
      "outputs": []
    },
    {
      "cell_type": "code",
      "metadata": {
        "id": "zcoPPioqlU2u"
      },
      "source": [
        "# UPDATING IT IN PATIENT ID 211\n",
        "\n",
        "patients_copy['weight']=patients_copy['weight'].replace(48.8,107.8)"
      ],
      "execution_count": 96,
      "outputs": []
    },
    {
      "cell_type": "markdown",
      "metadata": {
        "id": "sOK0ZQj4l6OJ"
      },
      "source": [
        "TEST"
      ]
    },
    {
      "cell_type": "code",
      "metadata": {
        "id": "s5zo-QkaliUf",
        "outputId": "1eefe73f-dc79-47a4-bb94-8263d8ce6a76",
        "colab": {
          "base_uri": "https://localhost:8080/",
          "height": 114
        }
      },
      "source": [
        "patients_copy[patients_copy['patient_id'] == 211]"
      ],
      "execution_count": 97,
      "outputs": [
        {
          "output_type": "execute_result",
          "data": {
            "text/html": [
              "<div>\n",
              "<style scoped>\n",
              "    .dataframe tbody tr th:only-of-type {\n",
              "        vertical-align: middle;\n",
              "    }\n",
              "\n",
              "    .dataframe tbody tr th {\n",
              "        vertical-align: top;\n",
              "    }\n",
              "\n",
              "    .dataframe thead th {\n",
              "        text-align: right;\n",
              "    }\n",
              "</style>\n",
              "<table border=\"1\" class=\"dataframe\">\n",
              "  <thead>\n",
              "    <tr style=\"text-align: right;\">\n",
              "      <th></th>\n",
              "      <th>patient_id</th>\n",
              "      <th>assigned_sex</th>\n",
              "      <th>given_name</th>\n",
              "      <th>surname</th>\n",
              "      <th>address</th>\n",
              "      <th>city</th>\n",
              "      <th>state</th>\n",
              "      <th>zip_code</th>\n",
              "      <th>country</th>\n",
              "      <th>contact</th>\n",
              "      <th>birthdate</th>\n",
              "      <th>weight</th>\n",
              "      <th>height</th>\n",
              "      <th>bmi</th>\n",
              "    </tr>\n",
              "  </thead>\n",
              "  <tbody>\n",
              "    <tr>\n",
              "      <th>210</th>\n",
              "      <td>211</td>\n",
              "      <td>female</td>\n",
              "      <td>Camilla</td>\n",
              "      <td>Zaitseva</td>\n",
              "      <td>4689 Briarhill Lane</td>\n",
              "      <td>Wooster</td>\n",
              "      <td>OH</td>\n",
              "      <td>44691</td>\n",
              "      <td>United States</td>\n",
              "      <td>330-202-2145CamillaZaitseva@superrito.com</td>\n",
              "      <td>11/26/1938</td>\n",
              "      <td>107.8</td>\n",
              "      <td>63</td>\n",
              "      <td>19.1</td>\n",
              "    </tr>\n",
              "  </tbody>\n",
              "</table>\n",
              "</div>"
            ],
            "text/plain": [
              "     patient_id assigned_sex given_name  ... weight height   bmi\n",
              "210         211       female    Camilla  ...  107.8     63  19.1\n",
              "\n",
              "[1 rows x 14 columns]"
            ]
          },
          "metadata": {
            "tags": []
          },
          "execution_count": 97
        }
      ]
    },
    {
      "cell_type": "code",
      "metadata": {
        "id": "XnPq7cRTlmHf",
        "outputId": "edd63480-5350-46e8-ee51-429a379662fe",
        "colab": {
          "base_uri": "https://localhost:8080/",
          "height": 173
        }
      },
      "source": [
        "patients_copy.describe().T"
      ],
      "execution_count": 98,
      "outputs": [
        {
          "output_type": "execute_result",
          "data": {
            "text/html": [
              "<div>\n",
              "<style scoped>\n",
              "    .dataframe tbody tr th:only-of-type {\n",
              "        vertical-align: middle;\n",
              "    }\n",
              "\n",
              "    .dataframe tbody tr th {\n",
              "        vertical-align: top;\n",
              "    }\n",
              "\n",
              "    .dataframe thead th {\n",
              "        text-align: right;\n",
              "    }\n",
              "</style>\n",
              "<table border=\"1\" class=\"dataframe\">\n",
              "  <thead>\n",
              "    <tr style=\"text-align: right;\">\n",
              "      <th></th>\n",
              "      <th>count</th>\n",
              "      <th>mean</th>\n",
              "      <th>std</th>\n",
              "      <th>min</th>\n",
              "      <th>25%</th>\n",
              "      <th>50%</th>\n",
              "      <th>75%</th>\n",
              "      <th>max</th>\n",
              "    </tr>\n",
              "  </thead>\n",
              "  <tbody>\n",
              "    <tr>\n",
              "      <th>patient_id</th>\n",
              "      <td>486.0</td>\n",
              "      <td>251.991770</td>\n",
              "      <td>147.806895</td>\n",
              "      <td>1.0</td>\n",
              "      <td>122.250</td>\n",
              "      <td>253.50</td>\n",
              "      <td>381.750</td>\n",
              "      <td>503.0</td>\n",
              "    </tr>\n",
              "    <tr>\n",
              "      <th>weight</th>\n",
              "      <td>486.0</td>\n",
              "      <td>173.399588</td>\n",
              "      <td>33.739128</td>\n",
              "      <td>102.1</td>\n",
              "      <td>148.825</td>\n",
              "      <td>174.45</td>\n",
              "      <td>199.725</td>\n",
              "      <td>255.9</td>\n",
              "    </tr>\n",
              "    <tr>\n",
              "      <th>height</th>\n",
              "      <td>486.0</td>\n",
              "      <td>66.681070</td>\n",
              "      <td>4.037853</td>\n",
              "      <td>59.0</td>\n",
              "      <td>63.000</td>\n",
              "      <td>67.00</td>\n",
              "      <td>70.000</td>\n",
              "      <td>79.0</td>\n",
              "    </tr>\n",
              "    <tr>\n",
              "      <th>bmi</th>\n",
              "      <td>486.0</td>\n",
              "      <td>27.491770</td>\n",
              "      <td>5.295547</td>\n",
              "      <td>17.1</td>\n",
              "      <td>23.200</td>\n",
              "      <td>27.20</td>\n",
              "      <td>31.700</td>\n",
              "      <td>37.7</td>\n",
              "    </tr>\n",
              "  </tbody>\n",
              "</table>\n",
              "</div>"
            ],
            "text/plain": [
              "            count        mean         std  ...     50%      75%    max\n",
              "patient_id  486.0  251.991770  147.806895  ...  253.50  381.750  503.0\n",
              "weight      486.0  173.399588   33.739128  ...  174.45  199.725  255.9\n",
              "height      486.0   66.681070    4.037853  ...   67.00   70.000   79.0\n",
              "bmi         486.0   27.491770    5.295547  ...   27.20   31.700   37.7\n",
              "\n",
              "[4 rows x 8 columns]"
            ]
          },
          "metadata": {
            "tags": []
          },
          "execution_count": 98
        }
      ]
    },
    {
      "cell_type": "markdown",
      "metadata": {
        "id": "yUtOjBP1mRWQ"
      },
      "source": [
        "CHANGING THE DTYPE OF ASSIGNED_SEX AND BIRTHDATE\n",
        "\n",
        "- ASSIGNED_SEX IS GIVEN AS OBJECT CHANGING IT TO CATEGORY\n",
        "- BIRTHDATE IS GIVEN AS OBJECT CHANGING IT TO DATE"
      ]
    },
    {
      "cell_type": "code",
      "metadata": {
        "id": "x2CwN2yPqi5X"
      },
      "source": [
        "patients_copy['birthdate']=patients['birthdate']"
      ],
      "execution_count": 99,
      "outputs": []
    },
    {
      "cell_type": "code",
      "metadata": {
        "id": "jYtHu8SGlrYv"
      },
      "source": [
        "patients_copy['birthdate']= pd.to_datetime(patients_copy['birthdate'])"
      ],
      "execution_count": 100,
      "outputs": []
    },
    {
      "cell_type": "code",
      "metadata": {
        "id": "g1RfQYtXnMHN",
        "outputId": "a947b4f1-9426-47ff-cdb6-eb64f6978433",
        "colab": {
          "base_uri": "https://localhost:8080/",
          "height": 374
        }
      },
      "source": [
        "patients_copy.info()"
      ],
      "execution_count": 101,
      "outputs": [
        {
          "output_type": "stream",
          "text": [
            "<class 'pandas.core.frame.DataFrame'>\n",
            "Int64Index: 486 entries, 0 to 502\n",
            "Data columns (total 14 columns):\n",
            " #   Column        Non-Null Count  Dtype         \n",
            "---  ------        --------------  -----         \n",
            " 0   patient_id    486 non-null    int64         \n",
            " 1   assigned_sex  486 non-null    object        \n",
            " 2   given_name    486 non-null    object        \n",
            " 3   surname       486 non-null    object        \n",
            " 4   address       486 non-null    object        \n",
            " 5   city          486 non-null    object        \n",
            " 6   state         486 non-null    object        \n",
            " 7   zip_code      486 non-null    object        \n",
            " 8   country       486 non-null    object        \n",
            " 9   contact       486 non-null    object        \n",
            " 10  birthdate     486 non-null    datetime64[ns]\n",
            " 11  weight        486 non-null    float64       \n",
            " 12  height        486 non-null    int64         \n",
            " 13  bmi           486 non-null    float64       \n",
            "dtypes: datetime64[ns](1), float64(2), int64(2), object(9)\n",
            "memory usage: 57.0+ KB\n"
          ],
          "name": "stdout"
        }
      ]
    },
    {
      "cell_type": "code",
      "metadata": {
        "id": "7T-C4zoGnOOK"
      },
      "source": [
        "patients_copy['assigned_sex']=patients_copy['assigned_sex'].astype('category')"
      ],
      "execution_count": 102,
      "outputs": []
    },
    {
      "cell_type": "code",
      "metadata": {
        "id": "fD_zOVKQncYM",
        "outputId": "3b3e6bd0-b14c-44b5-8fdf-373983df22bb",
        "colab": {
          "base_uri": "https://localhost:8080/",
          "height": 374
        }
      },
      "source": [
        "patients_copy.info()"
      ],
      "execution_count": 103,
      "outputs": [
        {
          "output_type": "stream",
          "text": [
            "<class 'pandas.core.frame.DataFrame'>\n",
            "Int64Index: 486 entries, 0 to 502\n",
            "Data columns (total 14 columns):\n",
            " #   Column        Non-Null Count  Dtype         \n",
            "---  ------        --------------  -----         \n",
            " 0   patient_id    486 non-null    int64         \n",
            " 1   assigned_sex  486 non-null    category      \n",
            " 2   given_name    486 non-null    object        \n",
            " 3   surname       486 non-null    object        \n",
            " 4   address       486 non-null    object        \n",
            " 5   city          486 non-null    object        \n",
            " 6   state         486 non-null    object        \n",
            " 7   zip_code      486 non-null    object        \n",
            " 8   country       486 non-null    object        \n",
            " 9   contact       486 non-null    object        \n",
            " 10  birthdate     486 non-null    datetime64[ns]\n",
            " 11  weight        486 non-null    float64       \n",
            " 12  height        486 non-null    int64         \n",
            " 13  bmi           486 non-null    float64       \n",
            "dtypes: category(1), datetime64[ns](1), float64(2), int64(2), object(8)\n",
            "memory usage: 53.7+ KB\n"
          ],
          "name": "stdout"
        }
      ]
    },
    {
      "cell_type": "code",
      "metadata": {
        "id": "J1bGRyf4oSGY",
        "outputId": "0585c189-7867-4c42-fe68-812c1f01a735",
        "colab": {
          "base_uri": "https://localhost:8080/",
          "height": 394
        }
      },
      "source": [
        "patients_copy.sample(5)"
      ],
      "execution_count": 104,
      "outputs": [
        {
          "output_type": "execute_result",
          "data": {
            "text/html": [
              "<div>\n",
              "<style scoped>\n",
              "    .dataframe tbody tr th:only-of-type {\n",
              "        vertical-align: middle;\n",
              "    }\n",
              "\n",
              "    .dataframe tbody tr th {\n",
              "        vertical-align: top;\n",
              "    }\n",
              "\n",
              "    .dataframe thead th {\n",
              "        text-align: right;\n",
              "    }\n",
              "</style>\n",
              "<table border=\"1\" class=\"dataframe\">\n",
              "  <thead>\n",
              "    <tr style=\"text-align: right;\">\n",
              "      <th></th>\n",
              "      <th>patient_id</th>\n",
              "      <th>assigned_sex</th>\n",
              "      <th>given_name</th>\n",
              "      <th>surname</th>\n",
              "      <th>address</th>\n",
              "      <th>city</th>\n",
              "      <th>state</th>\n",
              "      <th>zip_code</th>\n",
              "      <th>country</th>\n",
              "      <th>contact</th>\n",
              "      <th>birthdate</th>\n",
              "      <th>weight</th>\n",
              "      <th>height</th>\n",
              "      <th>bmi</th>\n",
              "    </tr>\n",
              "  </thead>\n",
              "  <tbody>\n",
              "    <tr>\n",
              "      <th>333</th>\n",
              "      <td>334</td>\n",
              "      <td>male</td>\n",
              "      <td>Jad Allah</td>\n",
              "      <td>Gaber</td>\n",
              "      <td>2704 Windy Ridge Road</td>\n",
              "      <td>Monroeville</td>\n",
              "      <td>IN</td>\n",
              "      <td>46773</td>\n",
              "      <td>United States</td>\n",
              "      <td>JadAllahSayyarGaber@rhyta.com1 260 623 1176</td>\n",
              "      <td>1926-05-14</td>\n",
              "      <td>174.2</td>\n",
              "      <td>69</td>\n",
              "      <td>25.7</td>\n",
              "    </tr>\n",
              "    <tr>\n",
              "      <th>479</th>\n",
              "      <td>480</td>\n",
              "      <td>male</td>\n",
              "      <td>Tapa</td>\n",
              "      <td>Arsanukayev</td>\n",
              "      <td>4720 Gordon Street</td>\n",
              "      <td>Ontario</td>\n",
              "      <td>CA</td>\n",
              "      <td>91762</td>\n",
              "      <td>United States</td>\n",
              "      <td>TapaArsanukayev@dayrep.com1 909 458 2515</td>\n",
              "      <td>1955-09-15</td>\n",
              "      <td>220.0</td>\n",
              "      <td>65</td>\n",
              "      <td>36.6</td>\n",
              "    </tr>\n",
              "    <tr>\n",
              "      <th>217</th>\n",
              "      <td>218</td>\n",
              "      <td>male</td>\n",
              "      <td>Saidmohmad</td>\n",
              "      <td>Rushisvili</td>\n",
              "      <td>4192 Holly Street</td>\n",
              "      <td>Athens</td>\n",
              "      <td>GA</td>\n",
              "      <td>30601</td>\n",
              "      <td>United States</td>\n",
              "      <td>SaidmohmadRushisvili@teleworm.us706-266-4583</td>\n",
              "      <td>1959-06-11</td>\n",
              "      <td>216.5</td>\n",
              "      <td>67</td>\n",
              "      <td>33.9</td>\n",
              "    </tr>\n",
              "    <tr>\n",
              "      <th>68</th>\n",
              "      <td>69</td>\n",
              "      <td>female</td>\n",
              "      <td>Haruna</td>\n",
              "      <td>Azuma</td>\n",
              "      <td>1507 Woodlawn Drive</td>\n",
              "      <td>Milwaukee</td>\n",
              "      <td>WI</td>\n",
              "      <td>53204</td>\n",
              "      <td>United States</td>\n",
              "      <td>414-646-4353HarunaAzuma@gustr.com</td>\n",
              "      <td>1978-02-22</td>\n",
              "      <td>149.8</td>\n",
              "      <td>63</td>\n",
              "      <td>26.5</td>\n",
              "    </tr>\n",
              "    <tr>\n",
              "      <th>53</th>\n",
              "      <td>54</td>\n",
              "      <td>male</td>\n",
              "      <td>Kwemtochukwu</td>\n",
              "      <td>Ogochukwu</td>\n",
              "      <td>2172 Lynn Street</td>\n",
              "      <td>Franklin</td>\n",
              "      <td>MA</td>\n",
              "      <td>02038</td>\n",
              "      <td>United States</td>\n",
              "      <td>617-317-5055KwemtochukwuOgochukwu@einrot.com</td>\n",
              "      <td>1976-06-30</td>\n",
              "      <td>150.5</td>\n",
              "      <td>72</td>\n",
              "      <td>20.4</td>\n",
              "    </tr>\n",
              "  </tbody>\n",
              "</table>\n",
              "</div>"
            ],
            "text/plain": [
              "     patient_id assigned_sex    given_name  ... weight height   bmi\n",
              "333         334         male     Jad Allah  ...  174.2     69  25.7\n",
              "479         480         male          Tapa  ...  220.0     65  36.6\n",
              "217         218         male    Saidmohmad  ...  216.5     67  33.9\n",
              "68           69       female        Haruna  ...  149.8     63  26.5\n",
              "53           54         male  Kwemtochukwu  ...  150.5     72  20.4\n",
              "\n",
              "[5 rows x 14 columns]"
            ]
          },
          "metadata": {
            "tags": []
          },
          "execution_count": 104
        }
      ]
    },
    {
      "cell_type": "markdown",
      "metadata": {
        "id": "Iv4n7E8Qq0VA"
      },
      "source": [
        "CHANGING THE FORMAT OF DATE\n"
      ]
    },
    {
      "cell_type": "code",
      "metadata": {
        "id": "0HQWZuiYocUs"
      },
      "source": [
        "patients_copy['birthdate'] = patients_copy['birthdate'].dt.strftime('%d/%m/%Y')"
      ],
      "execution_count": 105,
      "outputs": []
    },
    {
      "cell_type": "code",
      "metadata": {
        "id": "0ch5aiNZqK6L",
        "outputId": "383bc5a2-8477-43b6-ae28-d546d221f719",
        "colab": {
          "base_uri": "https://localhost:8080/",
          "height": 323
        }
      },
      "source": [
        "patients_copy.head()"
      ],
      "execution_count": 106,
      "outputs": [
        {
          "output_type": "execute_result",
          "data": {
            "text/html": [
              "<div>\n",
              "<style scoped>\n",
              "    .dataframe tbody tr th:only-of-type {\n",
              "        vertical-align: middle;\n",
              "    }\n",
              "\n",
              "    .dataframe tbody tr th {\n",
              "        vertical-align: top;\n",
              "    }\n",
              "\n",
              "    .dataframe thead th {\n",
              "        text-align: right;\n",
              "    }\n",
              "</style>\n",
              "<table border=\"1\" class=\"dataframe\">\n",
              "  <thead>\n",
              "    <tr style=\"text-align: right;\">\n",
              "      <th></th>\n",
              "      <th>patient_id</th>\n",
              "      <th>assigned_sex</th>\n",
              "      <th>given_name</th>\n",
              "      <th>surname</th>\n",
              "      <th>address</th>\n",
              "      <th>city</th>\n",
              "      <th>state</th>\n",
              "      <th>zip_code</th>\n",
              "      <th>country</th>\n",
              "      <th>contact</th>\n",
              "      <th>birthdate</th>\n",
              "      <th>weight</th>\n",
              "      <th>height</th>\n",
              "      <th>bmi</th>\n",
              "    </tr>\n",
              "  </thead>\n",
              "  <tbody>\n",
              "    <tr>\n",
              "      <th>0</th>\n",
              "      <td>1</td>\n",
              "      <td>female</td>\n",
              "      <td>Zoe</td>\n",
              "      <td>Wellish</td>\n",
              "      <td>576 Brown Bear Drive</td>\n",
              "      <td>Rancho California</td>\n",
              "      <td>CA</td>\n",
              "      <td>92390</td>\n",
              "      <td>United States</td>\n",
              "      <td>951-719-9170ZoeWellish@superrito.com</td>\n",
              "      <td>10/07/1976</td>\n",
              "      <td>121.7</td>\n",
              "      <td>66</td>\n",
              "      <td>19.6</td>\n",
              "    </tr>\n",
              "    <tr>\n",
              "      <th>1</th>\n",
              "      <td>2</td>\n",
              "      <td>female</td>\n",
              "      <td>Pamela</td>\n",
              "      <td>Hill</td>\n",
              "      <td>2370 University Hill Road</td>\n",
              "      <td>Armstrong</td>\n",
              "      <td>IL</td>\n",
              "      <td>61812</td>\n",
              "      <td>United States</td>\n",
              "      <td>PamelaSHill@cuvox.de+1 (217) 569-3204</td>\n",
              "      <td>03/04/1967</td>\n",
              "      <td>118.8</td>\n",
              "      <td>66</td>\n",
              "      <td>19.2</td>\n",
              "    </tr>\n",
              "    <tr>\n",
              "      <th>2</th>\n",
              "      <td>3</td>\n",
              "      <td>male</td>\n",
              "      <td>Jae</td>\n",
              "      <td>Debord</td>\n",
              "      <td>1493 Poling Farm Road</td>\n",
              "      <td>York</td>\n",
              "      <td>NE</td>\n",
              "      <td>68467</td>\n",
              "      <td>United States</td>\n",
              "      <td>402-363-6804JaeMDebord@gustr.com</td>\n",
              "      <td>19/02/1980</td>\n",
              "      <td>177.8</td>\n",
              "      <td>71</td>\n",
              "      <td>24.8</td>\n",
              "    </tr>\n",
              "    <tr>\n",
              "      <th>3</th>\n",
              "      <td>4</td>\n",
              "      <td>male</td>\n",
              "      <td>Liêm</td>\n",
              "      <td>Phan</td>\n",
              "      <td>2335 Webster Street</td>\n",
              "      <td>Woodbridge</td>\n",
              "      <td>NJ</td>\n",
              "      <td>07095</td>\n",
              "      <td>United States</td>\n",
              "      <td>PhanBaLiem@jourrapide.com+1 (732) 636-8246</td>\n",
              "      <td>26/07/1951</td>\n",
              "      <td>220.9</td>\n",
              "      <td>70</td>\n",
              "      <td>31.7</td>\n",
              "    </tr>\n",
              "    <tr>\n",
              "      <th>4</th>\n",
              "      <td>5</td>\n",
              "      <td>male</td>\n",
              "      <td>Tim</td>\n",
              "      <td>Neudorf</td>\n",
              "      <td>1428 Turkey Pen Lane</td>\n",
              "      <td>Dothan</td>\n",
              "      <td>AL</td>\n",
              "      <td>36303</td>\n",
              "      <td>United States</td>\n",
              "      <td>334-515-7487TimNeudorf@cuvox.de</td>\n",
              "      <td>18/02/1928</td>\n",
              "      <td>192.3</td>\n",
              "      <td>72</td>\n",
              "      <td>26.1</td>\n",
              "    </tr>\n",
              "  </tbody>\n",
              "</table>\n",
              "</div>"
            ],
            "text/plain": [
              "   patient_id assigned_sex given_name  ... weight height   bmi\n",
              "0           1       female        Zoe  ...  121.7     66  19.6\n",
              "1           2       female     Pamela  ...  118.8     66  19.2\n",
              "2           3         male        Jae  ...  177.8     71  24.8\n",
              "3           4         male       Liêm  ...  220.9     70  31.7\n",
              "4           5         male        Tim  ...  192.3     72  26.1\n",
              "\n",
              "[5 rows x 14 columns]"
            ]
          },
          "metadata": {
            "tags": []
          },
          "execution_count": 106
        }
      ]
    },
    {
      "cell_type": "code",
      "metadata": {
        "id": "f87t6G7-q_wV",
        "outputId": "4f75db34-3298-4dad-b778-f350d4312717",
        "colab": {
          "base_uri": "https://localhost:8080/",
          "height": 306
        }
      },
      "source": [
        "#patients_copy.drop('DOB1',axis=1,inplace=True)"
      ],
      "execution_count": 124,
      "outputs": [
        {
          "output_type": "error",
          "ename": "KeyError",
          "evalue": "ignored",
          "traceback": [
            "\u001b[0;31m---------------------------------------------------------------------------\u001b[0m",
            "\u001b[0;31mKeyError\u001b[0m                                  Traceback (most recent call last)",
            "\u001b[0;32m<ipython-input-124-567482d1b93d>\u001b[0m in \u001b[0;36m<module>\u001b[0;34m()\u001b[0m\n\u001b[0;32m----> 1\u001b[0;31m \u001b[0mpatients_copy\u001b[0m\u001b[0;34m.\u001b[0m\u001b[0mdrop\u001b[0m\u001b[0;34m(\u001b[0m\u001b[0;34m'DOB1'\u001b[0m\u001b[0;34m,\u001b[0m\u001b[0maxis\u001b[0m\u001b[0;34m=\u001b[0m\u001b[0;36m1\u001b[0m\u001b[0;34m,\u001b[0m\u001b[0minplace\u001b[0m\u001b[0;34m=\u001b[0m\u001b[0;32mTrue\u001b[0m\u001b[0;34m)\u001b[0m\u001b[0;34m\u001b[0m\u001b[0;34m\u001b[0m\u001b[0m\n\u001b[0m",
            "\u001b[0;32m/usr/local/lib/python3.6/dist-packages/pandas/core/frame.py\u001b[0m in \u001b[0;36mdrop\u001b[0;34m(self, labels, axis, index, columns, level, inplace, errors)\u001b[0m\n\u001b[1;32m   4167\u001b[0m             \u001b[0mlevel\u001b[0m\u001b[0;34m=\u001b[0m\u001b[0mlevel\u001b[0m\u001b[0;34m,\u001b[0m\u001b[0;34m\u001b[0m\u001b[0;34m\u001b[0m\u001b[0m\n\u001b[1;32m   4168\u001b[0m             \u001b[0minplace\u001b[0m\u001b[0;34m=\u001b[0m\u001b[0minplace\u001b[0m\u001b[0;34m,\u001b[0m\u001b[0;34m\u001b[0m\u001b[0;34m\u001b[0m\u001b[0m\n\u001b[0;32m-> 4169\u001b[0;31m             \u001b[0merrors\u001b[0m\u001b[0;34m=\u001b[0m\u001b[0merrors\u001b[0m\u001b[0;34m,\u001b[0m\u001b[0;34m\u001b[0m\u001b[0;34m\u001b[0m\u001b[0m\n\u001b[0m\u001b[1;32m   4170\u001b[0m         )\n\u001b[1;32m   4171\u001b[0m \u001b[0;34m\u001b[0m\u001b[0m\n",
            "\u001b[0;32m/usr/local/lib/python3.6/dist-packages/pandas/core/generic.py\u001b[0m in \u001b[0;36mdrop\u001b[0;34m(self, labels, axis, index, columns, level, inplace, errors)\u001b[0m\n\u001b[1;32m   3882\u001b[0m         \u001b[0;32mfor\u001b[0m \u001b[0maxis\u001b[0m\u001b[0;34m,\u001b[0m \u001b[0mlabels\u001b[0m \u001b[0;32min\u001b[0m \u001b[0maxes\u001b[0m\u001b[0;34m.\u001b[0m\u001b[0mitems\u001b[0m\u001b[0;34m(\u001b[0m\u001b[0;34m)\u001b[0m\u001b[0;34m:\u001b[0m\u001b[0;34m\u001b[0m\u001b[0;34m\u001b[0m\u001b[0m\n\u001b[1;32m   3883\u001b[0m             \u001b[0;32mif\u001b[0m \u001b[0mlabels\u001b[0m \u001b[0;32mis\u001b[0m \u001b[0;32mnot\u001b[0m \u001b[0;32mNone\u001b[0m\u001b[0;34m:\u001b[0m\u001b[0;34m\u001b[0m\u001b[0;34m\u001b[0m\u001b[0m\n\u001b[0;32m-> 3884\u001b[0;31m                 \u001b[0mobj\u001b[0m \u001b[0;34m=\u001b[0m \u001b[0mobj\u001b[0m\u001b[0;34m.\u001b[0m\u001b[0m_drop_axis\u001b[0m\u001b[0;34m(\u001b[0m\u001b[0mlabels\u001b[0m\u001b[0;34m,\u001b[0m \u001b[0maxis\u001b[0m\u001b[0;34m,\u001b[0m \u001b[0mlevel\u001b[0m\u001b[0;34m=\u001b[0m\u001b[0mlevel\u001b[0m\u001b[0;34m,\u001b[0m \u001b[0merrors\u001b[0m\u001b[0;34m=\u001b[0m\u001b[0merrors\u001b[0m\u001b[0;34m)\u001b[0m\u001b[0;34m\u001b[0m\u001b[0;34m\u001b[0m\u001b[0m\n\u001b[0m\u001b[1;32m   3885\u001b[0m \u001b[0;34m\u001b[0m\u001b[0m\n\u001b[1;32m   3886\u001b[0m         \u001b[0;32mif\u001b[0m \u001b[0minplace\u001b[0m\u001b[0;34m:\u001b[0m\u001b[0;34m\u001b[0m\u001b[0;34m\u001b[0m\u001b[0m\n",
            "\u001b[0;32m/usr/local/lib/python3.6/dist-packages/pandas/core/generic.py\u001b[0m in \u001b[0;36m_drop_axis\u001b[0;34m(self, labels, axis, level, errors)\u001b[0m\n\u001b[1;32m   3916\u001b[0m                 \u001b[0mnew_axis\u001b[0m \u001b[0;34m=\u001b[0m \u001b[0maxis\u001b[0m\u001b[0;34m.\u001b[0m\u001b[0mdrop\u001b[0m\u001b[0;34m(\u001b[0m\u001b[0mlabels\u001b[0m\u001b[0;34m,\u001b[0m \u001b[0mlevel\u001b[0m\u001b[0;34m=\u001b[0m\u001b[0mlevel\u001b[0m\u001b[0;34m,\u001b[0m \u001b[0merrors\u001b[0m\u001b[0;34m=\u001b[0m\u001b[0merrors\u001b[0m\u001b[0;34m)\u001b[0m\u001b[0;34m\u001b[0m\u001b[0;34m\u001b[0m\u001b[0m\n\u001b[1;32m   3917\u001b[0m             \u001b[0;32melse\u001b[0m\u001b[0;34m:\u001b[0m\u001b[0;34m\u001b[0m\u001b[0;34m\u001b[0m\u001b[0m\n\u001b[0;32m-> 3918\u001b[0;31m                 \u001b[0mnew_axis\u001b[0m \u001b[0;34m=\u001b[0m \u001b[0maxis\u001b[0m\u001b[0;34m.\u001b[0m\u001b[0mdrop\u001b[0m\u001b[0;34m(\u001b[0m\u001b[0mlabels\u001b[0m\u001b[0;34m,\u001b[0m \u001b[0merrors\u001b[0m\u001b[0;34m=\u001b[0m\u001b[0merrors\u001b[0m\u001b[0;34m)\u001b[0m\u001b[0;34m\u001b[0m\u001b[0;34m\u001b[0m\u001b[0m\n\u001b[0m\u001b[1;32m   3919\u001b[0m             \u001b[0mresult\u001b[0m \u001b[0;34m=\u001b[0m \u001b[0mself\u001b[0m\u001b[0;34m.\u001b[0m\u001b[0mreindex\u001b[0m\u001b[0;34m(\u001b[0m\u001b[0;34m**\u001b[0m\u001b[0;34m{\u001b[0m\u001b[0maxis_name\u001b[0m\u001b[0;34m:\u001b[0m \u001b[0mnew_axis\u001b[0m\u001b[0;34m}\u001b[0m\u001b[0;34m)\u001b[0m\u001b[0;34m\u001b[0m\u001b[0;34m\u001b[0m\u001b[0m\n\u001b[1;32m   3920\u001b[0m \u001b[0;34m\u001b[0m\u001b[0m\n",
            "\u001b[0;32m/usr/local/lib/python3.6/dist-packages/pandas/core/indexes/base.py\u001b[0m in \u001b[0;36mdrop\u001b[0;34m(self, labels, errors)\u001b[0m\n\u001b[1;32m   5276\u001b[0m         \u001b[0;32mif\u001b[0m \u001b[0mmask\u001b[0m\u001b[0;34m.\u001b[0m\u001b[0many\u001b[0m\u001b[0;34m(\u001b[0m\u001b[0;34m)\u001b[0m\u001b[0;34m:\u001b[0m\u001b[0;34m\u001b[0m\u001b[0;34m\u001b[0m\u001b[0m\n\u001b[1;32m   5277\u001b[0m             \u001b[0;32mif\u001b[0m \u001b[0merrors\u001b[0m \u001b[0;34m!=\u001b[0m \u001b[0;34m\"ignore\"\u001b[0m\u001b[0;34m:\u001b[0m\u001b[0;34m\u001b[0m\u001b[0;34m\u001b[0m\u001b[0m\n\u001b[0;32m-> 5278\u001b[0;31m                 \u001b[0;32mraise\u001b[0m \u001b[0mKeyError\u001b[0m\u001b[0;34m(\u001b[0m\u001b[0;34mf\"{labels[mask]} not found in axis\"\u001b[0m\u001b[0;34m)\u001b[0m\u001b[0;34m\u001b[0m\u001b[0;34m\u001b[0m\u001b[0m\n\u001b[0m\u001b[1;32m   5279\u001b[0m             \u001b[0mindexer\u001b[0m \u001b[0;34m=\u001b[0m \u001b[0mindexer\u001b[0m\u001b[0;34m[\u001b[0m\u001b[0;34m~\u001b[0m\u001b[0mmask\u001b[0m\u001b[0;34m]\u001b[0m\u001b[0;34m\u001b[0m\u001b[0;34m\u001b[0m\u001b[0m\n\u001b[1;32m   5280\u001b[0m         \u001b[0;32mreturn\u001b[0m \u001b[0mself\u001b[0m\u001b[0;34m.\u001b[0m\u001b[0mdelete\u001b[0m\u001b[0;34m(\u001b[0m\u001b[0mindexer\u001b[0m\u001b[0;34m)\u001b[0m\u001b[0;34m\u001b[0m\u001b[0;34m\u001b[0m\u001b[0m\n",
            "\u001b[0;31mKeyError\u001b[0m: \"['DOB1'] not found in axis\""
          ]
        }
      ]
    },
    {
      "cell_type": "markdown",
      "metadata": {
        "id": "DlDdrMicCseI"
      },
      "source": [
        "ADDING THE ADVERSE_REACTION COLUMN FROM ADVERSE TO TREATMENT"
      ]
    },
    {
      "cell_type": "code",
      "metadata": {
        "id": "47fGTsIHbLbY"
      },
      "source": [
        "treatment_copy= pd.merge(treatment_copy, adverse_copy, how=\"left\", on=['given_name','surname'])"
      ],
      "execution_count": 133,
      "outputs": []
    },
    {
      "cell_type": "code",
      "metadata": {
        "id": "bwcXias6zkR9"
      },
      "source": [
        "#treatment_copy.drop(['adverse_reaction_x','adverse_reaction_y'],axis=1,inplace=True)"
      ],
      "execution_count": 131,
      "outputs": []
    },
    {
      "cell_type": "code",
      "metadata": {
        "id": "YPh1zsOmbqEA",
        "outputId": "396c639e-1012-4bda-f819-5ef2ac9d08c3",
        "colab": {
          "base_uri": "https://localhost:8080/",
          "height": 204
        }
      },
      "source": [
        "treatment_copy.sample(5)"
      ],
      "execution_count": 135,
      "outputs": [
        {
          "output_type": "execute_result",
          "data": {
            "text/html": [
              "<div>\n",
              "<style scoped>\n",
              "    .dataframe tbody tr th:only-of-type {\n",
              "        vertical-align: middle;\n",
              "    }\n",
              "\n",
              "    .dataframe tbody tr th {\n",
              "        vertical-align: top;\n",
              "    }\n",
              "\n",
              "    .dataframe thead th {\n",
              "        text-align: right;\n",
              "    }\n",
              "</style>\n",
              "<table border=\"1\" class=\"dataframe\">\n",
              "  <thead>\n",
              "    <tr style=\"text-align: right;\">\n",
              "      <th></th>\n",
              "      <th>given_name</th>\n",
              "      <th>surname</th>\n",
              "      <th>hba1c_start</th>\n",
              "      <th>hba1c_end</th>\n",
              "      <th>hba1c_change</th>\n",
              "      <th>treatment</th>\n",
              "      <th>start</th>\n",
              "      <th>end</th>\n",
              "      <th>adverse_reaction</th>\n",
              "    </tr>\n",
              "  </thead>\n",
              "  <tbody>\n",
              "    <tr>\n",
              "      <th>230</th>\n",
              "      <td>Martha</td>\n",
              "      <td>Afanasyeva</td>\n",
              "      <td>7.81</td>\n",
              "      <td>7.39</td>\n",
              "      <td>0.42</td>\n",
              "      <td>novodra</td>\n",
              "      <td>34</td>\n",
              "      <td>41</td>\n",
              "      <td>NaN</td>\n",
              "    </tr>\n",
              "    <tr>\n",
              "      <th>262</th>\n",
              "      <td>Chen</td>\n",
              "      <td>Yao</td>\n",
              "      <td>7.90</td>\n",
              "      <td>7.51</td>\n",
              "      <td>0.39</td>\n",
              "      <td>novodra</td>\n",
              "      <td>56</td>\n",
              "      <td>57</td>\n",
              "      <td>NaN</td>\n",
              "    </tr>\n",
              "    <tr>\n",
              "      <th>92</th>\n",
              "      <td>Merci</td>\n",
              "      <td>Leroux</td>\n",
              "      <td>8.98</td>\n",
              "      <td>8.64</td>\n",
              "      <td>0.34</td>\n",
              "      <td>auralin</td>\n",
              "      <td>27</td>\n",
              "      <td>33</td>\n",
              "      <td>hypoglycemia</td>\n",
              "    </tr>\n",
              "    <tr>\n",
              "      <th>267</th>\n",
              "      <td>Csilla</td>\n",
              "      <td>Herczegh</td>\n",
              "      <td>7.71</td>\n",
              "      <td>7.27</td>\n",
              "      <td>0.44</td>\n",
              "      <td>novodra</td>\n",
              "      <td>43</td>\n",
              "      <td>46</td>\n",
              "      <td>NaN</td>\n",
              "    </tr>\n",
              "    <tr>\n",
              "      <th>19</th>\n",
              "      <td>Kristján</td>\n",
              "      <td>Ingason</td>\n",
              "      <td>7.92</td>\n",
              "      <td>7.57</td>\n",
              "      <td>0.35</td>\n",
              "      <td>auralin</td>\n",
              "      <td>44</td>\n",
              "      <td>55</td>\n",
              "      <td>NaN</td>\n",
              "    </tr>\n",
              "  </tbody>\n",
              "</table>\n",
              "</div>"
            ],
            "text/plain": [
              "    given_name     surname  hba1c_start  ...  start  end adverse_reaction\n",
              "230     Martha  Afanasyeva         7.81  ...     34   41              NaN\n",
              "262       Chen         Yao         7.90  ...     56   57              NaN\n",
              "92       Merci      Leroux         8.98  ...     27   33     hypoglycemia\n",
              "267     Csilla    Herczegh         7.71  ...     43   46              NaN\n",
              "19    Kristján     Ingason         7.92  ...     44   55              NaN\n",
              "\n",
              "[5 rows x 9 columns]"
            ]
          },
          "metadata": {
            "tags": []
          },
          "execution_count": 135
        }
      ]
    },
    {
      "cell_type": "code",
      "metadata": {
        "id": "FTwhk65qzSJ2"
      },
      "source": [
        "#treatment_copy.drop('adverse_reaction')"
      ],
      "execution_count": null,
      "outputs": []
    },
    {
      "cell_type": "code",
      "metadata": {
        "id": "B2JGMl89dKTF",
        "outputId": "2b5cc378-089f-45e3-d8b0-02c8e2fd25ca",
        "colab": {
          "base_uri": "https://localhost:8080/",
          "height": 80
        }
      },
      "source": [
        "adverse_copy[adverse_copy['given_name']=='Manouck']"
      ],
      "execution_count": 136,
      "outputs": [
        {
          "output_type": "execute_result",
          "data": {
            "text/html": [
              "<div>\n",
              "<style scoped>\n",
              "    .dataframe tbody tr th:only-of-type {\n",
              "        vertical-align: middle;\n",
              "    }\n",
              "\n",
              "    .dataframe tbody tr th {\n",
              "        vertical-align: top;\n",
              "    }\n",
              "\n",
              "    .dataframe thead th {\n",
              "        text-align: right;\n",
              "    }\n",
              "</style>\n",
              "<table border=\"1\" class=\"dataframe\">\n",
              "  <thead>\n",
              "    <tr style=\"text-align: right;\">\n",
              "      <th></th>\n",
              "      <th>given_name</th>\n",
              "      <th>surname</th>\n",
              "      <th>adverse_reaction</th>\n",
              "    </tr>\n",
              "  </thead>\n",
              "  <tbody>\n",
              "    <tr>\n",
              "      <th>4</th>\n",
              "      <td>Manouck</td>\n",
              "      <td>Wubbels</td>\n",
              "      <td>throat irritation</td>\n",
              "    </tr>\n",
              "  </tbody>\n",
              "</table>\n",
              "</div>"
            ],
            "text/plain": [
              "  given_name  surname   adverse_reaction\n",
              "4    Manouck  Wubbels  throat irritation"
            ]
          },
          "metadata": {
            "tags": []
          },
          "execution_count": 136
        }
      ]
    },
    {
      "cell_type": "code",
      "metadata": {
        "id": "UFF7zExeBuF2",
        "outputId": "96bad687-c5da-4423-b9ec-42962a145871",
        "colab": {
          "base_uri": "https://localhost:8080/",
          "height": 187
        }
      },
      "source": [
        "treatment_copy.isnull().sum()"
      ],
      "execution_count": 137,
      "outputs": [
        {
          "output_type": "execute_result",
          "data": {
            "text/plain": [
              "given_name            0\n",
              "surname               0\n",
              "hba1c_start           0\n",
              "hba1c_end             0\n",
              "hba1c_change          0\n",
              "treatment             0\n",
              "start                 0\n",
              "end                   0\n",
              "adverse_reaction    315\n",
              "dtype: int64"
            ]
          },
          "metadata": {
            "tags": []
          },
          "execution_count": 137
        }
      ]
    },
    {
      "cell_type": "markdown",
      "metadata": {
        "id": "ZKF8kD_k5vUi"
      },
      "source": [
        "SINCE IT IS NOT IMPORTANT WHAT TYPE OF ADVERSE REACTION WAS CAUSED,RATHER IT IS IMPORTANT IF ANY ADVERSE REACTION WAS CAUSED, THEREFORE CHANGING ADVERSE_REACTION INTO A CATEGORICAL COLUMN WITH N/Y AS VALUES"
      ]
    },
    {
      "cell_type": "code",
      "metadata": {
        "id": "L38ZwHa15CNZ"
      },
      "source": [
        "treatment_copy['adverse_reaction']=treatment_copy['adverse_reaction'].fillna('N')"
      ],
      "execution_count": 138,
      "outputs": []
    },
    {
      "cell_type": "code",
      "metadata": {
        "id": "aGUNxnVK5KE5"
      },
      "source": [
        "def adverse_reaction(value):\n",
        "  if value=='N':\n",
        "    return 'N'\n",
        "  else:\n",
        "    return 'Y'"
      ],
      "execution_count": 139,
      "outputs": []
    },
    {
      "cell_type": "code",
      "metadata": {
        "id": "VbATSAqL6FUP",
        "outputId": "f03ae925-75fa-414c-d189-e128f2cbf9bf",
        "colab": {
          "base_uri": "https://localhost:8080/",
          "height": 35
        }
      },
      "source": [
        "adverse_reaction('throat irritation')"
      ],
      "execution_count": 140,
      "outputs": [
        {
          "output_type": "execute_result",
          "data": {
            "application/vnd.google.colaboratory.intrinsic+json": {
              "type": "string"
            },
            "text/plain": [
              "'Y'"
            ]
          },
          "metadata": {
            "tags": []
          },
          "execution_count": 140
        }
      ]
    },
    {
      "cell_type": "code",
      "metadata": {
        "id": "598mpkup6M8G"
      },
      "source": [
        "treatment_copy['adverse_reaction']=treatment_copy['adverse_reaction'].apply(adverse_reaction)"
      ],
      "execution_count": 141,
      "outputs": []
    },
    {
      "cell_type": "code",
      "metadata": {
        "id": "k5A6ISqcB427",
        "outputId": "a5d73c16-698a-4863-ccf7-ef0c591f5481",
        "colab": {
          "base_uri": "https://localhost:8080/",
          "height": 204
        }
      },
      "source": [
        "treatment_copy.sample(5)"
      ],
      "execution_count": 142,
      "outputs": [
        {
          "output_type": "execute_result",
          "data": {
            "text/html": [
              "<div>\n",
              "<style scoped>\n",
              "    .dataframe tbody tr th:only-of-type {\n",
              "        vertical-align: middle;\n",
              "    }\n",
              "\n",
              "    .dataframe tbody tr th {\n",
              "        vertical-align: top;\n",
              "    }\n",
              "\n",
              "    .dataframe thead th {\n",
              "        text-align: right;\n",
              "    }\n",
              "</style>\n",
              "<table border=\"1\" class=\"dataframe\">\n",
              "  <thead>\n",
              "    <tr style=\"text-align: right;\">\n",
              "      <th></th>\n",
              "      <th>given_name</th>\n",
              "      <th>surname</th>\n",
              "      <th>hba1c_start</th>\n",
              "      <th>hba1c_end</th>\n",
              "      <th>hba1c_change</th>\n",
              "      <th>treatment</th>\n",
              "      <th>start</th>\n",
              "      <th>end</th>\n",
              "      <th>adverse_reaction</th>\n",
              "    </tr>\n",
              "  </thead>\n",
              "  <tbody>\n",
              "    <tr>\n",
              "      <th>103</th>\n",
              "      <td>Vanessa</td>\n",
              "      <td>Ferguson</td>\n",
              "      <td>7.97</td>\n",
              "      <td>7.58</td>\n",
              "      <td>0.39</td>\n",
              "      <td>auralin</td>\n",
              "      <td>39</td>\n",
              "      <td>50</td>\n",
              "      <td>N</td>\n",
              "    </tr>\n",
              "    <tr>\n",
              "      <th>281</th>\n",
              "      <td>Alwin</td>\n",
              "      <td>Svensson</td>\n",
              "      <td>7.78</td>\n",
              "      <td>7.34</td>\n",
              "      <td>0.44</td>\n",
              "      <td>auralin</td>\n",
              "      <td>36</td>\n",
              "      <td>39</td>\n",
              "      <td>N</td>\n",
              "    </tr>\n",
              "    <tr>\n",
              "      <th>99</th>\n",
              "      <td>Nicolas</td>\n",
              "      <td>Ferreira</td>\n",
              "      <td>7.99</td>\n",
              "      <td>7.72</td>\n",
              "      <td>0.27</td>\n",
              "      <td>auralin</td>\n",
              "      <td>43</td>\n",
              "      <td>51</td>\n",
              "      <td>N</td>\n",
              "    </tr>\n",
              "    <tr>\n",
              "      <th>239</th>\n",
              "      <td>Najla</td>\n",
              "      <td>Touma</td>\n",
              "      <td>7.66</td>\n",
              "      <td>7.31</td>\n",
              "      <td>0.35</td>\n",
              "      <td>novodra</td>\n",
              "      <td>39</td>\n",
              "      <td>44</td>\n",
              "      <td>N</td>\n",
              "    </tr>\n",
              "    <tr>\n",
              "      <th>251</th>\n",
              "      <td>Pamela</td>\n",
              "      <td>Hill</td>\n",
              "      <td>9.53</td>\n",
              "      <td>9.10</td>\n",
              "      <td>0.43</td>\n",
              "      <td>novodra</td>\n",
              "      <td>27</td>\n",
              "      <td>29</td>\n",
              "      <td>N</td>\n",
              "    </tr>\n",
              "  </tbody>\n",
              "</table>\n",
              "</div>"
            ],
            "text/plain": [
              "    given_name   surname  hba1c_start  ...  start  end adverse_reaction\n",
              "103    Vanessa  Ferguson         7.97  ...     39   50                N\n",
              "281      Alwin  Svensson         7.78  ...     36   39                N\n",
              "99     Nicolas  Ferreira         7.99  ...     43   51                N\n",
              "239      Najla     Touma         7.66  ...     39   44                N\n",
              "251     Pamela      Hill         9.53  ...     27   29                N\n",
              "\n",
              "[5 rows x 9 columns]"
            ]
          },
          "metadata": {
            "tags": []
          },
          "execution_count": 142
        }
      ]
    },
    {
      "cell_type": "code",
      "metadata": {
        "id": "D6n3xfosDJHc",
        "outputId": "1b273e3c-c3e2-4fda-e7c3-9a0927a89bc3",
        "colab": {
          "base_uri": "https://localhost:8080/",
          "height": 187
        }
      },
      "source": [
        "treatment_copy.isnull().sum()"
      ],
      "execution_count": 143,
      "outputs": [
        {
          "output_type": "execute_result",
          "data": {
            "text/plain": [
              "given_name          0\n",
              "surname             0\n",
              "hba1c_start         0\n",
              "hba1c_end           0\n",
              "hba1c_change        0\n",
              "treatment           0\n",
              "start               0\n",
              "end                 0\n",
              "adverse_reaction    0\n",
              "dtype: int64"
            ]
          },
          "metadata": {
            "tags": []
          },
          "execution_count": 143
        }
      ]
    },
    {
      "cell_type": "code",
      "metadata": {
        "id": "9ZqIu40CEROr"
      },
      "source": [
        "treatment_copy.info()"
      ],
      "execution_count": null,
      "outputs": []
    },
    {
      "cell_type": "code",
      "metadata": {
        "id": "eYKFaj2lEWLN"
      },
      "source": [
        "treatment_copy['adverse_reaction']=treatment_copy['adverse_reaction'].astype('category')"
      ],
      "execution_count": 144,
      "outputs": []
    },
    {
      "cell_type": "code",
      "metadata": {
        "id": "MHduEv5uEj-r",
        "outputId": "3a49b0f5-1e61-4c0b-a885-7e856ee200f0",
        "colab": {
          "base_uri": "https://localhost:8080/",
          "height": 289
        }
      },
      "source": [
        "treatment_copy.info()"
      ],
      "execution_count": 145,
      "outputs": [
        {
          "output_type": "stream",
          "text": [
            "<class 'pandas.core.frame.DataFrame'>\n",
            "Int64Index: 349 entries, 0 to 348\n",
            "Data columns (total 9 columns):\n",
            " #   Column            Non-Null Count  Dtype   \n",
            "---  ------            --------------  -----   \n",
            " 0   given_name        349 non-null    object  \n",
            " 1   surname           349 non-null    object  \n",
            " 2   hba1c_start       349 non-null    float64 \n",
            " 3   hba1c_end         349 non-null    float64 \n",
            " 4   hba1c_change      349 non-null    float64 \n",
            " 5   treatment         349 non-null    object  \n",
            " 6   start             349 non-null    int32   \n",
            " 7   end               349 non-null    int32   \n",
            " 8   adverse_reaction  349 non-null    category\n",
            "dtypes: category(1), float64(3), int32(2), object(3)\n",
            "memory usage: 22.2+ KB\n"
          ],
          "name": "stdout"
        }
      ]
    },
    {
      "cell_type": "markdown",
      "metadata": {
        "id": "cxv_OUmSDelV"
      },
      "source": [
        "SPLITTING THE CONTACT COLUMN OF PATIENTS -\n",
        "- INTO EMAIL AND PHONE\n"
      ]
    },
    {
      "cell_type": "code",
      "metadata": {
        "id": "8vdRMqxIDYvY"
      },
      "source": [
        "patients_copy.head()"
      ],
      "execution_count": null,
      "outputs": []
    },
    {
      "cell_type": "code",
      "metadata": {
        "id": "a2aCbrxwYeIk"
      },
      "source": [
        "#patients_copy['contact'].str.split()"
      ],
      "execution_count": null,
      "outputs": []
    },
    {
      "cell_type": "code",
      "metadata": {
        "id": "jHFOCIljY0ue"
      },
      "source": [
        " #patients_copy['contact'].str.extract(r'([\\d:,' ']+)')"
      ],
      "execution_count": null,
      "outputs": []
    },
    {
      "cell_type": "code",
      "metadata": {
        "id": "Kk3a81EWZaj9"
      },
      "source": [
        "patients_copy['Email_address']=patients_copy['contact'].str.findall('[a-zA-Z_.]+@[a-zA-Z0-9-]+\\.[a-zA-Z.]+').str[0]"
      ],
      "execution_count": 148,
      "outputs": []
    },
    {
      "cell_type": "code",
      "metadata": {
        "id": "drJ1HUnuanqn",
        "outputId": "603abfe1-ac52-4299-c0c0-dbd4f1b4453b",
        "colab": {
          "base_uri": "https://localhost:8080/",
          "height": 394
        }
      },
      "source": [
        "patients_copy.sample(5)"
      ],
      "execution_count": 149,
      "outputs": [
        {
          "output_type": "execute_result",
          "data": {
            "text/html": [
              "<div>\n",
              "<style scoped>\n",
              "    .dataframe tbody tr th:only-of-type {\n",
              "        vertical-align: middle;\n",
              "    }\n",
              "\n",
              "    .dataframe tbody tr th {\n",
              "        vertical-align: top;\n",
              "    }\n",
              "\n",
              "    .dataframe thead th {\n",
              "        text-align: right;\n",
              "    }\n",
              "</style>\n",
              "<table border=\"1\" class=\"dataframe\">\n",
              "  <thead>\n",
              "    <tr style=\"text-align: right;\">\n",
              "      <th></th>\n",
              "      <th>patient_id</th>\n",
              "      <th>assigned_sex</th>\n",
              "      <th>given_name</th>\n",
              "      <th>surname</th>\n",
              "      <th>address</th>\n",
              "      <th>city</th>\n",
              "      <th>state</th>\n",
              "      <th>zip_code</th>\n",
              "      <th>country</th>\n",
              "      <th>contact</th>\n",
              "      <th>birthdate</th>\n",
              "      <th>weight</th>\n",
              "      <th>height</th>\n",
              "      <th>bmi</th>\n",
              "      <th>phone_number</th>\n",
              "      <th>Email_address</th>\n",
              "    </tr>\n",
              "  </thead>\n",
              "  <tbody>\n",
              "    <tr>\n",
              "      <th>393</th>\n",
              "      <td>394</td>\n",
              "      <td>male</td>\n",
              "      <td>Steven</td>\n",
              "      <td>Roy</td>\n",
              "      <td>2816 Ashford Drive</td>\n",
              "      <td>Reston</td>\n",
              "      <td>VA</td>\n",
              "      <td>22070</td>\n",
              "      <td>United States</td>\n",
              "      <td>StevenBRoy@rhyta.com1 703 716 8652</td>\n",
              "      <td>19/09/1975</td>\n",
              "      <td>162.4</td>\n",
              "      <td>72</td>\n",
              "      <td>22.0</td>\n",
              "      <td>1 703 716 8652</td>\n",
              "      <td>StevenBRoy@rhyta.com</td>\n",
              "    </tr>\n",
              "    <tr>\n",
              "      <th>6</th>\n",
              "      <td>7</td>\n",
              "      <td>female</td>\n",
              "      <td>Mary</td>\n",
              "      <td>Adams</td>\n",
              "      <td>3145 Sheila Lane</td>\n",
              "      <td>Burbank</td>\n",
              "      <td>NV</td>\n",
              "      <td>84728</td>\n",
              "      <td>United States</td>\n",
              "      <td>775-533-5933MaryBAdams@einrot.com</td>\n",
              "      <td>19/11/1969</td>\n",
              "      <td>146.3</td>\n",
              "      <td>65</td>\n",
              "      <td>24.3</td>\n",
              "      <td>775-533-5933</td>\n",
              "      <td>MaryBAdams@einrot.com</td>\n",
              "    </tr>\n",
              "    <tr>\n",
              "      <th>30</th>\n",
              "      <td>31</td>\n",
              "      <td>female</td>\n",
              "      <td>Janina</td>\n",
              "      <td>Bazarova</td>\n",
              "      <td>3259 Roy Alley</td>\n",
              "      <td>Englewood</td>\n",
              "      <td>CO</td>\n",
              "      <td>80112</td>\n",
              "      <td>United States</td>\n",
              "      <td>303-910-2058JaninaBazarova@superrito.com</td>\n",
              "      <td>29/06/1964</td>\n",
              "      <td>156.9</td>\n",
              "      <td>65</td>\n",
              "      <td>26.1</td>\n",
              "      <td>303-910-2058</td>\n",
              "      <td>JaninaBazarova@superrito.com</td>\n",
              "    </tr>\n",
              "    <tr>\n",
              "      <th>438</th>\n",
              "      <td>439</td>\n",
              "      <td>female</td>\n",
              "      <td>Hannah</td>\n",
              "      <td>McIntosh</td>\n",
              "      <td>260 Derek Drive</td>\n",
              "      <td>New Philadelphia</td>\n",
              "      <td>OH</td>\n",
              "      <td>44663</td>\n",
              "      <td>United States</td>\n",
              "      <td>330-365-4059HannahMcIntosh@superrito.com</td>\n",
              "      <td>13/09/1946</td>\n",
              "      <td>112.0</td>\n",
              "      <td>67</td>\n",
              "      <td>17.5</td>\n",
              "      <td>330-365-4059</td>\n",
              "      <td>HannahMcIntosh@superrito.com</td>\n",
              "    </tr>\n",
              "    <tr>\n",
              "      <th>23</th>\n",
              "      <td>24</td>\n",
              "      <td>male</td>\n",
              "      <td>Lovre</td>\n",
              "      <td>Galić</td>\n",
              "      <td>4941 Marion Drive</td>\n",
              "      <td>Winter Haven</td>\n",
              "      <td>FL</td>\n",
              "      <td>33830</td>\n",
              "      <td>United States</td>\n",
              "      <td>LovreGalic@gustr.com1 813 355 9476</td>\n",
              "      <td>26/05/1960</td>\n",
              "      <td>222.9</td>\n",
              "      <td>66</td>\n",
              "      <td>36.0</td>\n",
              "      <td>1 813 355 9476</td>\n",
              "      <td>LovreGalic@gustr.com</td>\n",
              "    </tr>\n",
              "  </tbody>\n",
              "</table>\n",
              "</div>"
            ],
            "text/plain": [
              "     patient_id assigned_sex  ...    phone_number                 Email_address\n",
              "393         394         male  ...  1 703 716 8652          StevenBRoy@rhyta.com\n",
              "6             7       female  ...    775-533-5933         MaryBAdams@einrot.com\n",
              "30           31       female  ...    303-910-2058  JaninaBazarova@superrito.com\n",
              "438         439       female  ...    330-365-4059  HannahMcIntosh@superrito.com\n",
              "23           24         male  ...  1 813 355 9476          LovreGalic@gustr.com\n",
              "\n",
              "[5 rows x 16 columns]"
            ]
          },
          "metadata": {
            "tags": []
          },
          "execution_count": 149
        }
      ]
    },
    {
      "cell_type": "code",
      "metadata": {
        "id": "o4wNcEfydYln"
      },
      "source": [
        ""
      ],
      "execution_count": null,
      "outputs": []
    },
    {
      "cell_type": "code",
      "metadata": {
        "id": "dz10xEW6aqh2"
      },
      "source": [
        " patients_copy['phone_number']=patients_copy['contact'].str.findall(r'[\\+\\(]?[1-9][0-9 .\\-\\(\\)]{8,}[0-9]').str[0]"
      ],
      "execution_count": 150,
      "outputs": []
    },
    {
      "cell_type": "code",
      "metadata": {
        "id": "Xo8l4htXczQV",
        "outputId": "feb048d7-cc09-4619-d7a7-66b978983b46",
        "colab": {
          "base_uri": "https://localhost:8080/",
          "height": 428
        }
      },
      "source": [
        "patients_copy.head()"
      ],
      "execution_count": 151,
      "outputs": [
        {
          "output_type": "execute_result",
          "data": {
            "text/html": [
              "<div>\n",
              "<style scoped>\n",
              "    .dataframe tbody tr th:only-of-type {\n",
              "        vertical-align: middle;\n",
              "    }\n",
              "\n",
              "    .dataframe tbody tr th {\n",
              "        vertical-align: top;\n",
              "    }\n",
              "\n",
              "    .dataframe thead th {\n",
              "        text-align: right;\n",
              "    }\n",
              "</style>\n",
              "<table border=\"1\" class=\"dataframe\">\n",
              "  <thead>\n",
              "    <tr style=\"text-align: right;\">\n",
              "      <th></th>\n",
              "      <th>patient_id</th>\n",
              "      <th>assigned_sex</th>\n",
              "      <th>given_name</th>\n",
              "      <th>surname</th>\n",
              "      <th>address</th>\n",
              "      <th>city</th>\n",
              "      <th>state</th>\n",
              "      <th>zip_code</th>\n",
              "      <th>country</th>\n",
              "      <th>contact</th>\n",
              "      <th>birthdate</th>\n",
              "      <th>weight</th>\n",
              "      <th>height</th>\n",
              "      <th>bmi</th>\n",
              "      <th>phone_number</th>\n",
              "      <th>Email_address</th>\n",
              "    </tr>\n",
              "  </thead>\n",
              "  <tbody>\n",
              "    <tr>\n",
              "      <th>0</th>\n",
              "      <td>1</td>\n",
              "      <td>female</td>\n",
              "      <td>Zoe</td>\n",
              "      <td>Wellish</td>\n",
              "      <td>576 Brown Bear Drive</td>\n",
              "      <td>Rancho California</td>\n",
              "      <td>CA</td>\n",
              "      <td>92390</td>\n",
              "      <td>United States</td>\n",
              "      <td>951-719-9170ZoeWellish@superrito.com</td>\n",
              "      <td>10/07/1976</td>\n",
              "      <td>121.7</td>\n",
              "      <td>66</td>\n",
              "      <td>19.6</td>\n",
              "      <td>951-719-9170</td>\n",
              "      <td>ZoeWellish@superrito.com</td>\n",
              "    </tr>\n",
              "    <tr>\n",
              "      <th>1</th>\n",
              "      <td>2</td>\n",
              "      <td>female</td>\n",
              "      <td>Pamela</td>\n",
              "      <td>Hill</td>\n",
              "      <td>2370 University Hill Road</td>\n",
              "      <td>Armstrong</td>\n",
              "      <td>IL</td>\n",
              "      <td>61812</td>\n",
              "      <td>United States</td>\n",
              "      <td>PamelaSHill@cuvox.de+1 (217) 569-3204</td>\n",
              "      <td>03/04/1967</td>\n",
              "      <td>118.8</td>\n",
              "      <td>66</td>\n",
              "      <td>19.2</td>\n",
              "      <td>+1 (217) 569-3204</td>\n",
              "      <td>PamelaSHill@cuvox.de</td>\n",
              "    </tr>\n",
              "    <tr>\n",
              "      <th>2</th>\n",
              "      <td>3</td>\n",
              "      <td>male</td>\n",
              "      <td>Jae</td>\n",
              "      <td>Debord</td>\n",
              "      <td>1493 Poling Farm Road</td>\n",
              "      <td>York</td>\n",
              "      <td>NE</td>\n",
              "      <td>68467</td>\n",
              "      <td>United States</td>\n",
              "      <td>402-363-6804JaeMDebord@gustr.com</td>\n",
              "      <td>19/02/1980</td>\n",
              "      <td>177.8</td>\n",
              "      <td>71</td>\n",
              "      <td>24.8</td>\n",
              "      <td>402-363-6804</td>\n",
              "      <td>JaeMDebord@gustr.com</td>\n",
              "    </tr>\n",
              "    <tr>\n",
              "      <th>3</th>\n",
              "      <td>4</td>\n",
              "      <td>male</td>\n",
              "      <td>Liêm</td>\n",
              "      <td>Phan</td>\n",
              "      <td>2335 Webster Street</td>\n",
              "      <td>Woodbridge</td>\n",
              "      <td>NJ</td>\n",
              "      <td>07095</td>\n",
              "      <td>United States</td>\n",
              "      <td>PhanBaLiem@jourrapide.com+1 (732) 636-8246</td>\n",
              "      <td>26/07/1951</td>\n",
              "      <td>220.9</td>\n",
              "      <td>70</td>\n",
              "      <td>31.7</td>\n",
              "      <td>+1 (732) 636-8246</td>\n",
              "      <td>PhanBaLiem@jourrapide.com</td>\n",
              "    </tr>\n",
              "    <tr>\n",
              "      <th>4</th>\n",
              "      <td>5</td>\n",
              "      <td>male</td>\n",
              "      <td>Tim</td>\n",
              "      <td>Neudorf</td>\n",
              "      <td>1428 Turkey Pen Lane</td>\n",
              "      <td>Dothan</td>\n",
              "      <td>AL</td>\n",
              "      <td>36303</td>\n",
              "      <td>United States</td>\n",
              "      <td>334-515-7487TimNeudorf@cuvox.de</td>\n",
              "      <td>18/02/1928</td>\n",
              "      <td>192.3</td>\n",
              "      <td>72</td>\n",
              "      <td>26.1</td>\n",
              "      <td>334-515-7487</td>\n",
              "      <td>TimNeudorf@cuvox.de</td>\n",
              "    </tr>\n",
              "  </tbody>\n",
              "</table>\n",
              "</div>"
            ],
            "text/plain": [
              "   patient_id assigned_sex  ...       phone_number              Email_address\n",
              "0           1       female  ...       951-719-9170   ZoeWellish@superrito.com\n",
              "1           2       female  ...  +1 (217) 569-3204       PamelaSHill@cuvox.de\n",
              "2           3         male  ...       402-363-6804       JaeMDebord@gustr.com\n",
              "3           4         male  ...  +1 (732) 636-8246  PhanBaLiem@jourrapide.com\n",
              "4           5         male  ...       334-515-7487        TimNeudorf@cuvox.de\n",
              "\n",
              "[5 rows x 16 columns]"
            ]
          },
          "metadata": {
            "tags": []
          },
          "execution_count": 151
        }
      ]
    },
    {
      "cell_type": "code",
      "metadata": {
        "id": "HG5TyF3rdP8K",
        "outputId": "0dc021b5-551a-440e-a983-8780dc13c698",
        "colab": {
          "base_uri": "https://localhost:8080/",
          "height": 408
        }
      },
      "source": [
        "patients_copy.info()"
      ],
      "execution_count": 152,
      "outputs": [
        {
          "output_type": "stream",
          "text": [
            "<class 'pandas.core.frame.DataFrame'>\n",
            "Int64Index: 486 entries, 0 to 502\n",
            "Data columns (total 16 columns):\n",
            " #   Column         Non-Null Count  Dtype   \n",
            "---  ------         --------------  -----   \n",
            " 0   patient_id     486 non-null    int64   \n",
            " 1   assigned_sex   486 non-null    category\n",
            " 2   given_name     486 non-null    object  \n",
            " 3   surname        486 non-null    object  \n",
            " 4   address        486 non-null    object  \n",
            " 5   city           486 non-null    object  \n",
            " 6   state          486 non-null    object  \n",
            " 7   zip_code       486 non-null    object  \n",
            " 8   country        486 non-null    object  \n",
            " 9   contact        486 non-null    object  \n",
            " 10  birthdate      486 non-null    object  \n",
            " 11  weight         486 non-null    float64 \n",
            " 12  height         486 non-null    int64   \n",
            " 13  bmi            486 non-null    float64 \n",
            " 14  phone_number   486 non-null    object  \n",
            " 15  Email_address  486 non-null    object  \n",
            "dtypes: category(1), float64(2), int64(2), object(11)\n",
            "memory usage: 61.3+ KB\n"
          ],
          "name": "stdout"
        }
      ]
    },
    {
      "cell_type": "code",
      "metadata": {
        "id": "01N_cCFefhJq"
      },
      "source": [
        "patients_copy.drop('contact',axis=1,inplace=True)"
      ],
      "execution_count": 153,
      "outputs": []
    },
    {
      "cell_type": "code",
      "metadata": {
        "id": "4Eow-zphdtQU",
        "outputId": "5e16231b-ed00-400e-af02-44fbf8a1f2a4",
        "colab": {
          "base_uri": "https://localhost:8080/",
          "height": 462
        }
      },
      "source": [
        "patients_copy.sample(5)"
      ],
      "execution_count": 154,
      "outputs": [
        {
          "output_type": "execute_result",
          "data": {
            "text/html": [
              "<div>\n",
              "<style scoped>\n",
              "    .dataframe tbody tr th:only-of-type {\n",
              "        vertical-align: middle;\n",
              "    }\n",
              "\n",
              "    .dataframe tbody tr th {\n",
              "        vertical-align: top;\n",
              "    }\n",
              "\n",
              "    .dataframe thead th {\n",
              "        text-align: right;\n",
              "    }\n",
              "</style>\n",
              "<table border=\"1\" class=\"dataframe\">\n",
              "  <thead>\n",
              "    <tr style=\"text-align: right;\">\n",
              "      <th></th>\n",
              "      <th>patient_id</th>\n",
              "      <th>assigned_sex</th>\n",
              "      <th>given_name</th>\n",
              "      <th>surname</th>\n",
              "      <th>address</th>\n",
              "      <th>city</th>\n",
              "      <th>state</th>\n",
              "      <th>zip_code</th>\n",
              "      <th>country</th>\n",
              "      <th>birthdate</th>\n",
              "      <th>weight</th>\n",
              "      <th>height</th>\n",
              "      <th>bmi</th>\n",
              "      <th>phone_number</th>\n",
              "      <th>Email_address</th>\n",
              "    </tr>\n",
              "  </thead>\n",
              "  <tbody>\n",
              "    <tr>\n",
              "      <th>140</th>\n",
              "      <td>141</td>\n",
              "      <td>male</td>\n",
              "      <td>John</td>\n",
              "      <td>Teichelmann</td>\n",
              "      <td>631 Isaacs Creek Road</td>\n",
              "      <td>Decatur</td>\n",
              "      <td>IL</td>\n",
              "      <td>62522</td>\n",
              "      <td>United States</td>\n",
              "      <td>03/12/1958</td>\n",
              "      <td>214.1</td>\n",
              "      <td>72</td>\n",
              "      <td>29.0</td>\n",
              "      <td>217-421-0935</td>\n",
              "      <td>JohnTeichelmann@dayrep.com</td>\n",
              "    </tr>\n",
              "    <tr>\n",
              "      <th>436</th>\n",
              "      <td>437</td>\n",
              "      <td>male</td>\n",
              "      <td>Sun</td>\n",
              "      <td>Ko</td>\n",
              "      <td>1962 Cabell Avenue</td>\n",
              "      <td>Washington</td>\n",
              "      <td>VA</td>\n",
              "      <td>20008</td>\n",
              "      <td>United States</td>\n",
              "      <td>08/07/1969</td>\n",
              "      <td>154.4</td>\n",
              "      <td>72</td>\n",
              "      <td>20.9</td>\n",
              "      <td>703-547-0551</td>\n",
              "      <td>SunKo@einrot.com</td>\n",
              "    </tr>\n",
              "    <tr>\n",
              "      <th>445</th>\n",
              "      <td>446</td>\n",
              "      <td>male</td>\n",
              "      <td>Maximus</td>\n",
              "      <td>Henzen</td>\n",
              "      <td>4334 Black Oak Hollow Road</td>\n",
              "      <td>San Jose</td>\n",
              "      <td>CA</td>\n",
              "      <td>95113</td>\n",
              "      <td>United States</td>\n",
              "      <td>14/11/1924</td>\n",
              "      <td>180.8</td>\n",
              "      <td>72</td>\n",
              "      <td>24.5</td>\n",
              "      <td>408-792-9489</td>\n",
              "      <td>MaximusHenzen@einrot.com</td>\n",
              "    </tr>\n",
              "    <tr>\n",
              "      <th>476</th>\n",
              "      <td>477</td>\n",
              "      <td>female</td>\n",
              "      <td>Berta</td>\n",
              "      <td>Napolitani</td>\n",
              "      <td>1815 Garrett Street</td>\n",
              "      <td>Philadelphia</td>\n",
              "      <td>PA</td>\n",
              "      <td>19108</td>\n",
              "      <td>United States</td>\n",
              "      <td>02/12/1958</td>\n",
              "      <td>153.3</td>\n",
              "      <td>63</td>\n",
              "      <td>27.2</td>\n",
              "      <td>267-972-3749</td>\n",
              "      <td>BertaNapolitani@rhyta.com</td>\n",
              "    </tr>\n",
              "    <tr>\n",
              "      <th>453</th>\n",
              "      <td>454</td>\n",
              "      <td>male</td>\n",
              "      <td>Wu</td>\n",
              "      <td>Sung</td>\n",
              "      <td>1072 Bird Spring Lane</td>\n",
              "      <td>Houston</td>\n",
              "      <td>TX</td>\n",
              "      <td>77077</td>\n",
              "      <td>United States</td>\n",
              "      <td>31/10/1993</td>\n",
              "      <td>181.3</td>\n",
              "      <td>74</td>\n",
              "      <td>23.3</td>\n",
              "      <td>281-556-4376</td>\n",
              "      <td>WuSung@gustr.com</td>\n",
              "    </tr>\n",
              "  </tbody>\n",
              "</table>\n",
              "</div>"
            ],
            "text/plain": [
              "     patient_id assigned_sex  ...  phone_number               Email_address\n",
              "140         141         male  ...  217-421-0935  JohnTeichelmann@dayrep.com\n",
              "436         437         male  ...  703-547-0551            SunKo@einrot.com\n",
              "445         446         male  ...  408-792-9489    MaximusHenzen@einrot.com\n",
              "476         477       female  ...  267-972-3749   BertaNapolitani@rhyta.com\n",
              "453         454         male  ...  281-556-4376            WuSung@gustr.com\n",
              "\n",
              "[5 rows x 15 columns]"
            ]
          },
          "metadata": {
            "tags": []
          },
          "execution_count": 154
        }
      ]
    },
    {
      "cell_type": "code",
      "metadata": {
        "id": "CY7U2VHHf0xR"
      },
      "source": [
        ""
      ],
      "execution_count": null,
      "outputs": []
    },
    {
      "cell_type": "markdown",
      "metadata": {
        "id": "5Mz4qcm0f1Uw"
      },
      "source": [
        " FINAL DATASETS AFTER DATA WRANGLING\n",
        " "
      ]
    },
    {
      "cell_type": "code",
      "metadata": {
        "id": "Fu-6cpX1frIO",
        "outputId": "397e6cd1-fc5b-4417-9fea-30f78a18bd6c",
        "colab": {
          "base_uri": "https://localhost:8080/",
          "height": 411
        }
      },
      "source": [
        "patients_copy.sample(5)"
      ],
      "execution_count": 155,
      "outputs": [
        {
          "output_type": "execute_result",
          "data": {
            "text/html": [
              "<div>\n",
              "<style scoped>\n",
              "    .dataframe tbody tr th:only-of-type {\n",
              "        vertical-align: middle;\n",
              "    }\n",
              "\n",
              "    .dataframe tbody tr th {\n",
              "        vertical-align: top;\n",
              "    }\n",
              "\n",
              "    .dataframe thead th {\n",
              "        text-align: right;\n",
              "    }\n",
              "</style>\n",
              "<table border=\"1\" class=\"dataframe\">\n",
              "  <thead>\n",
              "    <tr style=\"text-align: right;\">\n",
              "      <th></th>\n",
              "      <th>patient_id</th>\n",
              "      <th>assigned_sex</th>\n",
              "      <th>given_name</th>\n",
              "      <th>surname</th>\n",
              "      <th>address</th>\n",
              "      <th>city</th>\n",
              "      <th>state</th>\n",
              "      <th>zip_code</th>\n",
              "      <th>country</th>\n",
              "      <th>birthdate</th>\n",
              "      <th>weight</th>\n",
              "      <th>height</th>\n",
              "      <th>bmi</th>\n",
              "      <th>phone_number</th>\n",
              "      <th>Email_address</th>\n",
              "    </tr>\n",
              "  </thead>\n",
              "  <tbody>\n",
              "    <tr>\n",
              "      <th>337</th>\n",
              "      <td>338</td>\n",
              "      <td>male</td>\n",
              "      <td>León</td>\n",
              "      <td>Reynoso</td>\n",
              "      <td>385 Walnut Avenue</td>\n",
              "      <td>Eagle</td>\n",
              "      <td>ID</td>\n",
              "      <td>83642</td>\n",
              "      <td>United States</td>\n",
              "      <td>16/05/1931</td>\n",
              "      <td>209.4</td>\n",
              "      <td>65</td>\n",
              "      <td>34.8</td>\n",
              "      <td>208-830-2415</td>\n",
              "      <td>LeonReynosoRendon@einrot.com</td>\n",
              "    </tr>\n",
              "    <tr>\n",
              "      <th>52</th>\n",
              "      <td>53</td>\n",
              "      <td>female</td>\n",
              "      <td>Brianna</td>\n",
              "      <td>Lansell</td>\n",
              "      <td>1389 Nutters Barn Lane</td>\n",
              "      <td>Urbandale</td>\n",
              "      <td>IA</td>\n",
              "      <td>50322</td>\n",
              "      <td>United States</td>\n",
              "      <td>04/12/1950</td>\n",
              "      <td>202.0</td>\n",
              "      <td>62</td>\n",
              "      <td>36.9</td>\n",
              "      <td>515-727-9324</td>\n",
              "      <td>BriannaLansell@fleckens.hu</td>\n",
              "    </tr>\n",
              "    <tr>\n",
              "      <th>324</th>\n",
              "      <td>325</td>\n",
              "      <td>male</td>\n",
              "      <td>Kong</td>\n",
              "      <td>Lei</td>\n",
              "      <td>4508 Goldcliff Circle</td>\n",
              "      <td>Washington</td>\n",
              "      <td>DC</td>\n",
              "      <td>20009</td>\n",
              "      <td>United States</td>\n",
              "      <td>10/08/1937</td>\n",
              "      <td>165.2</td>\n",
              "      <td>72</td>\n",
              "      <td>22.4</td>\n",
              "      <td>202-238-2247</td>\n",
              "      <td>KongLei@fleckens.hu</td>\n",
              "    </tr>\n",
              "    <tr>\n",
              "      <th>122</th>\n",
              "      <td>123</td>\n",
              "      <td>male</td>\n",
              "      <td>Bội</td>\n",
              "      <td>Tạ</td>\n",
              "      <td>2389 Rubaiyat Road</td>\n",
              "      <td>Grand Rapids</td>\n",
              "      <td>MI</td>\n",
              "      <td>49503</td>\n",
              "      <td>United States</td>\n",
              "      <td>30/05/1929</td>\n",
              "      <td>211.0</td>\n",
              "      <td>69</td>\n",
              "      <td>31.2</td>\n",
              "      <td>231-607-3625</td>\n",
              "      <td>TaHaBoi@superrito.com</td>\n",
              "    </tr>\n",
              "    <tr>\n",
              "      <th>246</th>\n",
              "      <td>247</td>\n",
              "      <td>female</td>\n",
              "      <td>Meya</td>\n",
              "      <td>Sjöberg</td>\n",
              "      <td>1233 Liberty Avenue</td>\n",
              "      <td>Santa Ana</td>\n",
              "      <td>CA</td>\n",
              "      <td>92704</td>\n",
              "      <td>United States</td>\n",
              "      <td>15/05/1968</td>\n",
              "      <td>232.1</td>\n",
              "      <td>66</td>\n",
              "      <td>37.5</td>\n",
              "      <td>714-431-2746</td>\n",
              "      <td>MeyaSjoberg@cuvox.de</td>\n",
              "    </tr>\n",
              "  </tbody>\n",
              "</table>\n",
              "</div>"
            ],
            "text/plain": [
              "     patient_id assigned_sex  ...  phone_number                 Email_address\n",
              "337         338         male  ...  208-830-2415  LeonReynosoRendon@einrot.com\n",
              "52           53       female  ...  515-727-9324    BriannaLansell@fleckens.hu\n",
              "324         325         male  ...  202-238-2247           KongLei@fleckens.hu\n",
              "122         123         male  ...  231-607-3625         TaHaBoi@superrito.com\n",
              "246         247       female  ...  714-431-2746          MeyaSjoberg@cuvox.de\n",
              "\n",
              "[5 rows x 15 columns]"
            ]
          },
          "metadata": {
            "tags": []
          },
          "execution_count": 155
        }
      ]
    },
    {
      "cell_type": "code",
      "metadata": {
        "id": "jwTPtMSDynm3"
      },
      "source": [
        ""
      ],
      "execution_count": null,
      "outputs": []
    },
    {
      "cell_type": "code",
      "metadata": {
        "id": "SnisOe2NfyQ4",
        "outputId": "0bd0c829-4efd-470d-99b6-e3b179dfca2d",
        "colab": {
          "base_uri": "https://localhost:8080/",
          "height": 204
        }
      },
      "source": [
        "treatment_copy.sample(5)"
      ],
      "execution_count": 158,
      "outputs": [
        {
          "output_type": "execute_result",
          "data": {
            "text/html": [
              "<div>\n",
              "<style scoped>\n",
              "    .dataframe tbody tr th:only-of-type {\n",
              "        vertical-align: middle;\n",
              "    }\n",
              "\n",
              "    .dataframe tbody tr th {\n",
              "        vertical-align: top;\n",
              "    }\n",
              "\n",
              "    .dataframe thead th {\n",
              "        text-align: right;\n",
              "    }\n",
              "</style>\n",
              "<table border=\"1\" class=\"dataframe\">\n",
              "  <thead>\n",
              "    <tr style=\"text-align: right;\">\n",
              "      <th></th>\n",
              "      <th>given_name</th>\n",
              "      <th>surname</th>\n",
              "      <th>hba1c_start</th>\n",
              "      <th>hba1c_end</th>\n",
              "      <th>hba1c_change</th>\n",
              "      <th>treatment</th>\n",
              "      <th>start</th>\n",
              "      <th>end</th>\n",
              "      <th>adverse_reaction</th>\n",
              "    </tr>\n",
              "  </thead>\n",
              "  <tbody>\n",
              "    <tr>\n",
              "      <th>299</th>\n",
              "      <td>Alvin</td>\n",
              "      <td>Jackson</td>\n",
              "      <td>7.62</td>\n",
              "      <td>7.23</td>\n",
              "      <td>0.39</td>\n",
              "      <td>auralin</td>\n",
              "      <td>38</td>\n",
              "      <td>43</td>\n",
              "      <td>N</td>\n",
              "    </tr>\n",
              "    <tr>\n",
              "      <th>148</th>\n",
              "      <td>Benoît</td>\n",
              "      <td>Bonami</td>\n",
              "      <td>9.82</td>\n",
              "      <td>9.40</td>\n",
              "      <td>0.42</td>\n",
              "      <td>novodra</td>\n",
              "      <td>44</td>\n",
              "      <td>43</td>\n",
              "      <td>N</td>\n",
              "    </tr>\n",
              "    <tr>\n",
              "      <th>332</th>\n",
              "      <td>Sofia</td>\n",
              "      <td>Hermansen</td>\n",
              "      <td>8.90</td>\n",
              "      <td>8.57</td>\n",
              "      <td>0.33</td>\n",
              "      <td>novodra</td>\n",
              "      <td>34</td>\n",
              "      <td>34</td>\n",
              "      <td>Y</td>\n",
              "    </tr>\n",
              "    <tr>\n",
              "      <th>287</th>\n",
              "      <td>Dani</td>\n",
              "      <td>Antoun</td>\n",
              "      <td>7.73</td>\n",
              "      <td>7.34</td>\n",
              "      <td>0.39</td>\n",
              "      <td>auralin</td>\n",
              "      <td>36</td>\n",
              "      <td>44</td>\n",
              "      <td>N</td>\n",
              "    </tr>\n",
              "    <tr>\n",
              "      <th>313</th>\n",
              "      <td>Žarka</td>\n",
              "      <td>Rap</td>\n",
              "      <td>7.54</td>\n",
              "      <td>7.15</td>\n",
              "      <td>0.39</td>\n",
              "      <td>auralin</td>\n",
              "      <td>35</td>\n",
              "      <td>48</td>\n",
              "      <td>N</td>\n",
              "    </tr>\n",
              "  </tbody>\n",
              "</table>\n",
              "</div>"
            ],
            "text/plain": [
              "    given_name    surname  hba1c_start  ...  start  end adverse_reaction\n",
              "299      Alvin    Jackson         7.62  ...     38   43                N\n",
              "148     Benoît     Bonami         9.82  ...     44   43                N\n",
              "332      Sofia  Hermansen         8.90  ...     34   34                Y\n",
              "287       Dani     Antoun         7.73  ...     36   44                N\n",
              "313      Žarka        Rap         7.54  ...     35   48                N\n",
              "\n",
              "[5 rows x 9 columns]"
            ]
          },
          "metadata": {
            "tags": []
          },
          "execution_count": 158
        }
      ]
    },
    {
      "cell_type": "code",
      "metadata": {
        "id": "_B6KyZI1gHBI"
      },
      "source": [
        ""
      ],
      "execution_count": null,
      "outputs": []
    }
  ]
}